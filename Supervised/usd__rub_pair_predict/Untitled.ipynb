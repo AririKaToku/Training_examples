{
 "cells": [
  {
   "cell_type": "code",
   "execution_count": 1,
   "metadata": {},
   "outputs": [
    {
     "name": "stderr",
     "output_type": "stream",
     "text": [
      "Using TensorFlow backend.\n"
     ]
    }
   ],
   "source": [
    "import keras"
   ]
  },
  {
   "cell_type": "code",
   "execution_count": 2,
   "metadata": {},
   "outputs": [],
   "source": [
    "from keras.models import Sequential\n",
    "from keras.layers import Dense"
   ]
  },
  {
   "cell_type": "code",
   "execution_count": 3,
   "metadata": {},
   "outputs": [],
   "source": [
    "import numpy as np"
   ]
  },
  {
   "cell_type": "code",
   "execution_count": 4,
   "metadata": {},
   "outputs": [],
   "source": [
    "import pandas as pd\n",
    "import pickle"
   ]
  },
  {
   "cell_type": "code",
   "execution_count": 5,
   "metadata": {},
   "outputs": [],
   "source": [
    "import datetime"
   ]
  },
  {
   "cell_type": "code",
   "execution_count": 6,
   "metadata": {},
   "outputs": [],
   "source": [
    "usd = pd.read_csv('USD_RUB_60m.txt')\n",
    "brent = pd.read_csv('BRENT_60m.txt')\n",
    "american_finance = pd.read_csv('AMERICAN_FINANCE_60m.txt')\n",
    "rtsi = pd.read_csv('RTSI_60m.txt')"
   ]
  },
  {
   "cell_type": "code",
   "execution_count": 7,
   "metadata": {},
   "outputs": [],
   "source": [
    "rtsi_ds = rtsi[['<DATE>','<TIME>','<RTSI_HIGH>','<RTSI_LOW>']]\n",
    "usd_ds = usd[['<DATE>','<TIME>','<USD_HIGH>','<USD_LOW>']]\n",
    "brent_ds = brent[['<DATE>','<TIME>','<BRENT_HIGH>','<BRENT_LOW>']]\n",
    "american_finance_ds = american_finance[['<DATE>','<TIME>','<AF_HIGH>','<AF_LOW>']]"
   ]
  },
  {
   "cell_type": "code",
   "execution_count": 8,
   "metadata": {},
   "outputs": [],
   "source": [
    "total_ds = pd.merge(left = usd_ds, right = brent_ds, left_on=('<DATE>','<TIME>'), right_on=('<DATE>','<TIME>'), how='outer')"
   ]
  },
  {
   "cell_type": "code",
   "execution_count": 9,
   "metadata": {},
   "outputs": [],
   "source": [
    "total_ds = total_ds.merge(american_finance_ds, left_on=('<DATE>','<TIME>'), right_on=('<DATE>','<TIME>'), how = 'outer')"
   ]
  },
  {
   "cell_type": "code",
   "execution_count": 10,
   "metadata": {},
   "outputs": [],
   "source": [
    "total_ds = total_ds.merge(rtsi_ds, left_on=('<DATE>','<TIME>'), right_on=('<DATE>','<TIME>'), how='outer')"
   ]
  },
  {
   "cell_type": "code",
   "execution_count": 11,
   "metadata": {},
   "outputs": [],
   "source": [
    "total_ds['<WEEK_DAY>'] = list(map(lambda x: (datetime.datetime.strptime(str(x),'%Y%m%d').isoweekday()),total_ds['<DATE>']))"
   ]
  },
  {
   "cell_type": "code",
   "execution_count": 12,
   "metadata": {},
   "outputs": [],
   "source": [
    "total_ds['<WEEK_NUM>'] = list(map(lambda x: datetime.datetime.strptime(str(x),'%Y%m%d').isocalendar()[1], total_ds['<DATE>']))"
   ]
  },
  {
   "cell_type": "code",
   "execution_count": 13,
   "metadata": {},
   "outputs": [],
   "source": [
    "total_ds['<HOUR>'] = list(map(lambda x: int(x / 10000), total_ds['<TIME>']))"
   ]
  },
  {
   "cell_type": "code",
   "execution_count": 14,
   "metadata": {},
   "outputs": [],
   "source": [
    "total_ds['<MONTH>'] = list(map(lambda x: int(str(x)[4:6]), total_ds['<DATE>']))"
   ]
  },
  {
   "cell_type": "code",
   "execution_count": 15,
   "metadata": {},
   "outputs": [],
   "source": [
    "del total_ds['<DATE>']\n",
    "del total_ds['<TIME>']"
   ]
  },
  {
   "cell_type": "code",
   "execution_count": 16,
   "metadata": {},
   "outputs": [],
   "source": [
    "from sklearn.base import BaseEstimator, TransformerMixin"
   ]
  },
  {
   "cell_type": "code",
   "execution_count": 17,
   "metadata": {},
   "outputs": [],
   "source": [
    "class FillingFreeCellsLastValue(BaseEstimator, TransformerMixin):\n",
    "    def __init__(self, column_names):\n",
    "        self.column_names = column_names\n",
    "        return None\n",
    "    \n",
    "    def fit(self, X, y = None):\n",
    "        return self\n",
    "    \n",
    "    def transform(self, X, y = None):\n",
    "        for column in self.column_names:\n",
    "            list_ = X[column]\n",
    "            list_ = np.nan_to_num(list_, nan = 0)\n",
    "            tmp_val = np.median(list_[:100])\n",
    "            for num,element in enumerate(list_):\n",
    "                if element > 0:\n",
    "                    tmp_val = element\n",
    "                else:\n",
    "                    list_[num] = tmp_val\n",
    "            X[column] = list_\n",
    "        return X"
   ]
  },
  {
   "cell_type": "code",
   "execution_count": 18,
   "metadata": {},
   "outputs": [],
   "source": [
    "columns = ['<USD_HIGH>', '<USD_LOW>', \n",
    "           '<BRENT_HIGH>', '<BRENT_LOW>',\n",
    "           '<AF_HIGH>', '<AF_LOW>',\n",
    "           '<RTSI_HIGH>', '<RTSI_LOW>']"
   ]
  },
  {
   "cell_type": "code",
   "execution_count": 19,
   "metadata": {},
   "outputs": [
    {
     "data": {
      "text/html": [
       "<div>\n",
       "<style scoped>\n",
       "    .dataframe tbody tr th:only-of-type {\n",
       "        vertical-align: middle;\n",
       "    }\n",
       "\n",
       "    .dataframe tbody tr th {\n",
       "        vertical-align: top;\n",
       "    }\n",
       "\n",
       "    .dataframe thead th {\n",
       "        text-align: right;\n",
       "    }\n",
       "</style>\n",
       "<table border=\"1\" class=\"dataframe\">\n",
       "  <thead>\n",
       "    <tr style=\"text-align: right;\">\n",
       "      <th></th>\n",
       "      <th>&lt;USD_HIGH&gt;</th>\n",
       "      <th>&lt;USD_LOW&gt;</th>\n",
       "      <th>&lt;BRENT_HIGH&gt;</th>\n",
       "      <th>&lt;BRENT_LOW&gt;</th>\n",
       "      <th>&lt;AF_HIGH&gt;</th>\n",
       "      <th>&lt;AF_LOW&gt;</th>\n",
       "      <th>&lt;RTSI_HIGH&gt;</th>\n",
       "      <th>&lt;RTSI_LOW&gt;</th>\n",
       "      <th>&lt;WEEK_DAY&gt;</th>\n",
       "      <th>&lt;WEEK_NUM&gt;</th>\n",
       "      <th>&lt;HOUR&gt;</th>\n",
       "      <th>&lt;MONTH&gt;</th>\n",
       "    </tr>\n",
       "  </thead>\n",
       "  <tbody>\n",
       "    <tr>\n",
       "      <th>0</th>\n",
       "      <td>63.6750</td>\n",
       "      <td>63.6750</td>\n",
       "      <td>48.955</td>\n",
       "      <td>48.765</td>\n",
       "      <td>249.597468</td>\n",
       "      <td>249.279047</td>\n",
       "      <td>0.00</td>\n",
       "      <td>0.00</td>\n",
       "      <td>7</td>\n",
       "      <td>44</td>\n",
       "      <td>23</td>\n",
       "      <td>11</td>\n",
       "    </tr>\n",
       "    <tr>\n",
       "      <th>1</th>\n",
       "      <td>64.0934</td>\n",
       "      <td>62.3727</td>\n",
       "      <td>48.955</td>\n",
       "      <td>48.765</td>\n",
       "      <td>249.597468</td>\n",
       "      <td>249.279047</td>\n",
       "      <td>0.00</td>\n",
       "      <td>0.00</td>\n",
       "      <td>1</td>\n",
       "      <td>45</td>\n",
       "      <td>0</td>\n",
       "      <td>11</td>\n",
       "    </tr>\n",
       "    <tr>\n",
       "      <th>2</th>\n",
       "      <td>64.5614</td>\n",
       "      <td>64.0450</td>\n",
       "      <td>48.955</td>\n",
       "      <td>48.765</td>\n",
       "      <td>246.563256</td>\n",
       "      <td>246.542204</td>\n",
       "      <td>0.00</td>\n",
       "      <td>0.00</td>\n",
       "      <td>1</td>\n",
       "      <td>45</td>\n",
       "      <td>1</td>\n",
       "      <td>11</td>\n",
       "    </tr>\n",
       "    <tr>\n",
       "      <th>3</th>\n",
       "      <td>64.5622</td>\n",
       "      <td>63.5524</td>\n",
       "      <td>48.955</td>\n",
       "      <td>48.765</td>\n",
       "      <td>246.568520</td>\n",
       "      <td>246.542204</td>\n",
       "      <td>0.00</td>\n",
       "      <td>0.00</td>\n",
       "      <td>1</td>\n",
       "      <td>45</td>\n",
       "      <td>2</td>\n",
       "      <td>11</td>\n",
       "    </tr>\n",
       "    <tr>\n",
       "      <th>4</th>\n",
       "      <td>64.5603</td>\n",
       "      <td>62.6139</td>\n",
       "      <td>49.500</td>\n",
       "      <td>49.370</td>\n",
       "      <td>246.568520</td>\n",
       "      <td>246.557993</td>\n",
       "      <td>0.00</td>\n",
       "      <td>0.00</td>\n",
       "      <td>1</td>\n",
       "      <td>45</td>\n",
       "      <td>3</td>\n",
       "      <td>11</td>\n",
       "    </tr>\n",
       "    <tr>\n",
       "      <th>...</th>\n",
       "      <td>...</td>\n",
       "      <td>...</td>\n",
       "      <td>...</td>\n",
       "      <td>...</td>\n",
       "      <td>...</td>\n",
       "      <td>...</td>\n",
       "      <td>...</td>\n",
       "      <td>...</td>\n",
       "      <td>...</td>\n",
       "      <td>...</td>\n",
       "      <td>...</td>\n",
       "      <td>...</td>\n",
       "    </tr>\n",
       "    <tr>\n",
       "      <th>28552</th>\n",
       "      <td>63.8336</td>\n",
       "      <td>63.7580</td>\n",
       "      <td>59.360</td>\n",
       "      <td>59.150</td>\n",
       "      <td>385.100154</td>\n",
       "      <td>385.073838</td>\n",
       "      <td>1069.29</td>\n",
       "      <td>1065.60</td>\n",
       "      <td>6</td>\n",
       "      <td>52</td>\n",
       "      <td>17</td>\n",
       "      <td>12</td>\n",
       "    </tr>\n",
       "    <tr>\n",
       "      <th>28553</th>\n",
       "      <td>63.8336</td>\n",
       "      <td>63.7580</td>\n",
       "      <td>59.360</td>\n",
       "      <td>59.150</td>\n",
       "      <td>385.100154</td>\n",
       "      <td>385.073838</td>\n",
       "      <td>1069.37</td>\n",
       "      <td>1066.87</td>\n",
       "      <td>6</td>\n",
       "      <td>52</td>\n",
       "      <td>18</td>\n",
       "      <td>12</td>\n",
       "    </tr>\n",
       "    <tr>\n",
       "      <th>28554</th>\n",
       "      <td>63.8336</td>\n",
       "      <td>63.7580</td>\n",
       "      <td>59.360</td>\n",
       "      <td>59.150</td>\n",
       "      <td>385.100154</td>\n",
       "      <td>385.073838</td>\n",
       "      <td>1068.72</td>\n",
       "      <td>1066.11</td>\n",
       "      <td>6</td>\n",
       "      <td>52</td>\n",
       "      <td>19</td>\n",
       "      <td>12</td>\n",
       "    </tr>\n",
       "    <tr>\n",
       "      <th>28555</th>\n",
       "      <td>63.8336</td>\n",
       "      <td>63.7580</td>\n",
       "      <td>59.360</td>\n",
       "      <td>59.150</td>\n",
       "      <td>385.100154</td>\n",
       "      <td>385.073838</td>\n",
       "      <td>1547.20</td>\n",
       "      <td>1544.07</td>\n",
       "      <td>3</td>\n",
       "      <td>52</td>\n",
       "      <td>18</td>\n",
       "      <td>12</td>\n",
       "    </tr>\n",
       "    <tr>\n",
       "      <th>28556</th>\n",
       "      <td>63.8336</td>\n",
       "      <td>63.7580</td>\n",
       "      <td>59.360</td>\n",
       "      <td>59.150</td>\n",
       "      <td>385.100154</td>\n",
       "      <td>385.073838</td>\n",
       "      <td>1544.66</td>\n",
       "      <td>1542.95</td>\n",
       "      <td>3</td>\n",
       "      <td>52</td>\n",
       "      <td>19</td>\n",
       "      <td>12</td>\n",
       "    </tr>\n",
       "  </tbody>\n",
       "</table>\n",
       "<p>28557 rows × 12 columns</p>\n",
       "</div>"
      ],
      "text/plain": [
       "       <USD_HIGH>  <USD_LOW>  <BRENT_HIGH>  <BRENT_LOW>   <AF_HIGH>  \\\n",
       "0         63.6750    63.6750        48.955       48.765  249.597468   \n",
       "1         64.0934    62.3727        48.955       48.765  249.597468   \n",
       "2         64.5614    64.0450        48.955       48.765  246.563256   \n",
       "3         64.5622    63.5524        48.955       48.765  246.568520   \n",
       "4         64.5603    62.6139        49.500       49.370  246.568520   \n",
       "...           ...        ...           ...          ...         ...   \n",
       "28552     63.8336    63.7580        59.360       59.150  385.100154   \n",
       "28553     63.8336    63.7580        59.360       59.150  385.100154   \n",
       "28554     63.8336    63.7580        59.360       59.150  385.100154   \n",
       "28555     63.8336    63.7580        59.360       59.150  385.100154   \n",
       "28556     63.8336    63.7580        59.360       59.150  385.100154   \n",
       "\n",
       "         <AF_LOW>  <RTSI_HIGH>  <RTSI_LOW>  <WEEK_DAY>  <WEEK_NUM>  <HOUR>  \\\n",
       "0      249.279047         0.00        0.00           7          44      23   \n",
       "1      249.279047         0.00        0.00           1          45       0   \n",
       "2      246.542204         0.00        0.00           1          45       1   \n",
       "3      246.542204         0.00        0.00           1          45       2   \n",
       "4      246.557993         0.00        0.00           1          45       3   \n",
       "...           ...          ...         ...         ...         ...     ...   \n",
       "28552  385.073838      1069.29     1065.60           6          52      17   \n",
       "28553  385.073838      1069.37     1066.87           6          52      18   \n",
       "28554  385.073838      1068.72     1066.11           6          52      19   \n",
       "28555  385.073838      1547.20     1544.07           3          52      18   \n",
       "28556  385.073838      1544.66     1542.95           3          52      19   \n",
       "\n",
       "       <MONTH>  \n",
       "0           11  \n",
       "1           11  \n",
       "2           11  \n",
       "3           11  \n",
       "4           11  \n",
       "...        ...  \n",
       "28552       12  \n",
       "28553       12  \n",
       "28554       12  \n",
       "28555       12  \n",
       "28556       12  \n",
       "\n",
       "[28557 rows x 12 columns]"
      ]
     },
     "execution_count": 19,
     "metadata": {},
     "output_type": "execute_result"
    }
   ],
   "source": [
    "FillingFreeCellsLastValue(columns).fit_transform(total_ds)"
   ]
  },
  {
   "cell_type": "code",
   "execution_count": 20,
   "metadata": {},
   "outputs": [
    {
     "name": "stdout",
     "output_type": "stream",
     "text": [
      "<class 'pandas.core.frame.DataFrame'>\n",
      "Int64Index: 28557 entries, 0 to 28556\n",
      "Data columns (total 12 columns):\n",
      " #   Column        Non-Null Count  Dtype  \n",
      "---  ------        --------------  -----  \n",
      " 0   <USD_HIGH>    28557 non-null  float64\n",
      " 1   <USD_LOW>     28557 non-null  float64\n",
      " 2   <BRENT_HIGH>  28557 non-null  float64\n",
      " 3   <BRENT_LOW>   28557 non-null  float64\n",
      " 4   <AF_HIGH>     28557 non-null  float64\n",
      " 5   <AF_LOW>      28557 non-null  float64\n",
      " 6   <RTSI_HIGH>   28557 non-null  float64\n",
      " 7   <RTSI_LOW>    28557 non-null  float64\n",
      " 8   <WEEK_DAY>    28557 non-null  int64  \n",
      " 9   <WEEK_NUM>    28557 non-null  int64  \n",
      " 10  <HOUR>        28557 non-null  int64  \n",
      " 11  <MONTH>       28557 non-null  int64  \n",
      "dtypes: float64(8), int64(4)\n",
      "memory usage: 2.8 MB\n"
     ]
    }
   ],
   "source": [
    "total_ds.info()"
   ]
  },
  {
   "cell_type": "code",
   "execution_count": 21,
   "metadata": {},
   "outputs": [],
   "source": [
    "train_data = np.array(total_ds)"
   ]
  },
  {
   "cell_type": "code",
   "execution_count": 22,
   "metadata": {},
   "outputs": [],
   "source": [
    "ds_x = []\n",
    "ds_y_up = []\n",
    "ds_y_down = []\n",
    "\n",
    "days_hist= 20\n",
    "days_predict = 7\n",
    "hours_in_day = 24\n",
    "num_history_values = hours_in_day * days_hist\n",
    "num_predicted_value = hours_in_day * days_predict\n",
    "\n",
    "threshold = 4\n",
    "\n",
    "\n",
    "for num, line in enumerate(train_data[:-(num_history_values+num_predicted_value)]):\n",
    "    ds_x.append(train_data[num:num+num_history_values].reshape((train_data[num:num+num_history_values].size)))\n",
    "\n",
    "for num, line in enumerate(train_data[num_history_values:-num_predicted_value]):\n",
    "    x = train_data[num_history_values+num,0]\n",
    "    y = np.max(train_data[num_history_values+num:num_history_values+num+num_predicted_value,0])\n",
    "    res = (y/x-1)*100\n",
    "    if res >= threshold:\n",
    "        ds_y_up.append(1)\n",
    "    else:\n",
    "        ds_y_up.append(0)\n",
    "        \n",
    "for num, line in enumerate(train_data[num_history_values:-num_predicted_value]):\n",
    "    x = train_data[num_history_values+num,0]\n",
    "    y = np.min(train_data[num_history_values+num:num_history_values+num+num_predicted_value,0])\n",
    "    res = (y/x-1)*100\n",
    "    if res < -threshold:\n",
    "        ds_y_down.append(1)\n",
    "    else:\n",
    "        ds_y_down.append(0)\n",
    "        \n",
    "\n",
    "# for num in range(len(train_data[:-num_predicted_value-num_history_values])):\n",
    "#     ds_hist.append(train_data[num+num_history_values:num+num_history_values+num_predicted_value,0])"
   ]
  },
  {
   "cell_type": "code",
   "execution_count": 23,
   "metadata": {},
   "outputs": [],
   "source": [
    "def get_slice(x,idx):\n",
    "    return x[idx+num_history_values:idx+num_history_values+num_predicted_value,0]"
   ]
  },
  {
   "cell_type": "code",
   "execution_count": 24,
   "metadata": {},
   "outputs": [],
   "source": [
    "ds_hist = list(map(lambda a:get_slice(train_data,a), list(range(len(train_data[:-num_predicted_value-num_history_values])))))"
   ]
  },
  {
   "cell_type": "code",
   "execution_count": 25,
   "metadata": {},
   "outputs": [
    {
     "name": "stdout",
     "output_type": "stream",
     "text": [
      "percent up 4%= 8.430972087856963\n",
      "percent down 4%= 4.199362212906231\n"
     ]
    }
   ],
   "source": [
    "# \n",
    "counter = 0\n",
    "idxs = []\n",
    "for idx,i in enumerate(ds_y_up):\n",
    "    if i == 1:\n",
    "        counter += 1\n",
    "        idxs.append(idx)\n",
    "print('percent up '+str(threshold)+'%=',counter*100/len(ds_y_up))\n",
    "counter = 0\n",
    "idxs = []\n",
    "for idx,i in enumerate(ds_y_down):\n",
    "    if i == 1:\n",
    "        counter += 1\n",
    "        idxs.append(idx)\n",
    "print('percent down '+str(threshold)+'%=',counter*100/len(ds_y_down))"
   ]
  },
  {
   "cell_type": "code",
   "execution_count": 26,
   "metadata": {},
   "outputs": [],
   "source": [
    "import matplotlib.pyplot as plt"
   ]
  },
  {
   "cell_type": "code",
   "execution_count": 27,
   "metadata": {},
   "outputs": [],
   "source": [
    "def get_usd_course(x):\n",
    "    return np.array(x).reshape(-1,12)[:,0]"
   ]
  },
  {
   "cell_type": "code",
   "execution_count": 28,
   "metadata": {},
   "outputs": [],
   "source": [
    "def plot_graph(ds_x, ds_y, idx):\n",
    "    plt.plot(get_usd_course(ds_x[2]))\n",
    "    plt.plot(range(num_history_values,num_history_values+num_predicted_value),ds_hist[2], color = 'red')"
   ]
  },
  {
   "cell_type": "code",
   "execution_count": 29,
   "metadata": {},
   "outputs": [
    {
     "data": {
      "text/plain": [
       "[<matplotlib.lines.Line2D at 0x235c6380a88>]"
      ]
     },
     "execution_count": 29,
     "metadata": {},
     "output_type": "execute_result"
    },
    {
     "data": {
      "image/png": "[encoded data removed]",
      "text/plain": [
       "<Figure size 432x288 with 1 Axes>"
      ]
     },
     "metadata": {
      "needs_background": "light"
     },
     "output_type": "display_data"
    }
   ],
   "source": [
    "idx = 3550\n",
    "plt.plot(get_usd_course(ds_x[idx]))\n",
    "plt.plot(range(num_history_values,num_history_values+num_predicted_value),ds_hist[idx], color = 'red')"
   ]
  },
  {
   "cell_type": "code",
   "execution_count": 30,
   "metadata": {},
   "outputs": [],
   "source": [
    "ds_x = np.asarray(ds_x, dtype = np.float16)\n",
    "ds_y_up = np.asarray(ds_y_up, dtype = np.bool).reshape(-1,1)\n",
    "ds_y_down = np.asarray(ds_y_down, dtype = np.bool).reshape(-1,1)\n",
    "ds_hist = np.asarray(ds_hist, dtype = np.float16)"
   ]
  },
  {
   "cell_type": "code",
   "execution_count": 31,
   "metadata": {},
   "outputs": [],
   "source": [
    "ds_y_total = np.hstack((ds_y_up,ds_y_down, ds_hist))"
   ]
  },
  {
   "cell_type": "markdown",
   "metadata": {},
   "source": [
    "# Shuffle dataset"
   ]
  },
  {
   "cell_type": "code",
   "execution_count": 32,
   "metadata": {},
   "outputs": [],
   "source": [
    "idx = np.array(range(len(ds_y_up)))"
   ]
  },
  {
   "cell_type": "code",
   "execution_count": 33,
   "metadata": {},
   "outputs": [],
   "source": [
    "np.random.shuffle(idx)"
   ]
  },
  {
   "cell_type": "code",
   "execution_count": 34,
   "metadata": {},
   "outputs": [],
   "source": [
    "ds_x = ds_x[idx]\n",
    "ds_y_total = ds_y_total[idx]"
   ]
  },
  {
   "cell_type": "markdown",
   "metadata": {},
   "source": [
    "# split total dataset at train and test set's"
   ]
  },
  {
   "cell_type": "code",
   "execution_count": 35,
   "metadata": {},
   "outputs": [],
   "source": [
    "from sklearn.model_selection import train_test_split"
   ]
  },
  {
   "cell_type": "code",
   "execution_count": 36,
   "metadata": {},
   "outputs": [],
   "source": [
    "ds_x_train, ds_x_test, ds_y_train, ds_y_test =  train_test_split(ds_x, ds_y_total, test_size = 0.2, random_state = 42)"
   ]
  },
  {
   "cell_type": "code",
   "execution_count": 37,
   "metadata": {},
   "outputs": [],
   "source": [
    "ds_x_train, ds_x_val, ds_y_train, ds_y_val = train_test_split(ds_x_train, ds_y_train, test_size = 0.2, random_state = 42)"
   ]
  },
  {
   "cell_type": "code",
   "execution_count": 38,
   "metadata": {},
   "outputs": [],
   "source": [
    "def plot_graph(idx, use_train_set = True):\n",
    "    if use_train_set:\n",
    "        ds_y = ds_y_train\n",
    "        ds_x = ds_x_train\n",
    "    else:\n",
    "        ds_y = ds_y_test\n",
    "        ds_x = ds_x_test\n",
    "    plt.figure(figsize=(20,5))\n",
    "    plt.plot(get_usd_course(ds_x[idx]), color = 'black', label = 'history')\n",
    "    if ds_y[idx,0] == 1:\n",
    "        color = 'red'\n",
    "    else:\n",
    "        color = 'blue'\n",
    "    plt.plot(range(num_history_values,num_history_values+num_predicted_value),ds_y[idx,2:], color = color, label = 'future')   \n",
    "    \n",
    "    y = plt.ylim()[0]\n",
    "    plt.text(0,y,'red = рост >4%, blue = не вырастет больше 4%')\n",
    "#     plt.text(0,y - 2, '')\n",
    "    plt.legend()"
   ]
  },
  {
   "cell_type": "code",
   "execution_count": 39,
   "metadata": {
    "scrolled": false
   },
   "outputs": [
    {
     "data": {
      "image/png": "[encoded data removed]",
      "text/plain": [
       "<Figure size 1440x360 with 1 Axes>"
      ]
     },
     "metadata": {
      "needs_background": "light"
     },
     "output_type": "display_data"
    },
    {
     "data": {
      "image/png": "[encoded data removed]",
      "text/plain": [
       "<Figure size 1440x360 with 1 Axes>"
      ]
     },
     "metadata": {
      "needs_background": "light"
     },
     "output_type": "display_data"
    }
   ],
   "source": [
    "plot_graph(609)\n",
    "plot_graph(610)"
   ]
  },
  {
   "cell_type": "markdown",
   "metadata": {},
   "source": [
    "# make data-scaling"
   ]
  },
  {
   "cell_type": "code",
   "execution_count": 40,
   "metadata": {},
   "outputs": [],
   "source": [
    "from sklearn.preprocessing import StandardScaler"
   ]
  },
  {
   "cell_type": "code",
   "execution_count": 41,
   "metadata": {},
   "outputs": [
    {
     "name": "stderr",
     "output_type": "stream",
     "text": [
      "C:\\Anaconda3\\lib\\site-packages\\numpy\\lib\\nanfunctions.py:1546: RuntimeWarning: overflow encountered in multiply\n",
      "  sqr = np.multiply(arr, arr, out=arr)\n"
     ]
    }
   ],
   "source": [
    "ds_x_val = StandardScaler().fit_transform(ds_x_val)"
   ]
  },
  {
   "cell_type": "code",
   "execution_count": 42,
   "metadata": {},
   "outputs": [
    {
     "name": "stderr",
     "output_type": "stream",
     "text": [
      "C:\\Anaconda3\\lib\\site-packages\\numpy\\lib\\nanfunctions.py:1546: RuntimeWarning: overflow encountered in multiply\n",
      "  sqr = np.multiply(arr, arr, out=arr)\n"
     ]
    }
   ],
   "source": [
    "ds_x_train = StandardScaler().fit_transform(ds_x_train)"
   ]
  },
  {
   "cell_type": "code",
   "execution_count": 43,
   "metadata": {},
   "outputs": [
    {
     "name": "stderr",
     "output_type": "stream",
     "text": [
      "C:\\Anaconda3\\lib\\site-packages\\numpy\\lib\\nanfunctions.py:1546: RuntimeWarning: overflow encountered in multiply\n",
      "  sqr = np.multiply(arr, arr, out=arr)\n"
     ]
    }
   ],
   "source": [
    "ds_x_test = StandardScaler().fit_transform(ds_x_test)"
   ]
  },
  {
   "cell_type": "markdown",
   "metadata": {},
   "source": [
    "# make keras model"
   ]
  },
  {
   "cell_type": "code",
   "execution_count": 44,
   "metadata": {},
   "outputs": [],
   "source": [
    "from keras import metrics"
   ]
  },
  {
   "cell_type": "code",
   "execution_count": 65,
   "metadata": {},
   "outputs": [],
   "source": [
    "model = Sequential()"
   ]
  },
  {
   "cell_type": "code",
   "execution_count": 66,
   "metadata": {},
   "outputs": [],
   "source": [
    "model.add(Dense(3000,input_dim = 5760, activation = 'relu'))\n",
    "model.add(Dense(1000,activation = 'relu'))\n",
    "model.add(Dense(100,activation = 'relu'))\n",
    "model.add(Dense(1, activation= 'sigmoid'))"
   ]
  },
  {
   "cell_type": "code",
   "execution_count": 67,
   "metadata": {},
   "outputs": [],
   "source": [
    "model.compile(optimizer = 'Adam',\n",
    "              loss = 'binary_crossentropy',\n",
    "              metrics= ['accuracy']\n",
    "              \n",
    "             )"
   ]
  },
  {
   "cell_type": "code",
   "execution_count": 77,
   "metadata": {},
   "outputs": [
    {
     "name": "stdout",
     "output_type": "stream",
     "text": [
      "Train on 17861 samples, validate on 4466 samples\n",
      "Epoch 1/20\n",
      "17861/17861 [==============================] - 26s 1ms/step - loss: 0.0410 - accuracy: 0.9853 - val_loss: 0.0595 - val_accuracy: 0.9781\n",
      "Epoch 2/20\n",
      "17861/17861 [==============================] - 26s 1ms/step - loss: 0.0389 - accuracy: 0.9855 - val_loss: 0.0573 - val_accuracy: 0.9794\n",
      "Epoch 3/20\n",
      "17861/17861 [==============================] - 26s 1ms/step - loss: 0.0378 - accuracy: 0.9874 - val_loss: 0.0632 - val_accuracy: 0.9803\n",
      "Epoch 4/20\n",
      "17861/17861 [==============================] - 26s 1ms/step - loss: 0.0302 - accuracy: 0.9880 - val_loss: 0.0594 - val_accuracy: 0.9805\n",
      "Epoch 5/20\n",
      "17861/17861 [==============================] - 26s 1ms/step - loss: 0.0249 - accuracy: 0.9906 - val_loss: 0.0639 - val_accuracy: 0.9803\n",
      "Epoch 6/20\n",
      "17861/17861 [==============================] - 26s 1ms/step - loss: 0.0274 - accuracy: 0.9896 - val_loss: 0.0721 - val_accuracy: 0.9783\n",
      "Epoch 7/20\n",
      "17861/17861 [==============================] - 26s 1ms/step - loss: 0.0288 - accuracy: 0.9898 - val_loss: 0.0514 - val_accuracy: 0.9843\n",
      "Epoch 8/20\n",
      "17861/17861 [==============================] - 26s 1ms/step - loss: 0.0362 - accuracy: 0.9868 - val_loss: 0.0602 - val_accuracy: 0.9812\n",
      "Epoch 9/20\n",
      "17861/17861 [==============================] - 26s 1ms/step - loss: 0.0298 - accuracy: 0.9899 - val_loss: 0.0552 - val_accuracy: 0.9859\n",
      "Epoch 10/20\n",
      "17861/17861 [==============================] - 26s 1ms/step - loss: 0.0212 - accuracy: 0.9931 - val_loss: 0.0573 - val_accuracy: 0.9801\n",
      "Epoch 11/20\n",
      "17861/17861 [==============================] - 26s 1ms/step - loss: 0.0306 - accuracy: 0.9890 - val_loss: 0.0933 - val_accuracy: 0.9651\n",
      "Epoch 12/20\n",
      "17861/17861 [==============================] - 26s 1ms/step - loss: 0.0378 - accuracy: 0.9857 - val_loss: 0.0602 - val_accuracy: 0.9803\n",
      "Epoch 13/20\n",
      "17861/17861 [==============================] - 26s 1ms/step - loss: 0.0271 - accuracy: 0.9901 - val_loss: 0.0564 - val_accuracy: 0.9863\n",
      "Epoch 14/20\n",
      "17861/17861 [==============================] - 26s 1ms/step - loss: 0.0251 - accuracy: 0.9909 - val_loss: 0.0712 - val_accuracy: 0.9722\n",
      "Epoch 15/20\n",
      "17861/17861 [==============================] - 26s 1ms/step - loss: 0.0169 - accuracy: 0.9942 - val_loss: 0.0470 - val_accuracy: 0.9854\n",
      "Epoch 16/20\n",
      "17861/17861 [==============================] - 26s 1ms/step - loss: 0.0210 - accuracy: 0.9920 - val_loss: 0.0612 - val_accuracy: 0.9774\n",
      "Epoch 17/20\n",
      "17861/17861 [==============================] - 27s 1ms/step - loss: 0.0191 - accuracy: 0.9929 - val_loss: 0.0589 - val_accuracy: 0.9807\n",
      "Epoch 18/20\n",
      "17861/17861 [==============================] - 26s 1ms/step - loss: 0.0166 - accuracy: 0.9941 - val_loss: 0.0545 - val_accuracy: 0.9823\n",
      "Epoch 19/20\n",
      "17861/17861 [==============================] - 26s 1ms/step - loss: 0.0331 - accuracy: 0.9885 - val_loss: 0.0869 - val_accuracy: 0.9738\n",
      "Epoch 20/20\n",
      "17861/17861 [==============================] - 26s 1ms/step - loss: 0.0292 - accuracy: 0.9895 - val_loss: 0.0537 - val_accuracy: 0.9810\n"
     ]
    },
    {
     "data": {
      "text/plain": [
       "<keras.callbacks.callbacks.History at 0x235c940c508>"
      ]
     },
     "execution_count": 77,
     "metadata": {},
     "output_type": "execute_result"
    }
   ],
   "source": [
    "model.fit(ds_x_train,\n",
    "          ds_y_train[:,0],\n",
    "          batch_size=128,\n",
    "          epochs=20,\n",
    "          validation_data=(ds_x_val, ds_y_val[:,0]))"
   ]
  },
  {
   "cell_type": "code",
   "execution_count": 57,
   "metadata": {},
   "outputs": [],
   "source": [
    "from sklearn.metrics import f1_score, cohen_kappa_score"
   ]
  },
  {
   "cell_type": "code",
   "execution_count": 78,
   "metadata": {},
   "outputs": [],
   "source": [
    "predictions = model.predict(ds_x_test)"
   ]
  },
  {
   "cell_type": "code",
   "execution_count": 79,
   "metadata": {},
   "outputs": [],
   "source": [
    "nulls = predictions > 0.5"
   ]
  },
  {
   "cell_type": "code",
   "execution_count": 80,
   "metadata": {},
   "outputs": [
    {
     "data": {
      "text/plain": [
       "array([[0.],\n",
       "       [0.],\n",
       "       [0.],\n",
       "       ...,\n",
       "       [0.],\n",
       "       [0.],\n",
       "       [0.]], dtype=float32)"
      ]
     },
     "execution_count": 80,
     "metadata": {},
     "output_type": "execute_result"
    }
   ],
   "source": [
    "nulls.astype(np.float32)"
   ]
  },
  {
   "cell_type": "code",
   "execution_count": 81,
   "metadata": {},
   "outputs": [
    {
     "data": {
      "text/plain": [
       "0.8877118644067797"
      ]
     },
     "execution_count": 81,
     "metadata": {},
     "output_type": "execute_result"
    }
   ],
   "source": [
    "f1_score(ds_y_test[:,0], nulls.reshape(-1))"
   ]
  },
  {
   "cell_type": "code",
   "execution_count": 82,
   "metadata": {},
   "outputs": [
    {
     "data": {
      "text/plain": [
       "0.877362467723529"
      ]
     },
     "execution_count": 82,
     "metadata": {},
     "output_type": "execute_result"
    }
   ],
   "source": [
    "cohen_kappa_score(ds_y_test[:,0], nulls.reshape(-1))"
   ]
  },
  {
   "cell_type": "code",
   "execution_count": 83,
   "metadata": {},
   "outputs": [
    {
     "name": "stdout",
     "output_type": "stream",
     "text": [
      "5582/5582 [==============================] - 2s 361us/step\n",
      "[0.05507735935274985, 0.981010377407074]\n"
     ]
    }
   ],
   "source": [
    "print(model.evaluate(ds_x_test, ds_y_test[:,0]))"
   ]
  },
  {
   "cell_type": "code",
   "execution_count": 84,
   "metadata": {},
   "outputs": [
    {
     "data": {
      "text/plain": [
       "array([ 0.  ,  0.  , 59.4 , 59.4 , 59.4 , 59.4 , 59.4 , 59.44, 59.56,\n",
       "       59.84, 59.75, 59.7 , 59.78, 59.84, 59.8 , 60.03, 60.16, 60.16,\n",
       "       60.25, 60.2 , 60.22, 60.25, 60.53, 60.5 , 60.38, 60.38, 60.4 ,\n",
       "       60.38, 60.4 , 60.38, 60.4 , 60.47, 60.47, 60.3 , 60.34, 60.34,\n",
       "       60.44, 60.38, 60.25, 60.28, 60.28, 60.25, 60.12, 60.12, 60.22,\n",
       "       60.22, 60.25, 60.25, 60.22, 60.22, 60.22, 60.22, 60.22, 60.22,\n",
       "       60.2 , 60.2 , 60.1 , 60.  , 59.94, 59.97, 60.03, 60.03, 59.97,\n",
       "       59.84, 59.84, 59.7 , 59.7 , 59.62, 59.66, 59.66, 59.72, 59.7 ,\n",
       "       59.7 , 59.7 , 59.7 , 59.7 , 59.66, 59.66, 59.66, 59.66, 59.7 ,\n",
       "       59.75, 59.72, 59.62, 59.62, 59.44, 59.5 , 59.47, 59.38, 59.34,\n",
       "       59.22, 59.1 , 59.06, 59.1 , 59.1 , 59.1 , 59.1 , 59.1 , 59.34,\n",
       "       59.22, 59.2 , 59.22, 59.22, 59.22, 59.22, 59.22, 59.25, 59.28,\n",
       "       59.3 , 59.38, 59.34, 59.34, 59.25, 59.34, 59.4 , 59.6 , 59.56,\n",
       "       59.5 , 59.53, 59.44, 59.47, 59.38, 59.34, 59.44, 59.44, 59.47,\n",
       "       59.44, 59.44, 59.4 , 59.44, 59.44, 59.38, 59.4 , 59.47, 59.53,\n",
       "       59.53, 59.44, 59.47, 59.47, 59.47, 59.44, 59.38, 59.22, 59.2 ,\n",
       "       59.16, 59.16, 59.2 , 59.22, 59.2 , 59.16, 59.16, 59.2 , 59.12,\n",
       "       59.16, 59.16, 59.16, 59.2 , 59.16, 59.16, 59.06, 58.97, 58.97,\n",
       "       58.88, 58.88, 58.8 , 58.78, 58.78, 58.72, 58.62, 58.62],\n",
       "      dtype=float16)"
      ]
     },
     "execution_count": 84,
     "metadata": {},
     "output_type": "execute_result"
    }
   ],
   "source": [
    "ds_y_val[1]"
   ]
  },
  {
   "cell_type": "code",
   "execution_count": 87,
   "metadata": {},
   "outputs": [],
   "source": [
    "x = StandardScaler().fit_transform(ds_y_val[1][2:].reshape(-1,1))"
   ]
  },
  {
   "cell_type": "code",
   "execution_count": 85,
   "metadata": {},
   "outputs": [
    {
     "data": {
      "text/plain": [
       "array([59.4 , 59.4 , 59.4 , 59.4 , 59.4 , 59.44, 59.56, 59.84, 59.75,\n",
       "       59.7 , 59.78, 59.84, 59.8 , 60.03, 60.16, 60.16, 60.25, 60.2 ,\n",
       "       60.22, 60.25, 60.53, 60.5 , 60.38, 60.38, 60.4 , 60.38, 60.4 ,\n",
       "       60.38, 60.4 , 60.47, 60.47, 60.3 , 60.34, 60.34, 60.44, 60.38,\n",
       "       60.25, 60.28, 60.28, 60.25, 60.12, 60.12, 60.22, 60.22, 60.25,\n",
       "       60.25, 60.22, 60.22, 60.22, 60.22, 60.22, 60.22, 60.2 , 60.2 ,\n",
       "       60.1 , 60.  , 59.94, 59.97, 60.03, 60.03, 59.97, 59.84, 59.84,\n",
       "       59.7 , 59.7 , 59.62, 59.66, 59.66, 59.72, 59.7 , 59.7 , 59.7 ,\n",
       "       59.7 , 59.7 , 59.66, 59.66, 59.66, 59.66, 59.7 , 59.75, 59.72,\n",
       "       59.62, 59.62, 59.44, 59.5 , 59.47, 59.38, 59.34, 59.22, 59.1 ,\n",
       "       59.06, 59.1 , 59.1 , 59.1 , 59.1 , 59.1 , 59.34, 59.22, 59.2 ,\n",
       "       59.22, 59.22, 59.22, 59.22, 59.22, 59.25, 59.28, 59.3 , 59.38,\n",
       "       59.34, 59.34, 59.25, 59.34, 59.4 , 59.6 , 59.56, 59.5 , 59.53,\n",
       "       59.44, 59.47, 59.38, 59.34, 59.44, 59.44, 59.47, 59.44, 59.44,\n",
       "       59.4 , 59.44, 59.44, 59.38, 59.4 , 59.47, 59.53, 59.53, 59.44,\n",
       "       59.47, 59.47, 59.47, 59.44, 59.38, 59.22, 59.2 , 59.16, 59.16,\n",
       "       59.2 , 59.22, 59.2 , 59.16, 59.16, 59.2 , 59.12, 59.16, 59.16,\n",
       "       59.16, 59.2 , 59.16, 59.16, 59.06, 58.97, 58.97, 58.88, 58.88,\n",
       "       58.8 , 58.78, 58.78, 58.72, 58.62, 58.62], dtype=float16)"
      ]
     },
     "execution_count": 85,
     "metadata": {},
     "output_type": "execute_result"
    }
   ],
   "source": [
    "ds_y_val[1][2:]"
   ]
  },
  {
   "cell_type": "code",
   "execution_count": 88,
   "metadata": {},
   "outputs": [
    {
     "data": {
      "text/plain": [
       "array([[-0.4546 ],\n",
       "       [-0.4546 ],\n",
       "       [-0.4546 ],\n",
       "       [-0.4546 ],\n",
       "       [-0.4546 ],\n",
       "       [-0.3872 ],\n",
       "       [-0.1176 ],\n",
       "       [ 0.4893 ],\n",
       "       [ 0.287  ],\n",
       "       [ 0.1521 ],\n",
       "       [ 0.3545 ],\n",
       "       [ 0.4893 ],\n",
       "       [ 0.4219 ],\n",
       "       [ 0.894  ],\n",
       "       [ 1.163  ],\n",
       "       [ 1.163  ],\n",
       "       [ 1.365  ],\n",
       "       [ 1.23   ],\n",
       "       [ 1.298  ],\n",
       "       [ 1.365  ],\n",
       "       [ 1.972  ],\n",
       "       [ 1.904  ],\n",
       "       [ 1.635  ],\n",
       "       [ 1.635  ],\n",
       "       [ 1.702  ],\n",
       "       [ 1.635  ],\n",
       "       [ 1.702  ],\n",
       "       [ 1.635  ],\n",
       "       [ 1.702  ],\n",
       "       [ 1.837  ],\n",
       "       [ 1.837  ],\n",
       "       [ 1.5    ],\n",
       "       [ 1.567  ],\n",
       "       [ 1.567  ],\n",
       "       [ 1.77   ],\n",
       "       [ 1.635  ],\n",
       "       [ 1.365  ],\n",
       "       [ 1.433  ],\n",
       "       [ 1.433  ],\n",
       "       [ 1.365  ],\n",
       "       [ 1.096  ],\n",
       "       [ 1.096  ],\n",
       "       [ 1.298  ],\n",
       "       [ 1.298  ],\n",
       "       [ 1.365  ],\n",
       "       [ 1.365  ],\n",
       "       [ 1.298  ],\n",
       "       [ 1.298  ],\n",
       "       [ 1.298  ],\n",
       "       [ 1.298  ],\n",
       "       [ 1.298  ],\n",
       "       [ 1.298  ],\n",
       "       [ 1.23   ],\n",
       "       [ 1.23   ],\n",
       "       [ 1.028  ],\n",
       "       [ 0.8267 ],\n",
       "       [ 0.6914 ],\n",
       "       [ 0.759  ],\n",
       "       [ 0.894  ],\n",
       "       [ 0.894  ],\n",
       "       [ 0.759  ],\n",
       "       [ 0.4893 ],\n",
       "       [ 0.4893 ],\n",
       "       [ 0.1521 ],\n",
       "       [ 0.1521 ],\n",
       "       [ 0.01726],\n",
       "       [ 0.08466],\n",
       "       [ 0.08466],\n",
       "       [ 0.2195 ],\n",
       "       [ 0.1521 ],\n",
       "       [ 0.1521 ],\n",
       "       [ 0.1521 ],\n",
       "       [ 0.1521 ],\n",
       "       [ 0.1521 ],\n",
       "       [ 0.08466],\n",
       "       [ 0.08466],\n",
       "       [ 0.08466],\n",
       "       [ 0.08466],\n",
       "       [ 0.1521 ],\n",
       "       [ 0.287  ],\n",
       "       [ 0.2195 ],\n",
       "       [ 0.01726],\n",
       "       [ 0.01726],\n",
       "       [-0.3872 ],\n",
       "       [-0.2524 ],\n",
       "       [-0.3198 ],\n",
       "       [-0.522  ],\n",
       "       [-0.5894 ],\n",
       "       [-0.859  ],\n",
       "       [-1.129  ],\n",
       "       [-1.196  ],\n",
       "       [-1.129  ],\n",
       "       [-1.129  ],\n",
       "       [-1.129  ],\n",
       "       [-1.129  ],\n",
       "       [-1.129  ],\n",
       "       [-0.5894 ],\n",
       "       [-0.859  ],\n",
       "       [-0.927  ],\n",
       "       [-0.859  ],\n",
       "       [-0.859  ],\n",
       "       [-0.859  ],\n",
       "       [-0.859  ],\n",
       "       [-0.859  ],\n",
       "       [-0.7915 ],\n",
       "       [-0.724  ],\n",
       "       [-0.6567 ],\n",
       "       [-0.522  ],\n",
       "       [-0.5894 ],\n",
       "       [-0.5894 ],\n",
       "       [-0.7915 ],\n",
       "       [-0.5894 ],\n",
       "       [-0.4546 ],\n",
       "       [-0.05017],\n",
       "       [-0.1176 ],\n",
       "       [-0.2524 ],\n",
       "       [-0.185  ],\n",
       "       [-0.3872 ],\n",
       "       [-0.3198 ],\n",
       "       [-0.522  ],\n",
       "       [-0.5894 ],\n",
       "       [-0.3872 ],\n",
       "       [-0.3872 ],\n",
       "       [-0.3198 ],\n",
       "       [-0.3872 ],\n",
       "       [-0.3872 ],\n",
       "       [-0.4546 ],\n",
       "       [-0.3872 ],\n",
       "       [-0.3872 ],\n",
       "       [-0.522  ],\n",
       "       [-0.4546 ],\n",
       "       [-0.3198 ],\n",
       "       [-0.185  ],\n",
       "       [-0.185  ],\n",
       "       [-0.3872 ],\n",
       "       [-0.3198 ],\n",
       "       [-0.3198 ],\n",
       "       [-0.3198 ],\n",
       "       [-0.3872 ],\n",
       "       [-0.522  ],\n",
       "       [-0.859  ],\n",
       "       [-0.927  ],\n",
       "       [-0.994  ],\n",
       "       [-0.994  ],\n",
       "       [-0.927  ],\n",
       "       [-0.859  ],\n",
       "       [-0.927  ],\n",
       "       [-0.994  ],\n",
       "       [-0.994  ],\n",
       "       [-0.927  ],\n",
       "       [-1.062  ],\n",
       "       [-0.994  ],\n",
       "       [-0.994  ],\n",
       "       [-0.994  ],\n",
       "       [-0.927  ],\n",
       "       [-0.994  ],\n",
       "       [-0.994  ],\n",
       "       [-1.196  ],\n",
       "       [-1.399  ],\n",
       "       [-1.399  ],\n",
       "       [-1.602  ],\n",
       "       [-1.602  ],\n",
       "       [-1.736  ],\n",
       "       [-1.804  ],\n",
       "       [-1.804  ],\n",
       "       [-1.938  ],\n",
       "       [-2.14   ],\n",
       "       [-2.14   ]], dtype=float16)"
      ]
     },
     "execution_count": 88,
     "metadata": {},
     "output_type": "execute_result"
    }
   ],
   "source": [
    "x"
   ]
  },
  {
   "cell_type": "code",
   "execution_count": 89,
   "metadata": {},
   "outputs": [
    {
     "data": {
      "text/plain": [
       "[<matplotlib.lines.Line2D at 0x23611866248>]"
      ]
     },
     "execution_count": 89,
     "metadata": {},
     "output_type": "execute_result"
    },
    {
     "data": {
      "image/png": "[encoded data removed]",
      "text/plain": [
       "<Figure size 432x288 with 1 Axes>"
      ]
     },
     "metadata": {
      "needs_background": "light"
     },
     "output_type": "display_data"
    }
   ],
   "source": [
    "plt.plot(x)"
   ]
  },
  {
   "cell_type": "code",
   "execution_count": 90,
   "metadata": {},
   "outputs": [
    {
     "data": {
      "text/plain": [
       "[<matplotlib.lines.Line2D at 0x23610b10108>]"
      ]
     },
     "execution_count": 90,
     "metadata": {},
     "output_type": "execute_result"
    },
    {
     "data": {
      "image/png": "[encoded data removed]",
      "text/plain": [
       "<Figure size 432x288 with 1 Axes>"
      ]
     },
     "metadata": {
      "needs_background": "light"
     },
     "output_type": "display_data"
    }
   ],
   "source": [
    "plt.plot(ds_y_val[1][2:])"
   ]
  },
  {
   "cell_type": "code",
   "execution_count": 91,
   "metadata": {},
   "outputs": [],
   "source": [
    "model.save('1.h5')"
   ]
  },
  {
   "cell_type": "code",
   "execution_count": 130,
   "metadata": {},
   "outputs": [],
   "source": [
    "from keras.utils import plot_model"
   ]
  },
  {
   "cell_type": "code",
   "execution_count": 131,
   "metadata": {},
   "outputs": [
    {
     "ename": "ImportError",
     "evalue": "Failed to import `pydot`. Please install `pydot`. For example with `pip install pydot`.",
     "output_type": "error",
     "traceback": [
      "\u001b[1;31m---------------------------------------------------------------------------\u001b[0m",
      "\u001b[1;31mImportError\u001b[0m                               Traceback (most recent call last)",
      "\u001b[1;32m<ipython-input-131-b950b8cba428>\u001b[0m in \u001b[0;36m<module>\u001b[1;34m\u001b[0m\n\u001b[1;32m----> 1\u001b[1;33m \u001b[0mplot_model\u001b[0m\u001b[1;33m(\u001b[0m\u001b[0mmodel\u001b[0m\u001b[1;33m,\u001b[0m \u001b[0mto_file\u001b[0m\u001b[1;33m=\u001b[0m\u001b[1;34m'model.png'\u001b[0m\u001b[1;33m)\u001b[0m\u001b[1;33m\u001b[0m\u001b[1;33m\u001b[0m\u001b[0m\n\u001b[0m",
      "\u001b[1;32mC:\\Anaconda3\\lib\\site-packages\\keras\\utils\\vis_utils.py\u001b[0m in \u001b[0;36mplot_model\u001b[1;34m(model, to_file, show_shapes, show_layer_names, rankdir, expand_nested, dpi)\u001b[0m\n\u001b[0;32m    238\u001b[0m     \"\"\"\n\u001b[0;32m    239\u001b[0m     dot = model_to_dot(model, show_shapes, show_layer_names, rankdir,\n\u001b[1;32m--> 240\u001b[1;33m                        expand_nested, dpi)\n\u001b[0m\u001b[0;32m    241\u001b[0m     \u001b[0m_\u001b[0m\u001b[1;33m,\u001b[0m \u001b[0mextension\u001b[0m \u001b[1;33m=\u001b[0m \u001b[0mos\u001b[0m\u001b[1;33m.\u001b[0m\u001b[0mpath\u001b[0m\u001b[1;33m.\u001b[0m\u001b[0msplitext\u001b[0m\u001b[1;33m(\u001b[0m\u001b[0mto_file\u001b[0m\u001b[1;33m)\u001b[0m\u001b[1;33m\u001b[0m\u001b[1;33m\u001b[0m\u001b[0m\n\u001b[0;32m    242\u001b[0m     \u001b[1;32mif\u001b[0m \u001b[1;32mnot\u001b[0m \u001b[0mextension\u001b[0m\u001b[1;33m:\u001b[0m\u001b[1;33m\u001b[0m\u001b[1;33m\u001b[0m\u001b[0m\n",
      "\u001b[1;32mC:\\Anaconda3\\lib\\site-packages\\keras\\utils\\vis_utils.py\u001b[0m in \u001b[0;36mmodel_to_dot\u001b[1;34m(model, show_shapes, show_layer_names, rankdir, expand_nested, dpi, subgraph)\u001b[0m\n\u001b[0;32m     77\u001b[0m     \u001b[1;32mfrom\u001b[0m \u001b[1;33m.\u001b[0m\u001b[1;33m.\u001b[0m\u001b[0mmodels\u001b[0m \u001b[1;32mimport\u001b[0m \u001b[0mSequential\u001b[0m\u001b[1;33m\u001b[0m\u001b[1;33m\u001b[0m\u001b[0m\n\u001b[0;32m     78\u001b[0m \u001b[1;33m\u001b[0m\u001b[0m\n\u001b[1;32m---> 79\u001b[1;33m     \u001b[0m_check_pydot\u001b[0m\u001b[1;33m(\u001b[0m\u001b[1;33m)\u001b[0m\u001b[1;33m\u001b[0m\u001b[1;33m\u001b[0m\u001b[0m\n\u001b[0m\u001b[0;32m     80\u001b[0m     \u001b[1;32mif\u001b[0m \u001b[0msubgraph\u001b[0m\u001b[1;33m:\u001b[0m\u001b[1;33m\u001b[0m\u001b[1;33m\u001b[0m\u001b[0m\n\u001b[0;32m     81\u001b[0m         \u001b[0mdot\u001b[0m \u001b[1;33m=\u001b[0m \u001b[0mpydot\u001b[0m\u001b[1;33m.\u001b[0m\u001b[0mCluster\u001b[0m\u001b[1;33m(\u001b[0m\u001b[0mstyle\u001b[0m\u001b[1;33m=\u001b[0m\u001b[1;34m'dashed'\u001b[0m\u001b[1;33m,\u001b[0m \u001b[0mgraph_name\u001b[0m\u001b[1;33m=\u001b[0m\u001b[0mmodel\u001b[0m\u001b[1;33m.\u001b[0m\u001b[0mname\u001b[0m\u001b[1;33m)\u001b[0m\u001b[1;33m\u001b[0m\u001b[1;33m\u001b[0m\u001b[0m\n",
      "\u001b[1;32mC:\\Anaconda3\\lib\\site-packages\\keras\\utils\\vis_utils.py\u001b[0m in \u001b[0;36m_check_pydot\u001b[1;34m()\u001b[0m\n\u001b[0;32m     20\u001b[0m     \u001b[1;32mif\u001b[0m \u001b[0mpydot\u001b[0m \u001b[1;32mis\u001b[0m \u001b[1;32mNone\u001b[0m\u001b[1;33m:\u001b[0m\u001b[1;33m\u001b[0m\u001b[1;33m\u001b[0m\u001b[0m\n\u001b[0;32m     21\u001b[0m         raise ImportError(\n\u001b[1;32m---> 22\u001b[1;33m             \u001b[1;34m'Failed to import `pydot`. '\u001b[0m\u001b[1;33m\u001b[0m\u001b[1;33m\u001b[0m\u001b[0m\n\u001b[0m\u001b[0;32m     23\u001b[0m             \u001b[1;34m'Please install `pydot`. '\u001b[0m\u001b[1;33m\u001b[0m\u001b[1;33m\u001b[0m\u001b[0m\n\u001b[0;32m     24\u001b[0m             'For example with `pip install pydot`.')\n",
      "\u001b[1;31mImportError\u001b[0m: Failed to import `pydot`. Please install `pydot`. For example with `pip install pydot`."
     ]
    }
   ],
   "source": [
    "plot_model(model, to_file='model.png')"
   ]
  },
  {
   "cell_type": "code",
   "execution_count": 125,
   "metadata": {},
   "outputs": [],
   "source": [
    "x = model.layers[1].get_weights()"
   ]
  },
  {
   "cell_type": "code",
   "execution_count": 126,
   "metadata": {},
   "outputs": [
    {
     "data": {
      "text/plain": [
       "2"
      ]
     },
     "execution_count": 126,
     "metadata": {},
     "output_type": "execute_result"
    }
   ],
   "source": [
    "len(x)"
   ]
  },
  {
   "cell_type": "code",
   "execution_count": 128,
   "metadata": {},
   "outputs": [
    {
     "data": {
      "text/plain": [
       "(3000, 1000)"
      ]
     },
     "execution_count": 128,
     "metadata": {},
     "output_type": "execute_result"
    }
   ],
   "source": [
    "x[0].shape"
   ]
  },
  {
   "cell_type": "code",
   "execution_count": null,
   "metadata": {},
   "outputs": [],
   "source": []
  }
 ],
 "metadata": {
  "kernelspec": {
   "display_name": "Python 3",
   "language": "python",
   "name": "python3"
  },
  "language_info": {
   "codemirror_mode": {
    "name": "ipython",
    "version": 3
   },
   "file_extension": ".py",
   "mimetype": "text/x-python",
   "name": "python",
   "nbconvert_exporter": "python",
   "pygments_lexer": "ipython3",
   "version": "3.7.4"
  }
 },
 "nbformat": 4,
 "nbformat_minor": 4
}
