{
 "cells": [
  {
   "cell_type": "code",
   "execution_count": 1,
   "metadata": {},
   "outputs": [],
   "source": [
    "import numpy as np"
   ]
  },
  {
   "cell_type": "code",
   "execution_count": 2,
   "metadata": {},
   "outputs": [],
   "source": [
    "array = []\n",
    "with open('min15.txt') as file:\n",
    "    for line in file.readlines():\n",
    "        string = line.split(',') \n",
    "        del string[:2]\n",
    "        del string[-1]\n",
    "        array.append(string)\n",
    "#         print(line)"
   ]
  },
  {
   "cell_type": "code",
   "execution_count": 3,
   "metadata": {},
   "outputs": [],
   "source": [
    "data = np.asarray(array[1:])\n",
    "heads = array[0]"
   ]
  },
  {
   "cell_type": "code",
   "execution_count": 4,
   "metadata": {},
   "outputs": [
    {
     "data": {
      "text/plain": [
       "['<DATE>', '<TIME>', '<OPEN>', '<HIGH>', '<LOW>', '<CLOSE>']"
      ]
     },
     "execution_count": 4,
     "metadata": {},
     "output_type": "execute_result"
    }
   ],
   "source": [
    "heads"
   ]
  },
  {
   "cell_type": "code",
   "execution_count": 5,
   "metadata": {},
   "outputs": [],
   "source": [
    "time = data[:,1]"
   ]
  },
  {
   "cell_type": "code",
   "execution_count": 6,
   "metadata": {},
   "outputs": [
    {
     "data": {
      "text/plain": [
       "array(['234500', '000000', '001500', ..., '220000', '221500', '223000'],\n",
       "      dtype='<U10')"
      ]
     },
     "execution_count": 6,
     "metadata": {},
     "output_type": "execute_result"
    }
   ],
   "source": [
    "time"
   ]
  },
  {
   "cell_type": "code",
   "execution_count": 7,
   "metadata": {},
   "outputs": [],
   "source": [
    "minutes = np.asarray([element[2:4] for element in time]).reshape(-1,1).astype(np.int32)\n",
    "hours = np.asarray([element[:2] for element in time]).reshape(-1,1).astype(np.int32)"
   ]
  },
  {
   "cell_type": "code",
   "execution_count": 8,
   "metadata": {},
   "outputs": [],
   "source": [
    "date = data[:,0]"
   ]
  },
  {
   "cell_type": "code",
   "execution_count": 9,
   "metadata": {},
   "outputs": [],
   "source": [
    "year = np.asarray([element[:4] for element in date]).reshape(-1,1).astype(np.int32)\n",
    "month = np.asarray([element[4:6] for element in date]).reshape(-1,1).astype(np.int32)\n",
    "day = np.asarray([element[6:] for element in date]).reshape(-1,1).astype(np.int32)"
   ]
  },
  {
   "cell_type": "code",
   "execution_count": 10,
   "metadata": {},
   "outputs": [],
   "source": [
    "data = np.delete(data,1,1)\n",
    "data = np.delete(data,0,1)\n",
    "# data = data.astype(np.float32)\n",
    "data = np.hstack((year,month,day,hours,minutes,data))"
   ]
  },
  {
   "cell_type": "code",
   "execution_count": 11,
   "metadata": {},
   "outputs": [],
   "source": [
    "train_data = data[:,5]"
   ]
  },
  {
   "cell_type": "code",
   "execution_count": 12,
   "metadata": {},
   "outputs": [],
   "source": [
    "ds_x = []\n",
    "ds_y = []\n",
    "days_hist= 10\n",
    "days_predict = 10\n",
    "period = 24 * 4 * days_hist\n",
    "period_predict = 24 * 4 * days_predict\n",
    "for num,line in enumerate(train_data[:-(period+period_predict)]):\n",
    "    ds_x.append(train_data[num:num+period_predict].reshape((train_data[num:num+period_predict].size)))\n",
    "for line in train_data[period+period_predict:]:\n",
    "    ds_y.append(line)"
   ]
  },
  {
   "cell_type": "code",
   "execution_count": null,
   "metadata": {
    "scrolled": false
   },
   "outputs": [],
   "source": [
    "ds_x = np.asarray(ds_x, dtype = np.float16)\n",
    "ds_y = np.asarray(ds_y, dtype = np.float16).reshape(-1,1)"
   ]
  },
  {
   "cell_type": "code",
   "execution_count": null,
   "metadata": {},
   "outputs": [],
   "source": [
    "idx = np.array(range(len(ds_y)))"
   ]
  },
  {
   "cell_type": "code",
   "execution_count": null,
   "metadata": {},
   "outputs": [],
   "source": [
    "np.random.shuffle(idx)"
   ]
  },
  {
   "cell_type": "code",
   "execution_count": null,
   "metadata": {},
   "outputs": [],
   "source": [
    "ds_x = ds_x[idx]\n",
    "ds_y = ds_y[idx]"
   ]
  },
  {
   "cell_type": "code",
   "execution_count": null,
   "metadata": {},
   "outputs": [],
   "source": [
    "from sklearn.model_selection import train_test_split"
   ]
  },
  {
   "cell_type": "code",
   "execution_count": null,
   "metadata": {},
   "outputs": [],
   "source": [
    "ds_x_train, ds_x_test, ds_y_train, ds_y_test =  train_test_split(ds_x, ds_y, test_size = 0.2, random_state = 42)"
   ]
  },
  {
   "cell_type": "code",
   "execution_count": null,
   "metadata": {},
   "outputs": [],
   "source": [
    "from sklearn.linear_model import LinearRegression\n",
    "from sklearn.tree import DecisionTreeRegressor\n",
    "from sklearn.neighbors import KNeighborsRegressor\n",
    "from sklearn.ensemble import RandomForestRegressor\n",
    "from sklearn.neural_network import MLPRegressor\n",
    "from sklearn.gaussian_process import GaussianProcessRegressor"
   ]
  },
  {
   "cell_type": "code",
   "execution_count": null,
   "metadata": {},
   "outputs": [],
   "source": [
    "linreg = LinearRegression(n_jobs = -1)\n",
    "dtreg = DecisionTreeRegressor()\n",
    "knreg = KNeighborsRegressor(n_jobs = -1)\n",
    "rfr = RandomForestRegressor(n_jobs = -1)\n",
    "mlpreg = MLPRegressor()"
   ]
  },
  {
   "cell_type": "code",
   "execution_count": null,
   "metadata": {},
   "outputs": [],
   "source": [
    "from sklearn.metrics import mean_squared_error"
   ]
  },
  {
   "cell_type": "code",
   "execution_count": null,
   "metadata": {},
   "outputs": [
    {
     "name": "stderr",
     "output_type": "stream",
     "text": [
      "C:\\Anaconda3\\lib\\site-packages\\ipykernel_launcher.py:6: DataConversionWarning: A column-vector y was passed when a 1d array was expected. Please change the shape of y to (n_samples,), for example using ravel().\n",
      "  \n"
     ]
    }
   ],
   "source": [
    "estimators = [linreg, dtreg, knreg, rfr, mlpreg]\n",
    "names = []\n",
    "scores = []\n",
    "for estimator in estimators:\n",
    "    names.append(str(estimator).split(sep = '(')[0])\n",
    "    estimator.fit(ds_x_train,ds_y_train)\n",
    "    scores.append(mean_squared_error(ds_y_train, estimator.predict(ds_x_train), squared = False))"
   ]
  },
  {
   "cell_type": "code",
   "execution_count": 52,
   "metadata": {},
   "outputs": [
    {
     "data": {
      "text/plain": [
       "LinearRegression(copy_X=True, fit_intercept=True, n_jobs=-1, normalize=False)"
      ]
     },
     "execution_count": 52,
     "metadata": {},
     "output_type": "execute_result"
    }
   ],
   "source": [
    "linreg.fit(ds_x_train,ds_y_train.reshape(-1))\n",
    "# mean_squared_error(linreg.reshape(-1), rfr.predict(ds_x_train), squared = False)"
   ]
  },
  {
   "cell_type": "code",
   "execution_count": 44,
   "metadata": {},
   "outputs": [],
   "source": [
    "from sklearn.model_selection import cross_val_score"
   ]
  },
  {
   "cell_type": "code",
   "execution_count": 58,
   "metadata": {},
   "outputs": [
    {
     "name": "stdout",
     "output_type": "stream",
     "text": [
      "[0.88664409 0.88669684 0.88637292 0.88859074 0.88393866 0.88465375\n",
      " 0.88799066 0.8855487  0.88294902 0.88594872]\n",
      "[-2.59708834 -2.57803416 -2.67654371 -2.54779482 -2.63913155 -2.60507774\n",
      " -2.5442276  -2.58674788 -2.64309764 -2.54552197]\n",
      "[-1.16869128 -1.17226279 -1.19477534 -1.16783404 -1.18711817 -1.16681683\n",
      " -1.16412389 -1.17272604 -1.18133962 -1.16814637]\n"
     ]
    }
   ],
   "source": [
    "print(cross_val_score(linreg, ds_x_train, ds_y_train, cv=10, scoring='r2', n_jobs = -1))\n",
    "print(cross_val_score(linreg, ds_x_train, ds_y_train, cv=10, scoring='neg_mean_squared_error', n_jobs = -1))\n",
    "print(cross_val_score(linreg, ds_x_train, ds_y_train, cv=10, scoring='neg_mean_absolute_error', n_jobs = -1))"
   ]
  },
  {
   "cell_type": "code",
   "execution_count": 59,
   "metadata": {},
   "outputs": [
    {
     "name": "stdout",
     "output_type": "stream",
     "text": [
      "[0.99945817 0.99945181 0.99952326 0.99948132 0.99945295]\n",
      "[-0.01237488 -0.01257324 -0.01118469 -0.01179504 -0.01255035]\n",
      "[-0.06286621 -0.06176758 -0.06005859 -0.06030273 -0.06246948]\n"
     ]
    }
   ],
   "source": [
    "print(cross_val_score(knreg, ds_x_train[:40000], ds_y_train[:40000], cv=5, scoring='r2', n_jobs = -1))\n",
    "print(cross_val_score(knreg, ds_x_train[:40000], ds_y_train[:40000], cv=5, scoring='neg_mean_squared_error', n_jobs = -1))\n",
    "print(cross_val_score(knreg, ds_x_train[:40000], ds_y_train[:40000], cv=5, scoring='neg_mean_absolute_error', n_jobs = -1))"
   ]
  },
  {
   "cell_type": "code",
   "execution_count": 60,
   "metadata": {},
   "outputs": [
    {
     "data": {
      "text/plain": [
       "KNeighborsRegressor(algorithm='auto', leaf_size=30, metric='minkowski',\n",
       "                    metric_params=None, n_jobs=-1, n_neighbors=5, p=2,\n",
       "                    weights='uniform')"
      ]
     },
     "execution_count": 60,
     "metadata": {},
     "output_type": "execute_result"
    }
   ],
   "source": [
    "knreg.fit(ds_x_train,ds_y_train)"
   ]
  },
  {
   "cell_type": "code",
   "execution_count": 61,
   "metadata": {},
   "outputs": [],
   "source": [
    "predict = knreg.predict(ds_x_test)"
   ]
  },
  {
   "cell_type": "code",
   "execution_count": 65,
   "metadata": {},
   "outputs": [
    {
     "name": "stdout",
     "output_type": "stream",
     "text": [
      "[-1.21602165 -1.23477057  0.7172149   0.87536919  0.3488834 ]\n",
      "[ -3.23989331  -5.54775123  -5.96836266 -14.95316666 -26.14032788]\n",
      "[-3.15315731 -1.2310353  -1.23331744 -3.98694332 -3.68628095]\n"
     ]
    }
   ],
   "source": [
    "print(cross_val_score(mlpreg, ds_x_train[:40000], ds_y_train[:40000], cv=5, scoring='r2', n_jobs = -1))\n",
    "print(cross_val_score(mlpreg, ds_x_train[:40000], ds_y_train[:40000], cv=5, scoring='neg_mean_squared_error', n_jobs = -1))\n",
    "print(cross_val_score(mlpreg, ds_x_train[:40000], ds_y_train[:40000], cv=5, scoring='neg_mean_absolute_error', n_jobs = -1))"
   ]
  },
  {
   "cell_type": "code",
   "execution_count": 67,
   "metadata": {},
   "outputs": [],
   "source": [
    "rfr.max_depth = 10"
   ]
  },
  {
   "cell_type": "code",
   "execution_count": null,
   "metadata": {},
   "outputs": [],
   "source": [
    "print(cross_val_score(rfr, ds_x_train[:40000], ds_y_train[:40000], cv=5, scoring='r2', n_jobs = -1))\n",
    "print(cross_val_score(rfr, ds_x_train[:40000], ds_y_train[:40000], cv=5, scoring='neg_mean_squared_error', n_jobs = -1))\n",
    "print(cross_val_score(rfr, ds_x_train[:40000], ds_y_train[:40000], cv=5, scoring='neg_mean_absolute_error', n_jobs = -1))"
   ]
  },
  {
   "cell_type": "code",
   "execution_count": null,
   "metadata": {},
   "outputs": [],
   "source": []
  }
 ],
 "metadata": {
  "kernelspec": {
   "display_name": "Python 3",
   "language": "python",
   "name": "python3"
  },
  "language_info": {
   "codemirror_mode": {
    "name": "ipython",
    "version": 3
   },
   "file_extension": ".py",
   "mimetype": "text/x-python",
   "name": "python",
   "nbconvert_exporter": "python",
   "pygments_lexer": "ipython3",
   "version": "3.7.4"
  }
 },
 "nbformat": 4,
 "nbformat_minor": 2
}
