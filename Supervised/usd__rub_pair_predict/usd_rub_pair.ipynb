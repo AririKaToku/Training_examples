{
 "cells": [
  {
   "cell_type": "code",
   "execution_count": 1,
   "metadata": {},
   "outputs": [],
   "source": [
    "import numpy as np"
   ]
  },
  {
   "cell_type": "code",
   "execution_count": 2,
   "metadata": {},
   "outputs": [],
   "source": [
    "import pandas as pd\n",
    "import pickle"
   ]
  },
  {
   "cell_type": "code",
   "execution_count": 3,
   "metadata": {},
   "outputs": [],
   "source": [
    "import datetime"
   ]
  },
  {
   "cell_type": "code",
   "execution_count": 4,
   "metadata": {},
   "outputs": [],
   "source": [
    "usd = pd.read_csv('USD_RUB_60m.txt')\n",
    "brent = pd.read_csv('BRENT_60m.txt')\n",
    "american_finance = pd.read_csv('AMERICAN_FINANCE_60m.txt')\n",
    "rtsi = pd.read_csv('RTSI_60m.txt')"
   ]
  },
  {
   "cell_type": "code",
   "execution_count": 5,
   "metadata": {},
   "outputs": [],
   "source": [
    "rtsi_ds = rtsi[['<DATE>','<TIME>','<RTSI_HIGH>','<RTSI_LOW>']]\n",
    "usd_ds = usd[['<DATE>','<TIME>','<USD_HIGH>','<USD_LOW>']]\n",
    "brent_ds = brent[['<DATE>','<TIME>','<BRENT_HIGH>','<BRENT_LOW>']]\n",
    "american_finance_ds = american_finance[['<DATE>','<TIME>','<AF_HIGH>','<AF_LOW>']]"
   ]
  },
  {
   "cell_type": "code",
   "execution_count": 6,
   "metadata": {},
   "outputs": [],
   "source": [
    "total_ds = pd.merge(left = usd_ds, right = brent_ds, left_on=('<DATE>','<TIME>'), right_on=('<DATE>','<TIME>'), how='outer')"
   ]
  },
  {
   "cell_type": "code",
   "execution_count": 7,
   "metadata": {},
   "outputs": [],
   "source": [
    "total_ds = total_ds.merge(american_finance_ds, left_on=('<DATE>','<TIME>'), right_on=('<DATE>','<TIME>'), how = 'outer')"
   ]
  },
  {
   "cell_type": "code",
   "execution_count": 8,
   "metadata": {},
   "outputs": [],
   "source": [
    "total_ds = total_ds.merge(rtsi_ds, left_on=('<DATE>','<TIME>'), right_on=('<DATE>','<TIME>'), how='outer')"
   ]
  },
  {
   "cell_type": "code",
   "execution_count": 9,
   "metadata": {},
   "outputs": [],
   "source": [
    "total_ds['<WEEK_DAY>'] = list(map(lambda x: (datetime.datetime.strptime(str(x),'%Y%m%d').isoweekday()),total_ds['<DATE>']))"
   ]
  },
  {
   "cell_type": "code",
   "execution_count": 10,
   "metadata": {},
   "outputs": [],
   "source": [
    "total_ds['<WEEK_NUM>'] = list(map(lambda x: datetime.datetime.strptime(str(x),'%Y%m%d').isocalendar()[1], total_ds['<DATE>']))"
   ]
  },
  {
   "cell_type": "code",
   "execution_count": 11,
   "metadata": {},
   "outputs": [],
   "source": [
    "total_ds['<HOUR>'] = list(map(lambda x: int(x / 10000), total_ds['<TIME>']))"
   ]
  },
  {
   "cell_type": "code",
   "execution_count": 12,
   "metadata": {},
   "outputs": [],
   "source": [
    "total_ds['<MONTH>'] = list(map(lambda x: int(str(x)[4:6]), total_ds['<DATE>']))"
   ]
  },
  {
   "cell_type": "code",
   "execution_count": 13,
   "metadata": {},
   "outputs": [],
   "source": [
    "del total_ds['<DATE>']\n",
    "del total_ds['<TIME>']"
   ]
  },
  {
   "cell_type": "code",
   "execution_count": 14,
   "metadata": {},
   "outputs": [],
   "source": [
    "from sklearn.base import BaseEstimator, TransformerMixin"
   ]
  },
  {
   "cell_type": "code",
   "execution_count": 15,
   "metadata": {},
   "outputs": [],
   "source": [
    "class FillingFreeCellsLastValue(BaseEstimator, TransformerMixin):\n",
    "    def __init__(self, column_names):\n",
    "        self.column_names = column_names\n",
    "        return None\n",
    "    \n",
    "    def fit(self, X, y = None):\n",
    "        return self\n",
    "    \n",
    "    def transform(self, X, y = None):\n",
    "        for column in self.column_names:\n",
    "            list_ = X[column]\n",
    "            list_ = np.nan_to_num(list_, nan = 0)\n",
    "            tmp_val = np.median(list_[:100])\n",
    "            for num,element in enumerate(list_):\n",
    "                if element > 0:\n",
    "                    tmp_val = element\n",
    "                else:\n",
    "                    list_[num] = tmp_val\n",
    "            X[column] = list_\n",
    "        return X"
   ]
  },
  {
   "cell_type": "code",
   "execution_count": 16,
   "metadata": {},
   "outputs": [],
   "source": [
    "columns = ['<USD_HIGH>', '<USD_LOW>', \n",
    "           '<BRENT_HIGH>', '<BRENT_LOW>',\n",
    "           '<AF_HIGH>', '<AF_LOW>',\n",
    "           '<RTSI_HIGH>', '<RTSI_LOW>']"
   ]
  },
  {
   "cell_type": "code",
   "execution_count": 17,
   "metadata": {
    "scrolled": false
   },
   "outputs": [
    {
     "data": {
      "text/html": [
       "<div>\n",
       "<style scoped>\n",
       "    .dataframe tbody tr th:only-of-type {\n",
       "        vertical-align: middle;\n",
       "    }\n",
       "\n",
       "    .dataframe tbody tr th {\n",
       "        vertical-align: top;\n",
       "    }\n",
       "\n",
       "    .dataframe thead th {\n",
       "        text-align: right;\n",
       "    }\n",
       "</style>\n",
       "<table border=\"1\" class=\"dataframe\">\n",
       "  <thead>\n",
       "    <tr style=\"text-align: right;\">\n",
       "      <th></th>\n",
       "      <th>&lt;USD_HIGH&gt;</th>\n",
       "      <th>&lt;USD_LOW&gt;</th>\n",
       "      <th>&lt;BRENT_HIGH&gt;</th>\n",
       "      <th>&lt;BRENT_LOW&gt;</th>\n",
       "      <th>&lt;AF_HIGH&gt;</th>\n",
       "      <th>&lt;AF_LOW&gt;</th>\n",
       "      <th>&lt;RTSI_HIGH&gt;</th>\n",
       "      <th>&lt;RTSI_LOW&gt;</th>\n",
       "      <th>&lt;WEEK_DAY&gt;</th>\n",
       "      <th>&lt;WEEK_NUM&gt;</th>\n",
       "      <th>&lt;HOUR&gt;</th>\n",
       "      <th>&lt;MONTH&gt;</th>\n",
       "    </tr>\n",
       "  </thead>\n",
       "  <tbody>\n",
       "    <tr>\n",
       "      <th>0</th>\n",
       "      <td>63.6750</td>\n",
       "      <td>63.6750</td>\n",
       "      <td>48.955</td>\n",
       "      <td>48.765</td>\n",
       "      <td>249.597468</td>\n",
       "      <td>249.279047</td>\n",
       "      <td>0.00</td>\n",
       "      <td>0.00</td>\n",
       "      <td>7</td>\n",
       "      <td>44</td>\n",
       "      <td>23</td>\n",
       "      <td>11</td>\n",
       "    </tr>\n",
       "    <tr>\n",
       "      <th>1</th>\n",
       "      <td>64.0934</td>\n",
       "      <td>62.3727</td>\n",
       "      <td>48.955</td>\n",
       "      <td>48.765</td>\n",
       "      <td>249.597468</td>\n",
       "      <td>249.279047</td>\n",
       "      <td>0.00</td>\n",
       "      <td>0.00</td>\n",
       "      <td>1</td>\n",
       "      <td>45</td>\n",
       "      <td>0</td>\n",
       "      <td>11</td>\n",
       "    </tr>\n",
       "    <tr>\n",
       "      <th>2</th>\n",
       "      <td>64.5614</td>\n",
       "      <td>64.0450</td>\n",
       "      <td>48.955</td>\n",
       "      <td>48.765</td>\n",
       "      <td>246.563256</td>\n",
       "      <td>246.542204</td>\n",
       "      <td>0.00</td>\n",
       "      <td>0.00</td>\n",
       "      <td>1</td>\n",
       "      <td>45</td>\n",
       "      <td>1</td>\n",
       "      <td>11</td>\n",
       "    </tr>\n",
       "    <tr>\n",
       "      <th>3</th>\n",
       "      <td>64.5622</td>\n",
       "      <td>63.5524</td>\n",
       "      <td>48.955</td>\n",
       "      <td>48.765</td>\n",
       "      <td>246.568520</td>\n",
       "      <td>246.542204</td>\n",
       "      <td>0.00</td>\n",
       "      <td>0.00</td>\n",
       "      <td>1</td>\n",
       "      <td>45</td>\n",
       "      <td>2</td>\n",
       "      <td>11</td>\n",
       "    </tr>\n",
       "    <tr>\n",
       "      <th>4</th>\n",
       "      <td>64.5603</td>\n",
       "      <td>62.6139</td>\n",
       "      <td>49.500</td>\n",
       "      <td>49.370</td>\n",
       "      <td>246.568520</td>\n",
       "      <td>246.557993</td>\n",
       "      <td>0.00</td>\n",
       "      <td>0.00</td>\n",
       "      <td>1</td>\n",
       "      <td>45</td>\n",
       "      <td>3</td>\n",
       "      <td>11</td>\n",
       "    </tr>\n",
       "    <tr>\n",
       "      <th>...</th>\n",
       "      <td>...</td>\n",
       "      <td>...</td>\n",
       "      <td>...</td>\n",
       "      <td>...</td>\n",
       "      <td>...</td>\n",
       "      <td>...</td>\n",
       "      <td>...</td>\n",
       "      <td>...</td>\n",
       "      <td>...</td>\n",
       "      <td>...</td>\n",
       "      <td>...</td>\n",
       "      <td>...</td>\n",
       "    </tr>\n",
       "    <tr>\n",
       "      <th>28552</th>\n",
       "      <td>63.8336</td>\n",
       "      <td>63.7580</td>\n",
       "      <td>59.360</td>\n",
       "      <td>59.150</td>\n",
       "      <td>385.100154</td>\n",
       "      <td>385.073838</td>\n",
       "      <td>1069.29</td>\n",
       "      <td>1065.60</td>\n",
       "      <td>6</td>\n",
       "      <td>52</td>\n",
       "      <td>17</td>\n",
       "      <td>12</td>\n",
       "    </tr>\n",
       "    <tr>\n",
       "      <th>28553</th>\n",
       "      <td>63.8336</td>\n",
       "      <td>63.7580</td>\n",
       "      <td>59.360</td>\n",
       "      <td>59.150</td>\n",
       "      <td>385.100154</td>\n",
       "      <td>385.073838</td>\n",
       "      <td>1069.37</td>\n",
       "      <td>1066.87</td>\n",
       "      <td>6</td>\n",
       "      <td>52</td>\n",
       "      <td>18</td>\n",
       "      <td>12</td>\n",
       "    </tr>\n",
       "    <tr>\n",
       "      <th>28554</th>\n",
       "      <td>63.8336</td>\n",
       "      <td>63.7580</td>\n",
       "      <td>59.360</td>\n",
       "      <td>59.150</td>\n",
       "      <td>385.100154</td>\n",
       "      <td>385.073838</td>\n",
       "      <td>1068.72</td>\n",
       "      <td>1066.11</td>\n",
       "      <td>6</td>\n",
       "      <td>52</td>\n",
       "      <td>19</td>\n",
       "      <td>12</td>\n",
       "    </tr>\n",
       "    <tr>\n",
       "      <th>28555</th>\n",
       "      <td>63.8336</td>\n",
       "      <td>63.7580</td>\n",
       "      <td>59.360</td>\n",
       "      <td>59.150</td>\n",
       "      <td>385.100154</td>\n",
       "      <td>385.073838</td>\n",
       "      <td>1547.20</td>\n",
       "      <td>1544.07</td>\n",
       "      <td>3</td>\n",
       "      <td>52</td>\n",
       "      <td>18</td>\n",
       "      <td>12</td>\n",
       "    </tr>\n",
       "    <tr>\n",
       "      <th>28556</th>\n",
       "      <td>63.8336</td>\n",
       "      <td>63.7580</td>\n",
       "      <td>59.360</td>\n",
       "      <td>59.150</td>\n",
       "      <td>385.100154</td>\n",
       "      <td>385.073838</td>\n",
       "      <td>1544.66</td>\n",
       "      <td>1542.95</td>\n",
       "      <td>3</td>\n",
       "      <td>52</td>\n",
       "      <td>19</td>\n",
       "      <td>12</td>\n",
       "    </tr>\n",
       "  </tbody>\n",
       "</table>\n",
       "<p>28557 rows × 12 columns</p>\n",
       "</div>"
      ],
      "text/plain": [
       "       <USD_HIGH>  <USD_LOW>  <BRENT_HIGH>  <BRENT_LOW>   <AF_HIGH>  \\\n",
       "0         63.6750    63.6750        48.955       48.765  249.597468   \n",
       "1         64.0934    62.3727        48.955       48.765  249.597468   \n",
       "2         64.5614    64.0450        48.955       48.765  246.563256   \n",
       "3         64.5622    63.5524        48.955       48.765  246.568520   \n",
       "4         64.5603    62.6139        49.500       49.370  246.568520   \n",
       "...           ...        ...           ...          ...         ...   \n",
       "28552     63.8336    63.7580        59.360       59.150  385.100154   \n",
       "28553     63.8336    63.7580        59.360       59.150  385.100154   \n",
       "28554     63.8336    63.7580        59.360       59.150  385.100154   \n",
       "28555     63.8336    63.7580        59.360       59.150  385.100154   \n",
       "28556     63.8336    63.7580        59.360       59.150  385.100154   \n",
       "\n",
       "         <AF_LOW>  <RTSI_HIGH>  <RTSI_LOW>  <WEEK_DAY>  <WEEK_NUM>  <HOUR>  \\\n",
       "0      249.279047         0.00        0.00           7          44      23   \n",
       "1      249.279047         0.00        0.00           1          45       0   \n",
       "2      246.542204         0.00        0.00           1          45       1   \n",
       "3      246.542204         0.00        0.00           1          45       2   \n",
       "4      246.557993         0.00        0.00           1          45       3   \n",
       "...           ...          ...         ...         ...         ...     ...   \n",
       "28552  385.073838      1069.29     1065.60           6          52      17   \n",
       "28553  385.073838      1069.37     1066.87           6          52      18   \n",
       "28554  385.073838      1068.72     1066.11           6          52      19   \n",
       "28555  385.073838      1547.20     1544.07           3          52      18   \n",
       "28556  385.073838      1544.66     1542.95           3          52      19   \n",
       "\n",
       "       <MONTH>  \n",
       "0           11  \n",
       "1           11  \n",
       "2           11  \n",
       "3           11  \n",
       "4           11  \n",
       "...        ...  \n",
       "28552       12  \n",
       "28553       12  \n",
       "28554       12  \n",
       "28555       12  \n",
       "28556       12  \n",
       "\n",
       "[28557 rows x 12 columns]"
      ]
     },
     "execution_count": 17,
     "metadata": {},
     "output_type": "execute_result"
    }
   ],
   "source": [
    "FillingFreeCellsLastValue(columns).fit_transform(total_ds)"
   ]
  },
  {
   "cell_type": "code",
   "execution_count": 18,
   "metadata": {
    "scrolled": true
   },
   "outputs": [
    {
     "name": "stdout",
     "output_type": "stream",
     "text": [
      "<class 'pandas.core.frame.DataFrame'>\n",
      "Int64Index: 28557 entries, 0 to 28556\n",
      "Data columns (total 12 columns):\n",
      " #   Column        Non-Null Count  Dtype  \n",
      "---  ------        --------------  -----  \n",
      " 0   <USD_HIGH>    28557 non-null  float64\n",
      " 1   <USD_LOW>     28557 non-null  float64\n",
      " 2   <BRENT_HIGH>  28557 non-null  float64\n",
      " 3   <BRENT_LOW>   28557 non-null  float64\n",
      " 4   <AF_HIGH>     28557 non-null  float64\n",
      " 5   <AF_LOW>      28557 non-null  float64\n",
      " 6   <RTSI_HIGH>   28557 non-null  float64\n",
      " 7   <RTSI_LOW>    28557 non-null  float64\n",
      " 8   <WEEK_DAY>    28557 non-null  int64  \n",
      " 9   <WEEK_NUM>    28557 non-null  int64  \n",
      " 10  <HOUR>        28557 non-null  int64  \n",
      " 11  <MONTH>       28557 non-null  int64  \n",
      "dtypes: float64(8), int64(4)\n",
      "memory usage: 2.8 MB\n"
     ]
    }
   ],
   "source": [
    "total_ds.info()"
   ]
  },
  {
   "cell_type": "code",
   "execution_count": 19,
   "metadata": {},
   "outputs": [],
   "source": [
    "train_data = np.array(total_ds)"
   ]
  },
  {
   "cell_type": "code",
   "execution_count": 20,
   "metadata": {},
   "outputs": [],
   "source": [
    "ds_x = []\n",
    "ds_y_up = []\n",
    "ds_y_down = []\n",
    "\n",
    "days_hist= 20\n",
    "days_predict = 7\n",
    "hours_in_day = 24\n",
    "num_history_values = hours_in_day * days_hist\n",
    "num_predicted_value = hours_in_day * days_predict\n",
    "\n",
    "threshold = 4\n",
    "\n",
    "\n",
    "for num, line in enumerate(train_data[:-(num_history_values+num_predicted_value)]):\n",
    "    ds_x.append(train_data[num:num+num_history_values].reshape((train_data[num:num+num_history_values].size)))\n",
    "\n",
    "for num, line in enumerate(train_data[num_history_values:-num_predicted_value]):\n",
    "    x = train_data[num_history_values+num,0]\n",
    "    y = np.max(train_data[num_history_values+num:num_history_values+num+num_predicted_value,0])\n",
    "    res = (y/x-1)*100\n",
    "    if res >= threshold:\n",
    "        ds_y_up.append(1)\n",
    "    else:\n",
    "        ds_y_up.append(0)\n",
    "        \n",
    "for num, line in enumerate(train_data[num_history_values:-num_predicted_value]):\n",
    "    x = train_data[num_history_values+num,0]\n",
    "    y = np.min(train_data[num_history_values+num:num_history_values+num+num_predicted_value,0])\n",
    "    res = (y/x-1)*100\n",
    "    if res < -threshold:\n",
    "        ds_y_down.append(1)\n",
    "    else:\n",
    "        ds_y_down.append(0)\n",
    "        \n",
    "\n",
    "# for num in range(len(train_data[:-num_predicted_value-num_history_values])):\n",
    "#     ds_hist.append(train_data[num+num_history_values:num+num_history_values+num_predicted_value,0])"
   ]
  },
  {
   "cell_type": "code",
   "execution_count": 21,
   "metadata": {
    "scrolled": false
   },
   "outputs": [],
   "source": [
    "def get_slice(x,idx):\n",
    "    return x[idx+num_history_values:idx+num_history_values+num_predicted_value,0]"
   ]
  },
  {
   "cell_type": "code",
   "execution_count": 22,
   "metadata": {
    "scrolled": false
   },
   "outputs": [],
   "source": [
    "ds_hist = list(map(lambda a:get_slice(train_data,a), list(range(len(train_data[:-num_predicted_value-num_history_values])))))"
   ]
  },
  {
   "cell_type": "code",
   "execution_count": 23,
   "metadata": {
    "scrolled": true
   },
   "outputs": [
    {
     "name": "stdout",
     "output_type": "stream",
     "text": [
      "percent up 4%= 8.430972087856963\n",
      "percent down 4%= 4.199362212906231\n"
     ]
    }
   ],
   "source": [
    "# \n",
    "counter = 0\n",
    "idxs = []\n",
    "for idx,i in enumerate(ds_y_up):\n",
    "    if i == 1:\n",
    "        counter += 1\n",
    "        idxs.append(idx)\n",
    "print('percent up '+str(threshold)+'%=',counter*100/len(ds_y_up))\n",
    "counter = 0\n",
    "idxs = []\n",
    "for idx,i in enumerate(ds_y_down):\n",
    "    if i == 1:\n",
    "        counter += 1\n",
    "        idxs.append(idx)\n",
    "print('percent down '+str(threshold)+'%=',counter*100/len(ds_y_down))"
   ]
  },
  {
   "cell_type": "code",
   "execution_count": 24,
   "metadata": {},
   "outputs": [],
   "source": [
    "import matplotlib.pyplot as plt"
   ]
  },
  {
   "cell_type": "code",
   "execution_count": 25,
   "metadata": {},
   "outputs": [],
   "source": [
    "def get_usd_course(x):\n",
    "    return np.array(x).reshape(-1,12)[:,0]"
   ]
  },
  {
   "cell_type": "code",
   "execution_count": 26,
   "metadata": {},
   "outputs": [],
   "source": [
    "def plot_graph(ds_x, ds_y, idx):\n",
    "    plt.plot(get_usd_course(ds_x[2]))\n",
    "    plt.plot(range(num_history_values,num_history_values+num_predicted_value),ds_hist[2], color = 'red')"
   ]
  },
  {
   "cell_type": "code",
   "execution_count": 27,
   "metadata": {},
   "outputs": [
    {
     "data": {
      "text/plain": [
       "[<matplotlib.lines.Line2D at 0x14159543148>]"
      ]
     },
     "execution_count": 27,
     "metadata": {},
     "output_type": "execute_result"
    },
    {
     "data": {
      "image/png": "[encoded data removed]",
      "text/plain": [
       "<Figure size 432x288 with 1 Axes>"
      ]
     },
     "metadata": {
      "needs_background": "light"
     },
     "output_type": "display_data"
    }
   ],
   "source": [
    "idx = 3550\n",
    "plt.plot(get_usd_course(ds_x[idx]))\n",
    "plt.plot(range(num_history_values,num_history_values+num_predicted_value),ds_hist[idx], color = 'red')"
   ]
  },
  {
   "cell_type": "code",
   "execution_count": 28,
   "metadata": {
    "scrolled": false
   },
   "outputs": [],
   "source": [
    "ds_x = np.asarray(ds_x, dtype = np.float16)\n",
    "ds_y_up = np.asarray(ds_y_up, dtype = np.bool).reshape(-1,1)\n",
    "ds_y_down = np.asarray(ds_y_down, dtype = np.bool).reshape(-1,1)\n",
    "ds_hist = np.asarray(ds_hist, dtype = np.float16)"
   ]
  },
  {
   "cell_type": "code",
   "execution_count": 29,
   "metadata": {},
   "outputs": [],
   "source": [
    "ds_y_total = np.hstack((ds_y_up,ds_y_down, ds_hist))"
   ]
  },
  {
   "cell_type": "markdown",
   "metadata": {},
   "source": [
    "# shuffle total ds"
   ]
  },
  {
   "cell_type": "code",
   "execution_count": 30,
   "metadata": {},
   "outputs": [],
   "source": [
    "idx = np.array(range(len(ds_y_up)))"
   ]
  },
  {
   "cell_type": "code",
   "execution_count": 31,
   "metadata": {},
   "outputs": [],
   "source": [
    "np.random.shuffle(idx)"
   ]
  },
  {
   "cell_type": "code",
   "execution_count": 32,
   "metadata": {},
   "outputs": [],
   "source": [
    "ds_x = ds_x[idx]\n",
    "ds_y_total = ds_y_total[idx]"
   ]
  },
  {
   "cell_type": "markdown",
   "metadata": {},
   "source": [
    "# split total dataset at train and test set's"
   ]
  },
  {
   "cell_type": "code",
   "execution_count": 34,
   "metadata": {},
   "outputs": [],
   "source": [
    "from sklearn.model_selection import train_test_split"
   ]
  },
  {
   "cell_type": "code",
   "execution_count": 35,
   "metadata": {},
   "outputs": [],
   "source": [
    "ds_x_train, ds_x_test, ds_y_train, ds_y_test =  train_test_split(ds_x, ds_y_total, test_size = 0.2, random_state = 42)"
   ]
  },
  {
   "cell_type": "code",
   "execution_count": 36,
   "metadata": {
    "scrolled": false
   },
   "outputs": [],
   "source": [
    "def plot_graph(idx, use_train_set = True):\n",
    "    if use_train_set:\n",
    "        ds_y = ds_y_train\n",
    "        ds_x = ds_x_train\n",
    "    else:\n",
    "        ds_y = ds_y_test\n",
    "        ds_x = ds_x_test\n",
    "    plt.figure(figsize=(20,5))\n",
    "    plt.plot(get_usd_course(ds_x[idx]), color = 'black', label = 'history')\n",
    "    if ds_y[idx,0] == 1:\n",
    "        color = 'red'\n",
    "    else:\n",
    "        color = 'blue'\n",
    "    plt.plot(range(num_history_values,num_history_values+num_predicted_value),ds_y[idx,2:], color = color, label = 'future')   \n",
    "    \n",
    "    y = plt.ylim()[0]\n",
    "    plt.text(0,y,'red = рост >4%, blue = не вырастет больше 4%')\n",
    "#     plt.text(0,y - 2, '')\n",
    "    plt.legend()"
   ]
  },
  {
   "cell_type": "code",
   "execution_count": 37,
   "metadata": {
    "scrolled": false
   },
   "outputs": [
    {
     "data": {
      "image/png": "[encoded data removed]",
      "text/plain": [
       "<Figure size 1440x360 with 1 Axes>"
      ]
     },
     "metadata": {
      "needs_background": "light"
     },
     "output_type": "display_data"
    },
    {
     "data": {
      "image/png": "[encoded data removed]",
      "text/plain": [
       "<Figure size 1440x360 with 1 Axes>"
      ]
     },
     "metadata": {
      "needs_background": "light"
     },
     "output_type": "display_data"
    }
   ],
   "source": [
    "plot_graph(609)\n",
    "plot_graph(610)"
   ]
  },
  {
   "cell_type": "code",
   "execution_count": 38,
   "metadata": {},
   "outputs": [],
   "source": [
    "from sklearn.linear_model import SGDClassifier\n",
    "from sklearn.tree import DecisionTreeClassifier\n",
    "from sklearn.neighbors import KNeighborsClassifier\n",
    "from sklearn.ensemble import RandomForestClassifier\n",
    "from sklearn.neural_network import MLPClassifier"
   ]
  },
  {
   "cell_type": "code",
   "execution_count": 61,
   "metadata": {},
   "outputs": [],
   "source": [
    "sgd_clf = SGDClassifier(n_jobs = -1)\n",
    "dt_clf = DecisionTreeClassifier(max_depth = 40)\n",
    "knn_clf = KNeighborsClassifier(n_neighbors=10, n_jobs = -1)\n",
    "rf_clf = RandomForestClassifier(n_estimators=20, max_depth=40, n_jobs = -1)\n",
    "mlp_clf = MLPClassifier(hidden_layer_sizes=(1000,100))"
   ]
  },
  {
   "cell_type": "code",
   "execution_count": 40,
   "metadata": {},
   "outputs": [],
   "source": [
    "from sklearn.metrics import f1_score, cohen_kappa_score"
   ]
  },
  {
   "cell_type": "code",
   "execution_count": 41,
   "metadata": {},
   "outputs": [],
   "source": [
    "import time"
   ]
  },
  {
   "cell_type": "code",
   "execution_count": 42,
   "metadata": {},
   "outputs": [
    {
     "name": "stdout",
     "output_type": "stream",
     "text": [
      "0.03496526877085368\n"
     ]
    }
   ],
   "source": [
    "current_time = time.time()\n",
    "rf_clf.fit(ds_x_train,ds_y_train[:,0])\n",
    "elapsed_time = (time.time() - current_time) / 60\n",
    "print(elapsed_time)"
   ]
  },
  {
   "cell_type": "code",
   "execution_count": 62,
   "metadata": {},
   "outputs": [
    {
     "name": "stdout",
     "output_type": "stream",
     "text": [
      "41.63955252965291\n"
     ]
    }
   ],
   "source": [
    "current_time = time.time()\n",
    "mlp_clf.fit(ds_x_train,ds_y_train[:,0])\n",
    "elapsed_time = (time.time() - current_time) / 60\n",
    "print(elapsed_time)"
   ]
  },
  {
   "cell_type": "code",
   "execution_count": 63,
   "metadata": {},
   "outputs": [
    {
     "data": {
      "text/plain": [
       "0.0"
      ]
     },
     "execution_count": 63,
     "metadata": {},
     "output_type": "execute_result"
    }
   ],
   "source": [
    "f1_score(ds_y_train[:,0], mlp_clf.predict(ds_x_train))"
   ]
  },
  {
   "cell_type": "code",
   "execution_count": 64,
   "metadata": {},
   "outputs": [
    {
     "data": {
      "text/plain": [
       "0.0"
      ]
     },
     "execution_count": 64,
     "metadata": {},
     "output_type": "execute_result"
    }
   ],
   "source": [
    "cohen_kappa_score(ds_y_train[:,0], mlp_clf.predict(ds_x_train))"
   ]
  },
  {
   "cell_type": "code",
   "execution_count": 45,
   "metadata": {},
   "outputs": [],
   "source": [
    "test_pred = rf_clf.predict(ds_x_test)"
   ]
  },
  {
   "cell_type": "code",
   "execution_count": 46,
   "metadata": {},
   "outputs": [
    {
     "data": {
      "text/plain": [
       "0.9628844114528102"
      ]
     },
     "execution_count": 46,
     "metadata": {},
     "output_type": "execute_result"
    }
   ],
   "source": [
    "f1_score(ds_y_test[:,0], test_pred)"
   ]
  },
  {
   "cell_type": "code",
   "execution_count": 47,
   "metadata": {},
   "outputs": [
    {
     "data": {
      "text/plain": [
       "0.9594601268341715"
      ]
     },
     "execution_count": 47,
     "metadata": {},
     "output_type": "execute_result"
    }
   ],
   "source": [
    "cohen_kappa_score(ds_y_test[:,0], test_pred)"
   ]
  },
  {
   "cell_type": "code",
   "execution_count": 48,
   "metadata": {},
   "outputs": [],
   "source": [
    "import matplotlib.pyplot as plt"
   ]
  },
  {
   "cell_type": "code",
   "execution_count": 65,
   "metadata": {},
   "outputs": [
    {
     "name": "stdout",
     "output_type": "stream",
     "text": [
      "0\n",
      "20\n",
      "54\n",
      "84\n",
      "86\n",
      "103\n",
      "104\n",
      "112\n",
      "135\n",
      "157\n",
      "168\n",
      "170\n",
      "208\n",
      "247\n",
      "282\n",
      "289\n",
      "331\n",
      "344\n",
      "351\n",
      "361\n",
      "362\n",
      "377\n",
      "388\n",
      "397\n",
      "416\n",
      "425\n",
      "431\n",
      "432\n",
      "437\n",
      "442\n",
      "476\n",
      "477\n",
      "483\n",
      "486\n",
      "497\n",
      "508\n",
      "509\n",
      "521\n",
      "539\n",
      "545\n",
      "553\n",
      "554\n",
      "556\n",
      "590\n",
      "591\n",
      "592\n",
      "596\n",
      "618\n",
      "622\n",
      "639\n",
      "654\n",
      "655\n",
      "659\n",
      "665\n",
      "691\n",
      "698\n",
      "702\n",
      "708\n",
      "736\n",
      "748\n",
      "772\n",
      "782\n",
      "813\n",
      "829\n",
      "843\n",
      "844\n",
      "848\n",
      "862\n",
      "865\n",
      "866\n",
      "878\n",
      "889\n",
      "895\n",
      "900\n",
      "910\n",
      "918\n",
      "939\n",
      "950\n",
      "957\n",
      "963\n",
      "1009\n",
      "1014\n",
      "1020\n",
      "1038\n",
      "1049\n",
      "1063\n",
      "1075\n",
      "1081\n",
      "1096\n",
      "1098\n",
      "1121\n",
      "1125\n",
      "1144\n",
      "1148\n",
      "1155\n",
      "1172\n",
      "1173\n",
      "1198\n",
      "1219\n",
      "1224\n",
      "1235\n",
      "1236\n",
      "1237\n",
      "1293\n",
      "1315\n",
      "1349\n",
      "1353\n",
      "1360\n",
      "1375\n",
      "1386\n",
      "1392\n",
      "1432\n",
      "1445\n",
      "1447\n",
      "1452\n",
      "1489\n",
      "1511\n",
      "1515\n",
      "1530\n",
      "1553\n",
      "1562\n",
      "1576\n",
      "1580\n",
      "1595\n",
      "1600\n",
      "1611\n",
      "1616\n",
      "1627\n",
      "1645\n",
      "1646\n",
      "1661\n",
      "1672\n",
      "1678\n",
      "1689\n",
      "1701\n",
      "1703\n",
      "1716\n",
      "1722\n",
      "1725\n",
      "1726\n",
      "1735\n",
      "1738\n",
      "1756\n",
      "1790\n",
      "1795\n",
      "1812\n",
      "1813\n",
      "1815\n",
      "1820\n",
      "1822\n",
      "1827\n",
      "1833\n",
      "1837\n",
      "1859\n",
      "1864\n",
      "1872\n",
      "1874\n",
      "1877\n",
      "1887\n",
      "1909\n",
      "1917\n",
      "1918\n",
      "1934\n",
      "1951\n",
      "1960\n",
      "1967\n",
      "1968\n",
      "2003\n",
      "2006\n",
      "2025\n",
      "2031\n",
      "2057\n",
      "2069\n",
      "2079\n",
      "2094\n",
      "2126\n",
      "2146\n",
      "2147\n",
      "2150\n",
      "2152\n",
      "2154\n",
      "2165\n",
      "2179\n",
      "2199\n",
      "2213\n",
      "2216\n",
      "2250\n",
      "2255\n",
      "2283\n",
      "2317\n",
      "2331\n",
      "2348\n",
      "2353\n",
      "2372\n",
      "2385\n",
      "2387\n",
      "2389\n",
      "2407\n",
      "2409\n",
      "2417\n",
      "2441\n",
      "2453\n",
      "2483\n",
      "2484\n",
      "2485\n",
      "2494\n",
      "2498\n",
      "2505\n",
      "2513\n",
      "2526\n",
      "2527\n",
      "2531\n",
      "2532\n",
      "2540\n",
      "2556\n",
      "2561\n",
      "2578\n",
      "2608\n",
      "2612\n",
      "2630\n",
      "2655\n",
      "2656\n",
      "2660\n",
      "2678\n",
      "2679\n",
      "2717\n",
      "2736\n",
      "2768\n",
      "2787\n",
      "2811\n",
      "2817\n",
      "2823\n",
      "2834\n",
      "2837\n",
      "2838\n",
      "2841\n",
      "2846\n",
      "2853\n",
      "2861\n",
      "2926\n",
      "2939\n",
      "2947\n",
      "2954\n",
      "2955\n",
      "2961\n",
      "2965\n",
      "2971\n",
      "2979\n",
      "2981\n",
      "2985\n",
      "2989\n",
      "2994\n",
      "3013\n",
      "3048\n",
      "3067\n",
      "3073\n",
      "3076\n",
      "3079\n",
      "3122\n",
      "3125\n",
      "3126\n",
      "3127\n",
      "3131\n",
      "3136\n",
      "3145\n",
      "3175\n",
      "3177\n",
      "3183\n",
      "3188\n",
      "3194\n",
      "3242\n",
      "3246\n",
      "3247\n",
      "3254\n",
      "3273\n",
      "3289\n",
      "3295\n",
      "3299\n",
      "3300\n",
      "3351\n",
      "3353\n",
      "3367\n",
      "3379\n",
      "3387\n",
      "3399\n",
      "3404\n",
      "3406\n",
      "3422\n",
      "3429\n",
      "3447\n",
      "3448\n",
      "3468\n",
      "3475\n",
      "3496\n",
      "3503\n",
      "3504\n",
      "3507\n",
      "3522\n",
      "3528\n",
      "3532\n",
      "3537\n",
      "3549\n",
      "3559\n",
      "3560\n",
      "3598\n",
      "3630\n",
      "3654\n",
      "3683\n",
      "3688\n",
      "3697\n",
      "3698\n",
      "3720\n",
      "3728\n",
      "3733\n",
      "3750\n",
      "3776\n",
      "3778\n",
      "3805\n",
      "3817\n",
      "3832\n",
      "3835\n",
      "3837\n",
      "3846\n",
      "3860\n",
      "3865\n",
      "3883\n",
      "3907\n",
      "3917\n",
      "3936\n",
      "3968\n",
      "3970\n",
      "3994\n",
      "3995\n",
      "4003\n",
      "4008\n",
      "4009\n",
      "4012\n",
      "4018\n",
      "4033\n",
      "4036\n",
      "4040\n",
      "4046\n",
      "4062\n",
      "4094\n",
      "4102\n",
      "4103\n",
      "4123\n",
      "4132\n",
      "4150\n",
      "4164\n",
      "4178\n",
      "4190\n",
      "4191\n",
      "4195\n",
      "4204\n",
      "4205\n",
      "4216\n",
      "4242\n",
      "4258\n",
      "4260\n",
      "4299\n",
      "4314\n",
      "4325\n",
      "4343\n",
      "4378\n",
      "4390\n",
      "4407\n",
      "4409\n",
      "4431\n",
      "4476\n",
      "4482\n",
      "4488\n",
      "4495\n",
      "4513\n",
      "4532\n",
      "4561\n",
      "4581\n",
      "4593\n",
      "4601\n",
      "4623\n",
      "4654\n",
      "4661\n",
      "4678\n",
      "4685\n",
      "4690\n",
      "4705\n",
      "4707\n",
      "4778\n",
      "4795\n",
      "4796\n",
      "4798\n",
      "4808\n",
      "4819\n",
      "4821\n",
      "4827\n",
      "4850\n",
      "4876\n",
      "4878\n",
      "4893\n",
      "4901\n",
      "4930\n",
      "4934\n",
      "4939\n",
      "4951\n",
      "4953\n",
      "4956\n",
      "4975\n",
      "4989\n",
      "4990\n",
      "5005\n",
      "5039\n",
      "5077\n",
      "5081\n",
      "5096\n",
      "5100\n",
      "5105\n",
      "5108\n",
      "5117\n",
      "5138\n",
      "5150\n",
      "5166\n",
      "5207\n",
      "5210\n",
      "5228\n",
      "5233\n",
      "5247\n",
      "5254\n",
      "5256\n",
      "5275\n",
      "5282\n",
      "5300\n",
      "5313\n",
      "5333\n",
      "5336\n",
      "5345\n",
      "5353\n",
      "5363\n",
      "5397\n",
      "5404\n",
      "5407\n",
      "5431\n",
      "5495\n",
      "5519\n",
      "5520\n",
      "5523\n",
      "5537\n",
      "5548\n",
      "5551\n",
      "5552\n",
      "5553\n",
      "5572\n",
      "5575\n"
     ]
    }
   ],
   "source": [
    "counter = 0\n",
    "for idx, element in enumerate(test_pred):\n",
    "    if element == 1 and ds_y_test[idx,0] == 1:\n",
    "        print(idx)\n",
    "#         counter += 1\n",
    "# print(counter * 100/ len(test_pred))"
   ]
  },
  {
   "cell_type": "code",
   "execution_count": 69,
   "metadata": {},
   "outputs": [
    {
     "name": "stdout",
     "output_type": "stream",
     "text": [
      "1.0\n"
     ]
    },
    {
     "data": {
      "image/png": "[encoded data removed]",
      "text/plain": [
       "<Figure size 1440x360 with 1 Axes>"
      ]
     },
     "metadata": {
      "needs_background": "light"
     },
     "output_type": "display_data"
    }
   ],
   "source": [
    "number = 104\n",
    "plot_graph(number, use_train_set= False)\n",
    "print(test_pred[number])"
   ]
  },
  {
   "cell_type": "code",
   "execution_count": 52,
   "metadata": {},
   "outputs": [],
   "source": [
    "from sklearn.model_selection import GridSearchCV"
   ]
  },
  {
   "cell_type": "code",
   "execution_count": 54,
   "metadata": {},
   "outputs": [],
   "source": [
    "param_grid = [{'n_estimators':[80,83,85,85,90,93,95,97,103,105,107],\n",
    "               'max_depth':[70,75,80,77,83,85,87],\n",
    "#                'min_samples_split':[2,5,10],\n",
    "               'min_samples_leaf': [2],\n",
    "               'max_features':[6]}]"
   ]
  },
  {
   "cell_type": "code",
   "execution_count": 55,
   "metadata": {},
   "outputs": [
    {
     "data": {
      "text/plain": [
       "{'max_depth': 80, 'max_features': 6, 'min_samples_leaf': 2, 'n_estimators': 85}"
      ]
     },
     "execution_count": 55,
     "metadata": {},
     "output_type": "execute_result"
    }
   ],
   "source": [
    "grid_search = GridSearchCV(rf_clf, param_grid, cv = 10, n_jobs=-1)\n",
    "grid_search.fit(ds_x_train,ds_y_train[:,0])\n",
    "grid_search.best_params_"
   ]
  },
  {
   "cell_type": "code",
   "execution_count": 56,
   "metadata": {},
   "outputs": [
    {
     "data": {
      "text/plain": [
       "RandomForestClassifier(bootstrap=True, ccp_alpha=0.0, class_weight=None,\n",
       "                       criterion='gini', max_depth=80, max_features='auto',\n",
       "                       max_leaf_nodes=None, max_samples=None,\n",
       "                       min_impurity_decrease=0.0, min_impurity_split=None,\n",
       "                       min_samples_leaf=1, min_samples_split=2,\n",
       "                       min_weight_fraction_leaf=0.0, n_estimators=85, n_jobs=-1,\n",
       "                       oob_score=False, random_state=None, verbose=0,\n",
       "                       warm_start=False)"
      ]
     },
     "execution_count": 56,
     "metadata": {},
     "output_type": "execute_result"
    }
   ],
   "source": [
    "rf_clf.max_depth = 80\n",
    "rf_clf.n_estimators = 85\n",
    "rf_clf.fit(ds_x_train,ds_y_train[:,0])"
   ]
  },
  {
   "cell_type": "code",
   "execution_count": 57,
   "metadata": {},
   "outputs": [],
   "source": [
    "test_pred = rf_clf.predict(ds_x_test)"
   ]
  },
  {
   "cell_type": "code",
   "execution_count": 58,
   "metadata": {},
   "outputs": [
    {
     "data": {
      "text/plain": [
       "0.9526016272622553"
      ]
     },
     "execution_count": 58,
     "metadata": {},
     "output_type": "execute_result"
    }
   ],
   "source": [
    "cohen_kappa_score(ds_y_test[:,0], test_pred)"
   ]
  },
  {
   "cell_type": "code",
   "execution_count": 59,
   "metadata": {},
   "outputs": [
    {
     "data": {
      "text/plain": [
       "0.9566137566137567"
      ]
     },
     "execution_count": 59,
     "metadata": {},
     "output_type": "execute_result"
    }
   ],
   "source": [
    "f1_score(ds_y_test[:,0], test_pred)"
   ]
  },
  {
   "cell_type": "code",
   "execution_count": null,
   "metadata": {},
   "outputs": [],
   "source": []
  }
 ],
 "metadata": {
  "kernelspec": {
   "display_name": "Python 3",
   "language": "python",
   "name": "python3"
  },
  "language_info": {
   "codemirror_mode": {
    "name": "ipython",
    "version": 3
   },
   "file_extension": ".py",
   "mimetype": "text/x-python",
   "name": "python",
   "nbconvert_exporter": "python",
   "pygments_lexer": "ipython3",
   "version": "3.7.4"
  }
 },
 "nbformat": 4,
 "nbformat_minor": 2
}
