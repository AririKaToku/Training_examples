{
 "cells": [
  {
   "cell_type": "code",
   "execution_count": 1,
   "metadata": {},
   "outputs": [],
   "source": [
    "import numpy as np"
   ]
  },
  {
   "cell_type": "code",
   "execution_count": 64,
   "metadata": {},
   "outputs": [],
   "source": [
    "import pandas as pd"
   ]
  },
  {
   "cell_type": "code",
   "execution_count": 229,
   "metadata": {},
   "outputs": [],
   "source": [
    "usd = pd.read_csv('USD_RUB_60m.txt')\n",
    "brent = pd.read_csv('BRENT_60m.txt')\n",
    "american_finance = pd.read_csv('AMERICAN_FINANCE_60m.txt')\n",
    "rtsi = pd.read_csv('RTSI_60m.txt')"
   ]
  },
  {
   "cell_type": "code",
   "execution_count": 235,
   "metadata": {},
   "outputs": [],
   "source": [
    "rtsi_ds = rtsi[['<DATE>','<TIME>','<RTSI_HIGH>','<RTSI_LOW>']]\n",
    "usd_ds = usd[['<DATE>','<TIME>','<USD_HIGH>','<USD_LOW>']]\n",
    "brent_ds = brent[['<DATE>','<TIME>','<BRENT_HIGH>','<BRENT_LOW>']]\n",
    "american_finance_ds = american_finance[['<DATE>','<TIME>','<AF_HIGH>','<AF_LOW>']]"
   ]
  },
  {
   "cell_type": "code",
   "execution_count": 236,
   "metadata": {},
   "outputs": [],
   "source": [
    "total_ds = pd.merge(left = usd_ds, right = brent_ds, left_on=('<DATE>','<TIME>'), right_on=('<DATE>','<TIME>'), how='outer')"
   ]
  },
  {
   "cell_type": "code",
   "execution_count": 237,
   "metadata": {},
   "outputs": [],
   "source": [
    "total_ds = total_ds.merge(american_finance_ds, left_on=('<DATE>','<TIME>'), right_on=('<DATE>','<TIME>'), how = 'outer')"
   ]
  },
  {
   "cell_type": "code",
   "execution_count": 238,
   "metadata": {},
   "outputs": [],
   "source": [
    "total_ds = total_ds.merge(rtsi_ds, left_on=('<DATE>','<TIME>'), right_on=('<DATE>','<TIME>'), how='outer')"
   ]
  },
  {
   "cell_type": "code",
   "execution_count": 278,
   "metadata": {
    "scrolled": true
   },
   "outputs": [
    {
     "data": {
      "text/plain": [
       "count    24929.000000\n",
       "mean        58.253411\n",
       "std         11.556212\n",
       "min         27.100000\n",
       "25%         49.760000\n",
       "50%         58.630000\n",
       "75%         66.350000\n",
       "max         86.140000\n",
       "Name: <BRENT_LOW>, dtype: float64"
      ]
     },
     "execution_count": 278,
     "metadata": {},
     "output_type": "execute_result"
    }
   ],
   "source": [
    "total_ds['<BRENT_LOW>']"
   ]
  },
  {
   "cell_type": "code",
   "execution_count": 241,
   "metadata": {},
   "outputs": [],
   "source": [
    "import datetime"
   ]
  },
  {
   "cell_type": "code",
   "execution_count": 242,
   "metadata": {},
   "outputs": [],
   "source": [
    "total_ds['<WEEK_DAY>'] = list(map(lambda x: (datetime.datetime.strptime(str(x),'%Y%m%d').isoweekday()),total_ds['<DATE>']))"
   ]
  },
  {
   "cell_type": "code",
   "execution_count": 248,
   "metadata": {},
   "outputs": [],
   "source": [
    "total_ds['<HOUR>'] = list(map(lambda x: int(x / 10000), total_ds['<TIME>']))"
   ]
  },
  {
   "cell_type": "code",
   "execution_count": 256,
   "metadata": {},
   "outputs": [],
   "source": [
    "total_ds['<MONTH>'] = list(map(lambda x: int(str(x)[4:6]), total_ds['<DATE>']))"
   ]
  },
  {
   "cell_type": "code",
   "execution_count": 266,
   "metadata": {},
   "outputs": [
    {
     "name": "stdout",
     "output_type": "stream",
     "text": [
      "<class 'pandas.core.frame.DataFrame'>\n",
      "Int64Index: 28557 entries, 0 to 28556\n",
      "Data columns (total 13 columns):\n",
      " #   Column        Non-Null Count  Dtype  \n",
      "---  ------        --------------  -----  \n",
      " 0   <DATE>        28557 non-null  int64  \n",
      " 1   <TIME>        28557 non-null  int64  \n",
      " 2   <USD_HIGH>    26460 non-null  float64\n",
      " 3   <USD_LOW>     26460 non-null  float64\n",
      " 4   <BRENT_HIGH>  24929 non-null  float64\n",
      " 5   <BRENT_LOW>   24929 non-null  float64\n",
      " 6   <AF_HIGH>     24625 non-null  float64\n",
      " 7   <AF_LOW>      24625 non-null  float64\n",
      " 8   <RTSI_HIGH>   9738 non-null   float64\n",
      " 9   <RTSI_LOW>    9738 non-null   float64\n",
      " 10  <WEEK_DAY>    28557 non-null  int64  \n",
      " 11  <HOUR>        28557 non-null  int64  \n",
      " 12  <MONTH>       28557 non-null  int64  \n",
      "dtypes: float64(8), int64(5)\n",
      "memory usage: 3.1 MB\n"
     ]
    }
   ],
   "source": [
    "total_ds.info()"
   ]
  },
  {
   "cell_type": "code",
   "execution_count": 147,
   "metadata": {},
   "outputs": [
    {
     "data": {
      "text/plain": [
       "'<HIGH>_x'"
      ]
     },
     "execution_count": 147,
     "metadata": {},
     "output_type": "execute_result"
    }
   ],
   "source": [
    "total_ds.columns[2]"
   ]
  },
  {
   "cell_type": "code",
   "execution_count": 3,
   "metadata": {},
   "outputs": [],
   "source": [
    "data = np.asarray(array[1:])\n",
    "heads = array[0]"
   ]
  },
  {
   "cell_type": "code",
   "execution_count": 7,
   "metadata": {},
   "outputs": [],
   "source": [
    "minutes = np.asarray([element[2:4] for element in time]).reshape(-1,1).astype(np.int32)\n",
    "hours = np.asarray([element[:2] for element in time]).reshape(-1,1).astype(np.int32)"
   ]
  },
  {
   "cell_type": "code",
   "execution_count": 8,
   "metadata": {},
   "outputs": [],
   "source": [
    "date = data[:,0]"
   ]
  },
  {
   "cell_type": "code",
   "execution_count": 9,
   "metadata": {},
   "outputs": [],
   "source": [
    "year = np.asarray([element[:4] for element in date]).reshape(-1,1).astype(np.int32)\n",
    "month = np.asarray([element[4:6] for element in date]).reshape(-1,1).astype(np.int32)\n",
    "day = np.asarray([element[6:] for element in date]).reshape(-1,1).astype(np.int32)"
   ]
  },
  {
   "cell_type": "code",
   "execution_count": 10,
   "metadata": {},
   "outputs": [],
   "source": [
    "data = np.delete(data,1,1)\n",
    "data = np.delete(data,0,1)\n",
    "# data = data.astype(np.float32)\n",
    "data = np.hstack((year,month,day,hours,minutes,data))"
   ]
  },
  {
   "cell_type": "code",
   "execution_count": 11,
   "metadata": {},
   "outputs": [],
   "source": [
    "train_data = data[:,5]"
   ]
  },
  {
   "cell_type": "code",
   "execution_count": 12,
   "metadata": {},
   "outputs": [],
   "source": [
    "ds_x = []\n",
    "ds_y = []\n",
    "days_hist= 30\n",
    "days_predict = 5\n",
    "period = 24 * 4 * days_hist\n",
    "period_predict = 24 * 4 * days_predict\n",
    "for num,line in enumerate(train_data[:-(period+period_predict)]):\n",
    "    ds_x.append(train_data[num:num+period].reshape((train_data[num:num+period].size)))\n",
    "for line in train_data[period+period_predict:]:\n",
    "    ds_y.append(line)"
   ]
  },
  {
   "cell_type": "code",
   "execution_count": 13,
   "metadata": {
    "scrolled": false
   },
   "outputs": [],
   "source": [
    "ds_x = np.asarray(ds_x, dtype = np.float16)\n",
    "ds_y = np.asarray(ds_y, dtype = np.float16).reshape(-1,1)"
   ]
  },
  {
   "cell_type": "code",
   "execution_count": 14,
   "metadata": {},
   "outputs": [],
   "source": [
    "idx = np.array(range(len(ds_y)))"
   ]
  },
  {
   "cell_type": "code",
   "execution_count": 15,
   "metadata": {},
   "outputs": [],
   "source": [
    "np.random.shuffle(idx)"
   ]
  },
  {
   "cell_type": "code",
   "execution_count": 16,
   "metadata": {},
   "outputs": [],
   "source": [
    "ds_x = ds_x[idx]\n",
    "ds_y = ds_y[idx]"
   ]
  },
  {
   "cell_type": "code",
   "execution_count": 17,
   "metadata": {},
   "outputs": [
    {
     "data": {
      "text/plain": [
       "(102250, 2880)"
      ]
     },
     "execution_count": 17,
     "metadata": {},
     "output_type": "execute_result"
    }
   ],
   "source": [
    "ds_x.shape"
   ]
  },
  {
   "cell_type": "code",
   "execution_count": 18,
   "metadata": {},
   "outputs": [],
   "source": [
    "from sklearn.model_selection import train_test_split"
   ]
  },
  {
   "cell_type": "code",
   "execution_count": 19,
   "metadata": {},
   "outputs": [],
   "source": [
    "ds_x_train, ds_x_test, ds_y_train, ds_y_test =  train_test_split(ds_x, ds_y, test_size = 0.2, random_state = 42)"
   ]
  },
  {
   "cell_type": "code",
   "execution_count": 20,
   "metadata": {},
   "outputs": [],
   "source": [
    "from sklearn.linear_model import LinearRegression\n",
    "from sklearn.tree import DecisionTreeRegressor\n",
    "from sklearn.neighbors import KNeighborsRegressor\n",
    "from sklearn.ensemble import RandomForestRegressor\n",
    "from sklearn.neural_network import MLPRegressor\n",
    "from sklearn.gaussian_process import GaussianProcessRegressor\n",
    "from sklearn.tree import DecisionTreeRegressor"
   ]
  },
  {
   "cell_type": "code",
   "execution_count": 21,
   "metadata": {},
   "outputs": [],
   "source": [
    "linreg = LinearRegression(n_jobs = -1)\n",
    "dtreg = DecisionTreeRegressor(max_depth = 100)\n",
    "knreg = KNeighborsRegressor(n_neighbors=10, n_jobs = -1)\n",
    "rfr = RandomForestRegressor(n_estimators=20, max_depth=40, n_jobs = -1)\n",
    "mlpreg = MLPRegressor()"
   ]
  },
  {
   "cell_type": "code",
   "execution_count": 31,
   "metadata": {},
   "outputs": [],
   "source": [
    "from sklearn.metrics import mean_squared_error"
   ]
  },
  {
   "cell_type": "code",
   "execution_count": 32,
   "metadata": {
    "scrolled": true
   },
   "outputs": [
    {
     "name": "stderr",
     "output_type": "stream",
     "text": [
      "C:\\Anaconda3\\lib\\site-packages\\ipykernel_launcher.py:6: DataConversionWarning: A column-vector y was passed when a 1d array was expected. Please change the shape of y to (n_samples,), for example using ravel().\n",
      "  \n",
      "C:\\Anaconda3\\lib\\site-packages\\sklearn\\neural_network\\_multilayer_perceptron.py:1342: DataConversionWarning: A column-vector y was passed when a 1d array was expected. Please change the shape of y to (n_samples, ), for example using ravel().\n",
      "  y = column_or_1d(y, warn=True)\n"
     ]
    }
   ],
   "source": [
    "estimators = [linreg, dtreg, knreg, rfr, mlpreg]\n",
    "names = []\n",
    "scores = []\n",
    "for estimator in estimators:\n",
    "    names.append(str(estimator).split(sep = '(')[0])\n",
    "    estimator.fit(ds_x_train,ds_y_train)\n",
    "    scores.append(mean_squared_error(ds_y_train, estimator.predict(ds_x_train), squared = False))"
   ]
  },
  {
   "cell_type": "code",
   "execution_count": 38,
   "metadata": {},
   "outputs": [
    {
     "name": "stdout",
     "output_type": "stream",
     "text": [
      "LinearRegression 1.5633942\n",
      "DecisionTreeRegressor 0.0\n",
      "KNeighborsRegressor 0.08136\n",
      "RandomForestRegressor 0.09097668632017306\n",
      "MLPRegressor 4.206659826161971\n"
     ]
    }
   ],
   "source": [
    "for name,score in zip(names,scores):\n",
    "    print(name,score)"
   ]
  },
  {
   "cell_type": "code",
   "execution_count": 23,
   "metadata": {},
   "outputs": [],
   "source": [
    "from sklearn.model_selection import cross_val_score"
   ]
  },
  {
   "cell_type": "code",
   "execution_count": 39,
   "metadata": {},
   "outputs": [
    {
     "name": "stdout",
     "output_type": "stream",
     "text": [
      "0.8797822510405815\n"
     ]
    }
   ],
   "source": [
    "print(min(cross_val_score(linreg, ds_x_train, ds_y_train, cv=10, scoring='r2', n_jobs = -1)))"
   ]
  },
  {
   "cell_type": "code",
   "execution_count": 40,
   "metadata": {},
   "outputs": [
    {
     "name": "stdout",
     "output_type": "stream",
     "text": [
      "[0.9992003  0.99925785 0.99922397 0.99922071 0.99928554]\n"
     ]
    }
   ],
   "source": [
    "print(min(cross_val_score(knreg, ds_x_train[:40000], ds_y_train[:40000], cv=5, scoring='r2', n_jobs = -1)))"
   ]
  },
  {
   "cell_type": "code",
   "execution_count": 41,
   "metadata": {},
   "outputs": [
    {
     "name": "stdout",
     "output_type": "stream",
     "text": [
      "0.9808709015087994\n"
     ]
    }
   ],
   "source": [
    "print(min(cross_val_score(dtreg, ds_x_train[:40000], ds_y_train[:40000], cv=5, scoring='r2', n_jobs = -1)))"
   ]
  },
  {
   "cell_type": "code",
   "execution_count": 43,
   "metadata": {},
   "outputs": [
    {
     "name": "stdout",
     "output_type": "stream",
     "text": [
      "0.9943153384309652\n"
     ]
    }
   ],
   "source": [
    "print(min(cross_val_score(rfr, ds_x_train[:40000], ds_y_train[:40000], cv=5, scoring='r2', n_jobs = -1)))"
   ]
  },
  {
   "cell_type": "code",
   "execution_count": 22,
   "metadata": {},
   "outputs": [],
   "source": [
    "knreg.fit(ds_x_train,ds_y_train)\n",
    "predicted_values_knreg = knreg.predict(ds_x_test)"
   ]
  },
  {
   "cell_type": "code",
   "execution_count": 23,
   "metadata": {},
   "outputs": [],
   "source": [
    "dtreg.fit(ds_x_train,ds_y_train)\n",
    "predicted_values_dtreg = dtreg.predict(ds_x_test)"
   ]
  },
  {
   "cell_type": "code",
   "execution_count": 42,
   "metadata": {},
   "outputs": [
    {
     "name": "stderr",
     "output_type": "stream",
     "text": [
      "C:\\Anaconda3\\lib\\site-packages\\sklearn\\neural_network\\_multilayer_perceptron.py:1342: DataConversionWarning: A column-vector y was passed when a 1d array was expected. Please change the shape of y to (n_samples, ), for example using ravel().\n",
      "  y = column_or_1d(y, warn=True)\n"
     ]
    }
   ],
   "source": [
    "mlpreg.fit(ds_x_train,ds_y_train)\n",
    "predicted_values_mlp = mlpreg.predict(ds_x_test)"
   ]
  },
  {
   "cell_type": "code",
   "execution_count": 43,
   "metadata": {},
   "outputs": [],
   "source": [
    "linreg.fit(ds_x_train,ds_y_train)\n",
    "predicted_values_lr = linreg.predict(ds_x_test)"
   ]
  },
  {
   "cell_type": "markdown",
   "metadata": {},
   "source": [
    "kneighbours predictions - blue,\n",
    "decision tree prediction - green"
   ]
  },
  {
   "cell_type": "code",
   "execution_count": 25,
   "metadata": {},
   "outputs": [],
   "source": [
    "import matplotlib.pyplot as plt"
   ]
  },
  {
   "cell_type": "code",
   "execution_count": 63,
   "metadata": {
    "scrolled": false
   },
   "outputs": [
    {
     "data": {
      "text/plain": [
       "<matplotlib.collections.PathCollection at 0x1805a745388>"
      ]
     },
     "execution_count": 63,
     "metadata": {},
     "output_type": "execute_result"
    },
    {
     "data": {
      "image/png": "[encoded data removed]",
      "text/plain": [
       "<Figure size 1440x576 with 1 Axes>"
      ]
     },
     "metadata": {
      "needs_background": "light"
     },
     "output_type": "display_data"
    }
   ],
   "source": [
    "number = 11525\n",
    "combination = ds_x_test[number]\n",
    "length = len(combination)\n",
    "plt.figure(figsize=(20,8))\n",
    "plt.ylim(50,80)\n",
    "plt.xlim(0,4000)\n",
    "plt.scatter(range(length),combination,s=0.1)\n",
    "plt.scatter(900+length, ds_y_train[number],s=20, color = 'red')\n",
    "plt.scatter(900+length+10, predicted_values_knreg[number],s=20, color = 'blue')\n",
    "plt.scatter(900+length+100, predicted_values_dtreg[number],s=20, color = 'green')\n",
    "plt.scatter(900+length-100, predicted_values_mlp[number],s=20, color = 'yellow')\n",
    "plt.scatter(900+length-200, predicted_values_lr[number],s=20, color = 'black')"
   ]
  }
 ],
 "metadata": {
  "kernelspec": {
   "display_name": "Python 3",
   "language": "python",
   "name": "python3"
  },
  "language_info": {
   "codemirror_mode": {
    "name": "ipython",
    "version": 3
   },
   "file_extension": ".py",
   "mimetype": "text/x-python",
   "name": "python",
   "nbconvert_exporter": "python",
   "pygments_lexer": "ipython3",
   "version": "3.7.4"
  }
 },
 "nbformat": 4,
 "nbformat_minor": 2
}
