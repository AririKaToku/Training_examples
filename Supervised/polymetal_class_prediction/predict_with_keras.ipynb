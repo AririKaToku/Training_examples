{
 "cells": [
  {
   "cell_type": "code",
   "execution_count": 1,
   "metadata": {},
   "outputs": [
    {
     "name": "stderr",
     "output_type": "stream",
     "text": [
      "Using TensorFlow backend.\n"
     ]
    }
   ],
   "source": [
    "import keras\n",
    "from keras.models import Sequential\n",
    "from keras.layers import Dense"
   ]
  },
  {
   "cell_type": "code",
   "execution_count": 2,
   "metadata": {},
   "outputs": [],
   "source": [
    "import numpy as np\n",
    "import pandas as pd\n",
    "import pickle\n",
    "import datetime"
   ]
  },
  {
   "cell_type": "code",
   "execution_count": 3,
   "metadata": {},
   "outputs": [],
   "source": [
    "usd = pd.read_csv('usd_rub.txt')\n",
    "brent = pd.read_csv('brent.txt')\n",
    "polymetal = pd.read_csv('polymetal.txt')\n",
    "rtsi = pd.read_csv('rtsi.txt')"
   ]
  },
  {
   "cell_type": "code",
   "execution_count": 13,
   "metadata": {},
   "outputs": [
    {
     "data": {
      "text/html": [
       "<div>\n",
       "<style scoped>\n",
       "    .dataframe tbody tr th:only-of-type {\n",
       "        vertical-align: middle;\n",
       "    }\n",
       "\n",
       "    .dataframe tbody tr th {\n",
       "        vertical-align: top;\n",
       "    }\n",
       "\n",
       "    .dataframe thead th {\n",
       "        text-align: right;\n",
       "    }\n",
       "</style>\n",
       "<table border=\"1\" class=\"dataframe\">\n",
       "  <thead>\n",
       "    <tr style=\"text-align: right;\">\n",
       "      <th></th>\n",
       "      <th>&lt;TICKER&gt;</th>\n",
       "      <th>&lt;PER&gt;</th>\n",
       "      <th>&lt;DATE&gt;</th>\n",
       "      <th>&lt;TIME&gt;</th>\n",
       "      <th>&lt;OPEN&gt;</th>\n",
       "      <th>&lt;HIGH&gt;</th>\n",
       "      <th>&lt;LOW&gt;</th>\n",
       "      <th>&lt;CLOSE&gt;</th>\n",
       "      <th>&lt;VOL&gt;</th>\n",
       "    </tr>\n",
       "  </thead>\n",
       "  <tbody>\n",
       "    <tr>\n",
       "      <th>0</th>\n",
       "      <td>ICE.BRN</td>\n",
       "      <td>10</td>\n",
       "      <td>20180301</td>\n",
       "      <td>1000</td>\n",
       "      <td>64.63</td>\n",
       "      <td>64.70</td>\n",
       "      <td>64.63</td>\n",
       "      <td>64.69</td>\n",
       "      <td>222</td>\n",
       "    </tr>\n",
       "    <tr>\n",
       "      <th>1</th>\n",
       "      <td>ICE.BRN</td>\n",
       "      <td>10</td>\n",
       "      <td>20180301</td>\n",
       "      <td>2000</td>\n",
       "      <td>64.68</td>\n",
       "      <td>64.68</td>\n",
       "      <td>64.59</td>\n",
       "      <td>64.66</td>\n",
       "      <td>268</td>\n",
       "    </tr>\n",
       "    <tr>\n",
       "      <th>2</th>\n",
       "      <td>ICE.BRN</td>\n",
       "      <td>10</td>\n",
       "      <td>20180301</td>\n",
       "      <td>3000</td>\n",
       "      <td>64.65</td>\n",
       "      <td>64.72</td>\n",
       "      <td>64.64</td>\n",
       "      <td>64.68</td>\n",
       "      <td>196</td>\n",
       "    </tr>\n",
       "    <tr>\n",
       "      <th>3</th>\n",
       "      <td>ICE.BRN</td>\n",
       "      <td>10</td>\n",
       "      <td>20180301</td>\n",
       "      <td>4000</td>\n",
       "      <td>64.68</td>\n",
       "      <td>64.68</td>\n",
       "      <td>64.64</td>\n",
       "      <td>64.65</td>\n",
       "      <td>110</td>\n",
       "    </tr>\n",
       "    <tr>\n",
       "      <th>4</th>\n",
       "      <td>ICE.BRN</td>\n",
       "      <td>10</td>\n",
       "      <td>20180301</td>\n",
       "      <td>5000</td>\n",
       "      <td>64.67</td>\n",
       "      <td>64.67</td>\n",
       "      <td>64.63</td>\n",
       "      <td>64.65</td>\n",
       "      <td>170</td>\n",
       "    </tr>\n",
       "    <tr>\n",
       "      <th>5</th>\n",
       "      <td>ICE.BRN</td>\n",
       "      <td>10</td>\n",
       "      <td>20180301</td>\n",
       "      <td>10000</td>\n",
       "      <td>64.64</td>\n",
       "      <td>64.65</td>\n",
       "      <td>64.61</td>\n",
       "      <td>64.64</td>\n",
       "      <td>184</td>\n",
       "    </tr>\n",
       "    <tr>\n",
       "      <th>6</th>\n",
       "      <td>ICE.BRN</td>\n",
       "      <td>10</td>\n",
       "      <td>20180301</td>\n",
       "      <td>11000</td>\n",
       "      <td>64.67</td>\n",
       "      <td>64.67</td>\n",
       "      <td>64.67</td>\n",
       "      <td>64.67</td>\n",
       "      <td>1</td>\n",
       "    </tr>\n",
       "    <tr>\n",
       "      <th>7</th>\n",
       "      <td>ICE.BRN</td>\n",
       "      <td>10</td>\n",
       "      <td>20180301</td>\n",
       "      <td>12000</td>\n",
       "      <td>64.65</td>\n",
       "      <td>64.65</td>\n",
       "      <td>64.65</td>\n",
       "      <td>64.65</td>\n",
       "      <td>6</td>\n",
       "    </tr>\n",
       "    <tr>\n",
       "      <th>8</th>\n",
       "      <td>ICE.BRN</td>\n",
       "      <td>10</td>\n",
       "      <td>20180301</td>\n",
       "      <td>13000</td>\n",
       "      <td>64.68</td>\n",
       "      <td>64.68</td>\n",
       "      <td>64.66</td>\n",
       "      <td>64.66</td>\n",
       "      <td>7</td>\n",
       "    </tr>\n",
       "    <tr>\n",
       "      <th>9</th>\n",
       "      <td>ICE.BRN</td>\n",
       "      <td>10</td>\n",
       "      <td>20180301</td>\n",
       "      <td>14000</td>\n",
       "      <td>64.70</td>\n",
       "      <td>64.70</td>\n",
       "      <td>64.70</td>\n",
       "      <td>64.70</td>\n",
       "      <td>1</td>\n",
       "    </tr>\n",
       "  </tbody>\n",
       "</table>\n",
       "</div>"
      ],
      "text/plain": [
       "  <TICKER>  <PER>    <DATE>  <TIME>  <OPEN>  <HIGH>  <LOW>  <CLOSE>  <VOL>\n",
       "0  ICE.BRN     10  20180301    1000   64.63   64.70  64.63    64.69    222\n",
       "1  ICE.BRN     10  20180301    2000   64.68   64.68  64.59    64.66    268\n",
       "2  ICE.BRN     10  20180301    3000   64.65   64.72  64.64    64.68    196\n",
       "3  ICE.BRN     10  20180301    4000   64.68   64.68  64.64    64.65    110\n",
       "4  ICE.BRN     10  20180301    5000   64.67   64.67  64.63    64.65    170\n",
       "5  ICE.BRN     10  20180301   10000   64.64   64.65  64.61    64.64    184\n",
       "6  ICE.BRN     10  20180301   11000   64.67   64.67  64.67    64.67      1\n",
       "7  ICE.BRN     10  20180301   12000   64.65   64.65  64.65    64.65      6\n",
       "8  ICE.BRN     10  20180301   13000   64.68   64.68  64.66    64.66      7\n",
       "9  ICE.BRN     10  20180301   14000   64.70   64.70  64.70    64.70      1"
      ]
     },
     "execution_count": 13,
     "metadata": {},
     "output_type": "execute_result"
    }
   ],
   "source": [
    "brent.head(10)"
   ]
  },
  {
   "cell_type": "code",
   "execution_count": 5,
   "metadata": {},
   "outputs": [],
   "source": [
    "usd.rename(columns={'<OPEN>': 'usd'}, inplace=True)"
   ]
  },
  {
   "cell_type": "code",
   "execution_count": 9,
   "metadata": {},
   "outputs": [],
   "source": [
    "usd_ds = usd[['<DATE>','usd']]"
   ]
  },
  {
   "cell_type": "code",
   "execution_count": null,
   "metadata": {},
   "outputs": [],
   "source": []
  },
  {
   "cell_type": "code",
   "execution_count": 7,
   "metadata": {},
   "outputs": [],
   "source": [
    "rtsi_ds = rtsi[['<DATE>','<TIME>','<RTSI_HIGH>','<RTSI_LOW>']]\n",
    "usd_ds = usd[['<DATE>','<TIME>','<USD_HIGH>','<USD_LOW>']]\n",
    "brent_ds = brent[['<DATE>','<TIME>','<BRENT_HIGH>','<BRENT_LOW>']]\n",
    "american_finance_ds = american_finance[['<DATE>','<TIME>','<AF_HIGH>','<AF_LOW>']]"
   ]
  },
  {
   "cell_type": "code",
   "execution_count": 8,
   "metadata": {},
   "outputs": [],
   "source": [
    "total_ds = pd.merge(left = usd_ds, right = brent_ds, left_on=('<DATE>','<TIME>'), right_on=('<DATE>','<TIME>'), how='outer')"
   ]
  },
  {
   "cell_type": "code",
   "execution_count": 9,
   "metadata": {},
   "outputs": [],
   "source": [
    "total_ds = total_ds.merge(american_finance_ds, left_on=('<DATE>','<TIME>'), right_on=('<DATE>','<TIME>'), how = 'outer')"
   ]
  },
  {
   "cell_type": "code",
   "execution_count": 10,
   "metadata": {},
   "outputs": [],
   "source": [
    "total_ds = total_ds.merge(rtsi_ds, left_on=('<DATE>','<TIME>'), right_on=('<DATE>','<TIME>'), how='outer')"
   ]
  },
  {
   "cell_type": "code",
   "execution_count": 11,
   "metadata": {},
   "outputs": [],
   "source": [
    "total_ds['<WEEK_DAY>'] = list(map(lambda x: (datetime.datetime.strptime(str(x),'%Y%m%d').isoweekday()),total_ds['<DATE>']))"
   ]
  },
  {
   "cell_type": "code",
   "execution_count": 12,
   "metadata": {},
   "outputs": [],
   "source": [
    "total_ds['<WEEK_NUM>'] = list(map(lambda x: datetime.datetime.strptime(str(x),'%Y%m%d').isocalendar()[1], total_ds['<DATE>']))"
   ]
  },
  {
   "cell_type": "code",
   "execution_count": 13,
   "metadata": {},
   "outputs": [],
   "source": [
    "total_ds['<HOUR>'] = list(map(lambda x: int(x / 10000), total_ds['<TIME>']))"
   ]
  },
  {
   "cell_type": "code",
   "execution_count": 14,
   "metadata": {},
   "outputs": [],
   "source": [
    "total_ds['<MONTH>'] = list(map(lambda x: int(str(x)[4:6]), total_ds['<DATE>']))"
   ]
  },
  {
   "cell_type": "code",
   "execution_count": 15,
   "metadata": {},
   "outputs": [],
   "source": [
    "del total_ds['<DATE>']\n",
    "del total_ds['<TIME>']"
   ]
  },
  {
   "cell_type": "code",
   "execution_count": 16,
   "metadata": {},
   "outputs": [],
   "source": [
    "from sklearn.base import BaseEstimator, TransformerMixin"
   ]
  },
  {
   "cell_type": "code",
   "execution_count": 17,
   "metadata": {},
   "outputs": [],
   "source": [
    "class FillingFreeCellsLastValue(BaseEstimator, TransformerMixin):\n",
    "    def __init__(self, column_names):\n",
    "        self.column_names = column_names\n",
    "        return None\n",
    "    \n",
    "    def fit(self, X, y = None):\n",
    "        return self\n",
    "    \n",
    "    def transform(self, X, y = None):\n",
    "        for column in self.column_names:\n",
    "            list_ = X[column]\n",
    "            list_ = np.nan_to_num(list_, nan = 0)\n",
    "            tmp_val = np.median(list_[:100])\n",
    "            for num,element in enumerate(list_):\n",
    "                if element > 0:\n",
    "                    tmp_val = element\n",
    "                else:\n",
    "                    list_[num] = tmp_val\n",
    "            X[column] = list_\n",
    "        return X"
   ]
  },
  {
   "cell_type": "code",
   "execution_count": 18,
   "metadata": {},
   "outputs": [],
   "source": [
    "columns = ['<USD_HIGH>', '<USD_LOW>', \n",
    "           '<BRENT_HIGH>', '<BRENT_LOW>',\n",
    "           '<AF_HIGH>', '<AF_LOW>',\n",
    "           '<RTSI_HIGH>', '<RTSI_LOW>']"
   ]
  },
  {
   "cell_type": "code",
   "execution_count": 19,
   "metadata": {},
   "outputs": [
    {
     "data": {
      "text/html": [
       "<div>\n",
       "<style scoped>\n",
       "    .dataframe tbody tr th:only-of-type {\n",
       "        vertical-align: middle;\n",
       "    }\n",
       "\n",
       "    .dataframe tbody tr th {\n",
       "        vertical-align: top;\n",
       "    }\n",
       "\n",
       "    .dataframe thead th {\n",
       "        text-align: right;\n",
       "    }\n",
       "</style>\n",
       "<table border=\"1\" class=\"dataframe\">\n",
       "  <thead>\n",
       "    <tr style=\"text-align: right;\">\n",
       "      <th></th>\n",
       "      <th>&lt;USD_HIGH&gt;</th>\n",
       "      <th>&lt;USD_LOW&gt;</th>\n",
       "      <th>&lt;BRENT_HIGH&gt;</th>\n",
       "      <th>&lt;BRENT_LOW&gt;</th>\n",
       "      <th>&lt;AF_HIGH&gt;</th>\n",
       "      <th>&lt;AF_LOW&gt;</th>\n",
       "      <th>&lt;RTSI_HIGH&gt;</th>\n",
       "      <th>&lt;RTSI_LOW&gt;</th>\n",
       "      <th>&lt;WEEK_DAY&gt;</th>\n",
       "      <th>&lt;WEEK_NUM&gt;</th>\n",
       "      <th>&lt;HOUR&gt;</th>\n",
       "      <th>&lt;MONTH&gt;</th>\n",
       "    </tr>\n",
       "  </thead>\n",
       "  <tbody>\n",
       "    <tr>\n",
       "      <th>0</th>\n",
       "      <td>63.6750</td>\n",
       "      <td>63.6750</td>\n",
       "      <td>48.955</td>\n",
       "      <td>48.765</td>\n",
       "      <td>249.597468</td>\n",
       "      <td>249.279047</td>\n",
       "      <td>0.00</td>\n",
       "      <td>0.00</td>\n",
       "      <td>7</td>\n",
       "      <td>44</td>\n",
       "      <td>23</td>\n",
       "      <td>11</td>\n",
       "    </tr>\n",
       "    <tr>\n",
       "      <th>1</th>\n",
       "      <td>64.0934</td>\n",
       "      <td>62.3727</td>\n",
       "      <td>48.955</td>\n",
       "      <td>48.765</td>\n",
       "      <td>249.597468</td>\n",
       "      <td>249.279047</td>\n",
       "      <td>0.00</td>\n",
       "      <td>0.00</td>\n",
       "      <td>1</td>\n",
       "      <td>45</td>\n",
       "      <td>0</td>\n",
       "      <td>11</td>\n",
       "    </tr>\n",
       "    <tr>\n",
       "      <th>2</th>\n",
       "      <td>64.5614</td>\n",
       "      <td>64.0450</td>\n",
       "      <td>48.955</td>\n",
       "      <td>48.765</td>\n",
       "      <td>246.563256</td>\n",
       "      <td>246.542204</td>\n",
       "      <td>0.00</td>\n",
       "      <td>0.00</td>\n",
       "      <td>1</td>\n",
       "      <td>45</td>\n",
       "      <td>1</td>\n",
       "      <td>11</td>\n",
       "    </tr>\n",
       "    <tr>\n",
       "      <th>3</th>\n",
       "      <td>64.5622</td>\n",
       "      <td>63.5524</td>\n",
       "      <td>48.955</td>\n",
       "      <td>48.765</td>\n",
       "      <td>246.568520</td>\n",
       "      <td>246.542204</td>\n",
       "      <td>0.00</td>\n",
       "      <td>0.00</td>\n",
       "      <td>1</td>\n",
       "      <td>45</td>\n",
       "      <td>2</td>\n",
       "      <td>11</td>\n",
       "    </tr>\n",
       "    <tr>\n",
       "      <th>4</th>\n",
       "      <td>64.5603</td>\n",
       "      <td>62.6139</td>\n",
       "      <td>49.500</td>\n",
       "      <td>49.370</td>\n",
       "      <td>246.568520</td>\n",
       "      <td>246.557993</td>\n",
       "      <td>0.00</td>\n",
       "      <td>0.00</td>\n",
       "      <td>1</td>\n",
       "      <td>45</td>\n",
       "      <td>3</td>\n",
       "      <td>11</td>\n",
       "    </tr>\n",
       "    <tr>\n",
       "      <th>...</th>\n",
       "      <td>...</td>\n",
       "      <td>...</td>\n",
       "      <td>...</td>\n",
       "      <td>...</td>\n",
       "      <td>...</td>\n",
       "      <td>...</td>\n",
       "      <td>...</td>\n",
       "      <td>...</td>\n",
       "      <td>...</td>\n",
       "      <td>...</td>\n",
       "      <td>...</td>\n",
       "      <td>...</td>\n",
       "    </tr>\n",
       "    <tr>\n",
       "      <th>28552</th>\n",
       "      <td>63.8336</td>\n",
       "      <td>63.7580</td>\n",
       "      <td>59.360</td>\n",
       "      <td>59.150</td>\n",
       "      <td>385.100154</td>\n",
       "      <td>385.073838</td>\n",
       "      <td>1069.29</td>\n",
       "      <td>1065.60</td>\n",
       "      <td>6</td>\n",
       "      <td>52</td>\n",
       "      <td>17</td>\n",
       "      <td>12</td>\n",
       "    </tr>\n",
       "    <tr>\n",
       "      <th>28553</th>\n",
       "      <td>63.8336</td>\n",
       "      <td>63.7580</td>\n",
       "      <td>59.360</td>\n",
       "      <td>59.150</td>\n",
       "      <td>385.100154</td>\n",
       "      <td>385.073838</td>\n",
       "      <td>1069.37</td>\n",
       "      <td>1066.87</td>\n",
       "      <td>6</td>\n",
       "      <td>52</td>\n",
       "      <td>18</td>\n",
       "      <td>12</td>\n",
       "    </tr>\n",
       "    <tr>\n",
       "      <th>28554</th>\n",
       "      <td>63.8336</td>\n",
       "      <td>63.7580</td>\n",
       "      <td>59.360</td>\n",
       "      <td>59.150</td>\n",
       "      <td>385.100154</td>\n",
       "      <td>385.073838</td>\n",
       "      <td>1068.72</td>\n",
       "      <td>1066.11</td>\n",
       "      <td>6</td>\n",
       "      <td>52</td>\n",
       "      <td>19</td>\n",
       "      <td>12</td>\n",
       "    </tr>\n",
       "    <tr>\n",
       "      <th>28555</th>\n",
       "      <td>63.8336</td>\n",
       "      <td>63.7580</td>\n",
       "      <td>59.360</td>\n",
       "      <td>59.150</td>\n",
       "      <td>385.100154</td>\n",
       "      <td>385.073838</td>\n",
       "      <td>1547.20</td>\n",
       "      <td>1544.07</td>\n",
       "      <td>3</td>\n",
       "      <td>52</td>\n",
       "      <td>18</td>\n",
       "      <td>12</td>\n",
       "    </tr>\n",
       "    <tr>\n",
       "      <th>28556</th>\n",
       "      <td>63.8336</td>\n",
       "      <td>63.7580</td>\n",
       "      <td>59.360</td>\n",
       "      <td>59.150</td>\n",
       "      <td>385.100154</td>\n",
       "      <td>385.073838</td>\n",
       "      <td>1544.66</td>\n",
       "      <td>1542.95</td>\n",
       "      <td>3</td>\n",
       "      <td>52</td>\n",
       "      <td>19</td>\n",
       "      <td>12</td>\n",
       "    </tr>\n",
       "  </tbody>\n",
       "</table>\n",
       "<p>28557 rows × 12 columns</p>\n",
       "</div>"
      ],
      "text/plain": [
       "       <USD_HIGH>  <USD_LOW>  <BRENT_HIGH>  <BRENT_LOW>   <AF_HIGH>  \\\n",
       "0         63.6750    63.6750        48.955       48.765  249.597468   \n",
       "1         64.0934    62.3727        48.955       48.765  249.597468   \n",
       "2         64.5614    64.0450        48.955       48.765  246.563256   \n",
       "3         64.5622    63.5524        48.955       48.765  246.568520   \n",
       "4         64.5603    62.6139        49.500       49.370  246.568520   \n",
       "...           ...        ...           ...          ...         ...   \n",
       "28552     63.8336    63.7580        59.360       59.150  385.100154   \n",
       "28553     63.8336    63.7580        59.360       59.150  385.100154   \n",
       "28554     63.8336    63.7580        59.360       59.150  385.100154   \n",
       "28555     63.8336    63.7580        59.360       59.150  385.100154   \n",
       "28556     63.8336    63.7580        59.360       59.150  385.100154   \n",
       "\n",
       "         <AF_LOW>  <RTSI_HIGH>  <RTSI_LOW>  <WEEK_DAY>  <WEEK_NUM>  <HOUR>  \\\n",
       "0      249.279047         0.00        0.00           7          44      23   \n",
       "1      249.279047         0.00        0.00           1          45       0   \n",
       "2      246.542204         0.00        0.00           1          45       1   \n",
       "3      246.542204         0.00        0.00           1          45       2   \n",
       "4      246.557993         0.00        0.00           1          45       3   \n",
       "...           ...          ...         ...         ...         ...     ...   \n",
       "28552  385.073838      1069.29     1065.60           6          52      17   \n",
       "28553  385.073838      1069.37     1066.87           6          52      18   \n",
       "28554  385.073838      1068.72     1066.11           6          52      19   \n",
       "28555  385.073838      1547.20     1544.07           3          52      18   \n",
       "28556  385.073838      1544.66     1542.95           3          52      19   \n",
       "\n",
       "       <MONTH>  \n",
       "0           11  \n",
       "1           11  \n",
       "2           11  \n",
       "3           11  \n",
       "4           11  \n",
       "...        ...  \n",
       "28552       12  \n",
       "28553       12  \n",
       "28554       12  \n",
       "28555       12  \n",
       "28556       12  \n",
       "\n",
       "[28557 rows x 12 columns]"
      ]
     },
     "execution_count": 19,
     "metadata": {},
     "output_type": "execute_result"
    }
   ],
   "source": [
    "FillingFreeCellsLastValue(columns).fit_transform(total_ds)"
   ]
  },
  {
   "cell_type": "code",
   "execution_count": 20,
   "metadata": {},
   "outputs": [
    {
     "name": "stdout",
     "output_type": "stream",
     "text": [
      "<class 'pandas.core.frame.DataFrame'>\n",
      "Int64Index: 28557 entries, 0 to 28556\n",
      "Data columns (total 12 columns):\n",
      " #   Column        Non-Null Count  Dtype  \n",
      "---  ------        --------------  -----  \n",
      " 0   <USD_HIGH>    28557 non-null  float64\n",
      " 1   <USD_LOW>     28557 non-null  float64\n",
      " 2   <BRENT_HIGH>  28557 non-null  float64\n",
      " 3   <BRENT_LOW>   28557 non-null  float64\n",
      " 4   <AF_HIGH>     28557 non-null  float64\n",
      " 5   <AF_LOW>      28557 non-null  float64\n",
      " 6   <RTSI_HIGH>   28557 non-null  float64\n",
      " 7   <RTSI_LOW>    28557 non-null  float64\n",
      " 8   <WEEK_DAY>    28557 non-null  int64  \n",
      " 9   <WEEK_NUM>    28557 non-null  int64  \n",
      " 10  <HOUR>        28557 non-null  int64  \n",
      " 11  <MONTH>       28557 non-null  int64  \n",
      "dtypes: float64(8), int64(4)\n",
      "memory usage: 2.8 MB\n"
     ]
    }
   ],
   "source": [
    "total_ds.info()"
   ]
  },
  {
   "cell_type": "code",
   "execution_count": 21,
   "metadata": {},
   "outputs": [],
   "source": [
    "train_data = np.array(total_ds)"
   ]
  },
  {
   "cell_type": "code",
   "execution_count": 22,
   "metadata": {},
   "outputs": [],
   "source": [
    "ds_x = []\n",
    "ds_y_up = []\n",
    "ds_y_down = []\n",
    "\n",
    "days_hist= 20\n",
    "days_predict = 7\n",
    "hours_in_day = 24\n",
    "num_history_values = hours_in_day * days_hist\n",
    "num_predicted_value = hours_in_day * days_predict\n",
    "\n",
    "threshold = 4\n",
    "\n",
    "\n",
    "for num, line in enumerate(train_data[:-(num_history_values+num_predicted_value)]):\n",
    "    ds_x.append(train_data[num:num+num_history_values].reshape((train_data[num:num+num_history_values].size)))\n",
    "\n",
    "for num, line in enumerate(train_data[num_history_values:-num_predicted_value]):\n",
    "    x = train_data[num_history_values+num,0]\n",
    "    y = np.max(train_data[num_history_values+num:num_history_values+num+num_predicted_value,0])\n",
    "    res = (y/x-1)*100\n",
    "    if res >= threshold:\n",
    "        ds_y_up.append(1)\n",
    "    else:\n",
    "        ds_y_up.append(0)\n",
    "        \n",
    "for num, line in enumerate(train_data[num_history_values:-num_predicted_value]):\n",
    "    x = train_data[num_history_values+num,0]\n",
    "    y = np.min(train_data[num_history_values+num:num_history_values+num+num_predicted_value,0])\n",
    "    res = (y/x-1)*100\n",
    "    if res < -threshold:\n",
    "        ds_y_down.append(1)\n",
    "    else:\n",
    "        ds_y_down.append(0)\n",
    "        \n",
    "\n",
    "# for num in range(len(train_data[:-num_predicted_value-num_history_values])):\n",
    "#     ds_hist.append(train_data[num+num_history_values:num+num_history_values+num_predicted_value,0])"
   ]
  },
  {
   "cell_type": "code",
   "execution_count": 23,
   "metadata": {},
   "outputs": [],
   "source": [
    "def get_slice(x,idx):\n",
    "    return x[idx+num_history_values:idx+num_history_values+num_predicted_value,0]"
   ]
  },
  {
   "cell_type": "code",
   "execution_count": 24,
   "metadata": {},
   "outputs": [],
   "source": [
    "ds_hist = list(map(lambda a:get_slice(train_data,a), list(range(len(train_data[:-num_predicted_value-num_history_values])))))"
   ]
  },
  {
   "cell_type": "code",
   "execution_count": 25,
   "metadata": {},
   "outputs": [
    {
     "name": "stdout",
     "output_type": "stream",
     "text": [
      "percent up 4%= 8.430972087856963\n",
      "percent down 4%= 4.199362212906231\n"
     ]
    }
   ],
   "source": [
    "# \n",
    "counter = 0\n",
    "idxs = []\n",
    "for idx,i in enumerate(ds_y_up):\n",
    "    if i == 1:\n",
    "        counter += 1\n",
    "        idxs.append(idx)\n",
    "print('percent up '+str(threshold)+'%=',counter*100/len(ds_y_up))\n",
    "counter = 0\n",
    "idxs = []\n",
    "for idx,i in enumerate(ds_y_down):\n",
    "    if i == 1:\n",
    "        counter += 1\n",
    "        idxs.append(idx)\n",
    "print('percent down '+str(threshold)+'%=',counter*100/len(ds_y_down))"
   ]
  },
  {
   "cell_type": "code",
   "execution_count": 26,
   "metadata": {},
   "outputs": [],
   "source": [
    "import matplotlib.pyplot as plt"
   ]
  },
  {
   "cell_type": "code",
   "execution_count": 27,
   "metadata": {},
   "outputs": [],
   "source": [
    "def get_usd_course(x):\n",
    "    return np.array(x).reshape(-1,12)[:,0]"
   ]
  },
  {
   "cell_type": "code",
   "execution_count": 28,
   "metadata": {},
   "outputs": [],
   "source": [
    "def plot_graph(ds_x, ds_y, idx):\n",
    "    plt.plot(get_usd_course(ds_x[2]))\n",
    "    plt.plot(range(num_history_values,num_history_values+num_predicted_value),ds_hist[2], color = 'red')"
   ]
  },
  {
   "cell_type": "code",
   "execution_count": 30,
   "metadata": {},
   "outputs": [
    {
     "data": {
      "text/plain": [
       "[<matplotlib.lines.Line2D at 0x1f8a009f808>]"
      ]
     },
     "execution_count": 30,
     "metadata": {},
     "output_type": "execute_result"
    },
    {
     "data": {
      "image/png": "[encoded data removed]",
      "text/plain": [
       "<Figure size 432x288 with 1 Axes>"
      ]
     },
     "metadata": {
      "needs_background": "light"
     },
     "output_type": "display_data"
    }
   ],
   "source": [
    "idx = 3000\n",
    "plt.plot(get_usd_course(ds_x[idx]))\n",
    "plt.plot(range(num_history_values,num_history_values+num_predicted_value),ds_hist[idx], color = 'red')"
   ]
  },
  {
   "cell_type": "code",
   "execution_count": 31,
   "metadata": {},
   "outputs": [],
   "source": [
    "ds_x = np.asarray(ds_x, dtype = np.float16)\n",
    "ds_y_up = np.asarray(ds_y_up, dtype = np.bool).reshape(-1,1)\n",
    "ds_y_down = np.asarray(ds_y_down, dtype = np.bool).reshape(-1,1)\n",
    "ds_hist = np.asarray(ds_hist, dtype = np.float16)"
   ]
  },
  {
   "cell_type": "code",
   "execution_count": 32,
   "metadata": {},
   "outputs": [],
   "source": [
    "ds_y_total = np.hstack((ds_y_up,ds_y_down, ds_hist))"
   ]
  },
  {
   "cell_type": "markdown",
   "metadata": {},
   "source": [
    "# Shuffle dataset"
   ]
  },
  {
   "cell_type": "code",
   "execution_count": 33,
   "metadata": {},
   "outputs": [],
   "source": [
    "idx = np.array(range(len(ds_y_up)))"
   ]
  },
  {
   "cell_type": "code",
   "execution_count": 34,
   "metadata": {},
   "outputs": [],
   "source": [
    "np.random.shuffle(idx)"
   ]
  },
  {
   "cell_type": "code",
   "execution_count": 35,
   "metadata": {},
   "outputs": [],
   "source": [
    "ds_x = ds_x[idx]\n",
    "ds_y_total = ds_y_total[idx]"
   ]
  },
  {
   "cell_type": "markdown",
   "metadata": {},
   "source": [
    "# split total dataset at train and test set's"
   ]
  },
  {
   "cell_type": "code",
   "execution_count": 36,
   "metadata": {},
   "outputs": [],
   "source": [
    "from sklearn.model_selection import train_test_split"
   ]
  },
  {
   "cell_type": "code",
   "execution_count": 37,
   "metadata": {},
   "outputs": [],
   "source": [
    "ds_x_train, ds_x_test, ds_y_train, ds_y_test =  train_test_split(ds_x, ds_y_total, test_size = 0.2, random_state = 42)"
   ]
  },
  {
   "cell_type": "code",
   "execution_count": 38,
   "metadata": {},
   "outputs": [],
   "source": [
    "ds_x_train, ds_x_val, ds_y_train, ds_y_val = train_test_split(ds_x_train, ds_y_train, test_size = 0.2, random_state = 42)"
   ]
  },
  {
   "cell_type": "code",
   "execution_count": 39,
   "metadata": {},
   "outputs": [],
   "source": [
    "def plot_graph(idx, use_train_set = True):\n",
    "    if use_train_set:\n",
    "        ds_y = ds_y_train\n",
    "        ds_x = ds_x_train\n",
    "    else:\n",
    "        ds_y = ds_y_test\n",
    "        ds_x = ds_x_test\n",
    "    plt.figure(figsize=(20,5))\n",
    "    plt.plot(get_usd_course(ds_x[idx]), color = 'black', label = 'history')\n",
    "    if ds_y[idx,0] == 1:\n",
    "        color = 'red'\n",
    "    else:\n",
    "        color = 'blue'\n",
    "    plt.plot(range(num_history_values,num_history_values+num_predicted_value),ds_y[idx,2:], color = color, label = 'future')   \n",
    "    \n",
    "    y = plt.ylim()[0]\n",
    "    plt.text(0,y,'red = рост >4%, blue = не вырастет больше 4%')\n",
    "#     plt.text(0,y - 2, '')\n",
    "    plt.legend()"
   ]
  },
  {
   "cell_type": "code",
   "execution_count": 40,
   "metadata": {
    "scrolled": false
   },
   "outputs": [
    {
     "data": {
      "image/png": "[encoded data removed]",
      "text/plain": [
       "<Figure size 1440x360 with 1 Axes>"
      ]
     },
     "metadata": {
      "needs_background": "light"
     },
     "output_type": "display_data"
    },
    {
     "data": {
      "image/png": "[encoded data removed]",
      "text/plain": [
       "<Figure size 1440x360 with 1 Axes>"
      ]
     },
     "metadata": {
      "needs_background": "light"
     },
     "output_type": "display_data"
    }
   ],
   "source": [
    "plot_graph(609)\n",
    "plot_graph(610)"
   ]
  },
  {
   "cell_type": "markdown",
   "metadata": {},
   "source": [
    "# make data-scaling"
   ]
  },
  {
   "cell_type": "code",
   "execution_count": 41,
   "metadata": {},
   "outputs": [],
   "source": [
    "from sklearn.preprocessing import StandardScaler"
   ]
  },
  {
   "cell_type": "code",
   "execution_count": 42,
   "metadata": {},
   "outputs": [
    {
     "name": "stderr",
     "output_type": "stream",
     "text": [
      "C:\\Anaconda3\\lib\\site-packages\\numpy\\lib\\nanfunctions.py:1546: RuntimeWarning: overflow encountered in multiply\n",
      "  sqr = np.multiply(arr, arr, out=arr)\n"
     ]
    }
   ],
   "source": [
    "ds_x_val = StandardScaler().fit_transform(ds_x_val)"
   ]
  },
  {
   "cell_type": "code",
   "execution_count": 43,
   "metadata": {},
   "outputs": [
    {
     "name": "stderr",
     "output_type": "stream",
     "text": [
      "C:\\Anaconda3\\lib\\site-packages\\numpy\\lib\\nanfunctions.py:1546: RuntimeWarning: overflow encountered in multiply\n",
      "  sqr = np.multiply(arr, arr, out=arr)\n"
     ]
    }
   ],
   "source": [
    "ds_x_train = StandardScaler().fit_transform(ds_x_train)"
   ]
  },
  {
   "cell_type": "code",
   "execution_count": 44,
   "metadata": {},
   "outputs": [
    {
     "name": "stderr",
     "output_type": "stream",
     "text": [
      "C:\\Anaconda3\\lib\\site-packages\\numpy\\lib\\nanfunctions.py:1546: RuntimeWarning: overflow encountered in multiply\n",
      "  sqr = np.multiply(arr, arr, out=arr)\n"
     ]
    }
   ],
   "source": [
    "ds_x_test = StandardScaler().fit_transform(ds_x_test)"
   ]
  },
  {
   "cell_type": "markdown",
   "metadata": {},
   "source": [
    "# make keras model"
   ]
  },
  {
   "cell_type": "code",
   "execution_count": 45,
   "metadata": {},
   "outputs": [],
   "source": [
    "from keras import metrics"
   ]
  },
  {
   "cell_type": "code",
   "execution_count": 58,
   "metadata": {},
   "outputs": [],
   "source": [
    "model = Sequential()"
   ]
  },
  {
   "cell_type": "code",
   "execution_count": 59,
   "metadata": {},
   "outputs": [],
   "source": [
    "model.add(Dense(3000,input_dim = 5760, activation = 'relu'))\n",
    "model.add(Dense(1000,activation = 'relu'))\n",
    "model.add(Dense(100,activation = 'relu'))\n",
    "model.add(Dense(1, activation= 'sigmoid'))"
   ]
  },
  {
   "cell_type": "code",
   "execution_count": 60,
   "metadata": {},
   "outputs": [],
   "source": [
    "model.compile(optimizer = 'Adam',\n",
    "              loss = 'binary_crossentropy',\n",
    "              metrics= ['accuracy']\n",
    "              \n",
    "             )"
   ]
  },
  {
   "cell_type": "code",
   "execution_count": 61,
   "metadata": {},
   "outputs": [
    {
     "name": "stdout",
     "output_type": "stream",
     "text": [
      "Train on 17861 samples, validate on 4466 samples\n",
      "Epoch 1/40\n",
      "17861/17861 [==============================] - 25s 1ms/step - loss: 0.3102 - accuracy: 0.9176 - val_loss: 0.1881 - val_accuracy: 0.9288\n",
      "Epoch 2/40\n",
      "17861/17861 [==============================] - 26s 1ms/step - loss: 0.1827 - accuracy: 0.9298 - val_loss: 0.1856 - val_accuracy: 0.9353\n",
      "Epoch 3/40\n",
      "17861/17861 [==============================] - 26s 1ms/step - loss: 0.1601 - accuracy: 0.9366 - val_loss: 0.1605 - val_accuracy: 0.9313\n",
      "Epoch 4/40\n",
      "17861/17861 [==============================] - 26s 1ms/step - loss: 0.1448 - accuracy: 0.9395 - val_loss: 0.1850 - val_accuracy: 0.9279\n",
      "Epoch 5/40\n",
      "17861/17861 [==============================] - 25s 1ms/step - loss: 0.1337 - accuracy: 0.9443 - val_loss: 0.1249 - val_accuracy: 0.9445\n",
      "Epoch 6/40\n",
      "17861/17861 [==============================] - 25s 1ms/step - loss: 0.1210 - accuracy: 0.9519 - val_loss: 0.1433 - val_accuracy: 0.9422\n",
      "Epoch 7/40\n",
      "17861/17861 [==============================] - 25s 1ms/step - loss: 0.1136 - accuracy: 0.9555 - val_loss: 0.1427 - val_accuracy: 0.9351\n",
      "Epoch 8/40\n",
      "17861/17861 [==============================] - 25s 1ms/step - loss: 0.1086 - accuracy: 0.9571 - val_loss: 0.1331 - val_accuracy: 0.9559\n",
      "Epoch 9/40\n",
      "17861/17861 [==============================] - 25s 1ms/step - loss: 0.0802 - accuracy: 0.9684 - val_loss: 0.0879 - val_accuracy: 0.9606\n",
      "Epoch 10/40\n",
      "17861/17861 [==============================] - 25s 1ms/step - loss: 0.0766 - accuracy: 0.9713 - val_loss: 0.1585 - val_accuracy: 0.9581\n",
      "Epoch 11/40\n",
      "17861/17861 [==============================] - 25s 1ms/step - loss: 0.0781 - accuracy: 0.9671 - val_loss: 0.1118 - val_accuracy: 0.9563\n",
      "Epoch 12/40\n",
      "17861/17861 [==============================] - 26s 1ms/step - loss: 0.0681 - accuracy: 0.9720 - val_loss: 0.0861 - val_accuracy: 0.9682\n",
      "Epoch 13/40\n",
      "17861/17861 [==============================] - 26s 1ms/step - loss: 0.0553 - accuracy: 0.9791 - val_loss: 0.0856 - val_accuracy: 0.9610\n",
      "Epoch 14/40\n",
      "17861/17861 [==============================] - 25s 1ms/step - loss: 0.0458 - accuracy: 0.9831 - val_loss: 0.0622 - val_accuracy: 0.9734\n",
      "Epoch 15/40\n",
      "17861/17861 [==============================] - 25s 1ms/step - loss: 0.0473 - accuracy: 0.9820 - val_loss: 0.0638 - val_accuracy: 0.9754\n",
      "Epoch 16/40\n",
      "17861/17861 [==============================] - 26s 1ms/step - loss: 0.0599 - accuracy: 0.9782 - val_loss: 0.0674 - val_accuracy: 0.9738\n",
      "Epoch 17/40\n",
      "17861/17861 [==============================] - 26s 1ms/step - loss: 0.0801 - accuracy: 0.9743 - val_loss: 0.0905 - val_accuracy: 0.9642\n",
      "Epoch 18/40\n",
      "17861/17861 [==============================] - 25s 1ms/step - loss: 0.0520 - accuracy: 0.9801 - val_loss: 0.0852 - val_accuracy: 0.9662\n",
      "Epoch 19/40\n",
      "17861/17861 [==============================] - 25s 1ms/step - loss: 0.0366 - accuracy: 0.9857 - val_loss: 0.0657 - val_accuracy: 0.9738\n",
      "Epoch 20/40\n",
      "17861/17861 [==============================] - 25s 1ms/step - loss: 0.0317 - accuracy: 0.9875 - val_loss: 0.0560 - val_accuracy: 0.9805\n",
      "Epoch 21/40\n",
      "17861/17861 [==============================] - 26s 1ms/step - loss: 0.0355 - accuracy: 0.9866 - val_loss: 0.0665 - val_accuracy: 0.9734\n",
      "Epoch 22/40\n",
      "17861/17861 [==============================] - 25s 1ms/step - loss: 0.0346 - accuracy: 0.9875 - val_loss: 0.0659 - val_accuracy: 0.9785\n",
      "Epoch 23/40\n",
      "17861/17861 [==============================] - 25s 1ms/step - loss: 0.0323 - accuracy: 0.9890 - val_loss: 0.0659 - val_accuracy: 0.9747\n",
      "Epoch 24/40\n",
      "17861/17861 [==============================] - 25s 1ms/step - loss: 0.0325 - accuracy: 0.9886 - val_loss: 0.0498 - val_accuracy: 0.9805\n",
      "Epoch 25/40\n",
      "17861/17861 [==============================] - 25s 1ms/step - loss: 0.0333 - accuracy: 0.9870 - val_loss: 0.0598 - val_accuracy: 0.9767\n",
      "Epoch 26/40\n",
      "17861/17861 [==============================] - 25s 1ms/step - loss: 0.0281 - accuracy: 0.9901 - val_loss: 0.0595 - val_accuracy: 0.9807\n",
      "Epoch 27/40\n",
      "17861/17861 [==============================] - 25s 1ms/step - loss: 0.0332 - accuracy: 0.9882 - val_loss: 0.0530 - val_accuracy: 0.9805\n",
      "Epoch 28/40\n",
      "17861/17861 [==============================] - 25s 1ms/step - loss: 0.0242 - accuracy: 0.9912 - val_loss: 0.0838 - val_accuracy: 0.9716\n",
      "Epoch 29/40\n",
      "17861/17861 [==============================] - 25s 1ms/step - loss: 0.0326 - accuracy: 0.9893 - val_loss: 0.0606 - val_accuracy: 0.9769\n",
      "Epoch 30/40\n",
      "17861/17861 [==============================] - 25s 1ms/step - loss: 0.0239 - accuracy: 0.9909 - val_loss: 0.0534 - val_accuracy: 0.9823\n",
      "Epoch 31/40\n",
      "17861/17861 [==============================] - 25s 1ms/step - loss: 0.0318 - accuracy: 0.9893 - val_loss: 0.1345 - val_accuracy: 0.9642\n",
      "Epoch 32/40\n",
      "17861/17861 [==============================] - 25s 1ms/step - loss: 0.0346 - accuracy: 0.9875 - val_loss: 0.0608 - val_accuracy: 0.9803\n",
      "Epoch 33/40\n",
      "17861/17861 [==============================] - 25s 1ms/step - loss: 0.0220 - accuracy: 0.9930 - val_loss: 0.0784 - val_accuracy: 0.9763\n",
      "Epoch 34/40\n",
      "17861/17861 [==============================] - 26s 1ms/step - loss: 0.0217 - accuracy: 0.9932 - val_loss: 0.0483 - val_accuracy: 0.9828\n",
      "Epoch 35/40\n",
      "17861/17861 [==============================] - 26s 1ms/step - loss: 0.0205 - accuracy: 0.9927 - val_loss: 0.0493 - val_accuracy: 0.9841\n",
      "Epoch 36/40\n",
      "17861/17861 [==============================] - 26s 1ms/step - loss: 0.0238 - accuracy: 0.9907 - val_loss: 0.0556 - val_accuracy: 0.9821\n",
      "Epoch 37/40\n",
      "17861/17861 [==============================] - 26s 1ms/step - loss: 0.0235 - accuracy: 0.9916 - val_loss: 0.0674 - val_accuracy: 0.9776\n",
      "Epoch 38/40\n",
      "17861/17861 [==============================] - 26s 1ms/step - loss: 0.0233 - accuracy: 0.9920 - val_loss: 0.0502 - val_accuracy: 0.9816\n",
      "Epoch 39/40\n",
      "17861/17861 [==============================] - 26s 1ms/step - loss: 0.0190 - accuracy: 0.9938 - val_loss: 0.0483 - val_accuracy: 0.9823\n",
      "Epoch 40/40\n",
      "17861/17861 [==============================] - 25s 1ms/step - loss: 0.0160 - accuracy: 0.9941 - val_loss: 0.0551 - val_accuracy: 0.9839\n"
     ]
    },
    {
     "data": {
      "text/plain": [
       "<keras.callbacks.callbacks.History at 0x1f8cfeab3c8>"
      ]
     },
     "execution_count": 61,
     "metadata": {},
     "output_type": "execute_result"
    }
   ],
   "source": [
    "model.fit(ds_x_train,\n",
    "          ds_y_train[:,0],\n",
    "          batch_size=128,\n",
    "          epochs=40,\n",
    "          validation_data=(ds_x_val, ds_y_val[:,0]))"
   ]
  },
  {
   "cell_type": "code",
   "execution_count": 62,
   "metadata": {},
   "outputs": [],
   "source": [
    "from sklearn.metrics import f1_score, cohen_kappa_score"
   ]
  },
  {
   "cell_type": "code",
   "execution_count": 63,
   "metadata": {},
   "outputs": [],
   "source": [
    "predictions = model.predict(ds_x_test)"
   ]
  },
  {
   "cell_type": "code",
   "execution_count": 64,
   "metadata": {},
   "outputs": [],
   "source": [
    "nulls = predictions > 0.5"
   ]
  },
  {
   "cell_type": "code",
   "execution_count": 65,
   "metadata": {},
   "outputs": [
    {
     "data": {
      "text/plain": [
       "array([[0.],\n",
       "       [1.],\n",
       "       [0.],\n",
       "       ...,\n",
       "       [0.],\n",
       "       [0.],\n",
       "       [0.]], dtype=float32)"
      ]
     },
     "execution_count": 65,
     "metadata": {},
     "output_type": "execute_result"
    }
   ],
   "source": [
    "nulls.astype(np.float32)"
   ]
  },
  {
   "cell_type": "code",
   "execution_count": 66,
   "metadata": {},
   "outputs": [
    {
     "data": {
      "text/plain": [
       "0.9127972819932049"
      ]
     },
     "execution_count": 66,
     "metadata": {},
     "output_type": "execute_result"
    }
   ],
   "source": [
    "f1_score(ds_y_test[:,0], nulls.reshape(-1))"
   ]
  },
  {
   "cell_type": "code",
   "execution_count": 67,
   "metadata": {},
   "outputs": [
    {
     "data": {
      "text/plain": [
       "0.9053288558732743"
      ]
     },
     "execution_count": 67,
     "metadata": {},
     "output_type": "execute_result"
    }
   ],
   "source": [
    "cohen_kappa_score(ds_y_test[:,0], nulls.reshape(-1))"
   ]
  },
  {
   "cell_type": "code",
   "execution_count": 68,
   "metadata": {
    "scrolled": true
   },
   "outputs": [
    {
     "name": "stdout",
     "output_type": "stream",
     "text": [
      "5582/5582 [==============================] - 2s 355us/step\n",
      "[0.050763119838299633, 0.9862056374549866]\n"
     ]
    }
   ],
   "source": [
    "print(model.evaluate(ds_x_test, ds_y_test[:,0]))"
   ]
  },
  {
   "cell_type": "code",
   "execution_count": null,
   "metadata": {},
   "outputs": [],
   "source": []
  },
  {
   "cell_type": "code",
   "execution_count": null,
   "metadata": {},
   "outputs": [],
   "source": []
  },
  {
   "cell_type": "code",
   "execution_count": 72,
   "metadata": {},
   "outputs": [
    {
     "data": {
      "text/plain": [
       "array([[0.7756916]], dtype=float32)"
      ]
     },
     "execution_count": 72,
     "metadata": {},
     "output_type": "execute_result"
    }
   ],
   "source": [
    "model.predict(ds_x_test[1].reshape(1,-1))"
   ]
  },
  {
   "cell_type": "code",
   "execution_count": null,
   "metadata": {},
   "outputs": [],
   "source": []
  },
  {
   "cell_type": "code",
   "execution_count": 84,
   "metadata": {},
   "outputs": [
    {
     "data": {
      "text/plain": [
       "array([ 0.  ,  0.  , 59.4 , 59.4 , 59.4 , 59.4 , 59.4 , 59.44, 59.56,\n",
       "       59.84, 59.75, 59.7 , 59.78, 59.84, 59.8 , 60.03, 60.16, 60.16,\n",
       "       60.25, 60.2 , 60.22, 60.25, 60.53, 60.5 , 60.38, 60.38, 60.4 ,\n",
       "       60.38, 60.4 , 60.38, 60.4 , 60.47, 60.47, 60.3 , 60.34, 60.34,\n",
       "       60.44, 60.38, 60.25, 60.28, 60.28, 60.25, 60.12, 60.12, 60.22,\n",
       "       60.22, 60.25, 60.25, 60.22, 60.22, 60.22, 60.22, 60.22, 60.22,\n",
       "       60.2 , 60.2 , 60.1 , 60.  , 59.94, 59.97, 60.03, 60.03, 59.97,\n",
       "       59.84, 59.84, 59.7 , 59.7 , 59.62, 59.66, 59.66, 59.72, 59.7 ,\n",
       "       59.7 , 59.7 , 59.7 , 59.7 , 59.66, 59.66, 59.66, 59.66, 59.7 ,\n",
       "       59.75, 59.72, 59.62, 59.62, 59.44, 59.5 , 59.47, 59.38, 59.34,\n",
       "       59.22, 59.1 , 59.06, 59.1 , 59.1 , 59.1 , 59.1 , 59.1 , 59.34,\n",
       "       59.22, 59.2 , 59.22, 59.22, 59.22, 59.22, 59.22, 59.25, 59.28,\n",
       "       59.3 , 59.38, 59.34, 59.34, 59.25, 59.34, 59.4 , 59.6 , 59.56,\n",
       "       59.5 , 59.53, 59.44, 59.47, 59.38, 59.34, 59.44, 59.44, 59.47,\n",
       "       59.44, 59.44, 59.4 , 59.44, 59.44, 59.38, 59.4 , 59.47, 59.53,\n",
       "       59.53, 59.44, 59.47, 59.47, 59.47, 59.44, 59.38, 59.22, 59.2 ,\n",
       "       59.16, 59.16, 59.2 , 59.22, 59.2 , 59.16, 59.16, 59.2 , 59.12,\n",
       "       59.16, 59.16, 59.16, 59.2 , 59.16, 59.16, 59.06, 58.97, 58.97,\n",
       "       58.88, 58.88, 58.8 , 58.78, 58.78, 58.72, 58.62, 58.62],\n",
       "      dtype=float16)"
      ]
     },
     "execution_count": 84,
     "metadata": {},
     "output_type": "execute_result"
    }
   ],
   "source": [
    "ds_y_val[1]"
   ]
  },
  {
   "cell_type": "code",
   "execution_count": 87,
   "metadata": {},
   "outputs": [],
   "source": [
    "x = StandardScaler().fit_transform(ds_y_val[1][2:].reshape(-1,1))"
   ]
  },
  {
   "cell_type": "code",
   "execution_count": 85,
   "metadata": {},
   "outputs": [
    {
     "data": {
      "text/plain": [
       "array([59.4 , 59.4 , 59.4 , 59.4 , 59.4 , 59.44, 59.56, 59.84, 59.75,\n",
       "       59.7 , 59.78, 59.84, 59.8 , 60.03, 60.16, 60.16, 60.25, 60.2 ,\n",
       "       60.22, 60.25, 60.53, 60.5 , 60.38, 60.38, 60.4 , 60.38, 60.4 ,\n",
       "       60.38, 60.4 , 60.47, 60.47, 60.3 , 60.34, 60.34, 60.44, 60.38,\n",
       "       60.25, 60.28, 60.28, 60.25, 60.12, 60.12, 60.22, 60.22, 60.25,\n",
       "       60.25, 60.22, 60.22, 60.22, 60.22, 60.22, 60.22, 60.2 , 60.2 ,\n",
       "       60.1 , 60.  , 59.94, 59.97, 60.03, 60.03, 59.97, 59.84, 59.84,\n",
       "       59.7 , 59.7 , 59.62, 59.66, 59.66, 59.72, 59.7 , 59.7 , 59.7 ,\n",
       "       59.7 , 59.7 , 59.66, 59.66, 59.66, 59.66, 59.7 , 59.75, 59.72,\n",
       "       59.62, 59.62, 59.44, 59.5 , 59.47, 59.38, 59.34, 59.22, 59.1 ,\n",
       "       59.06, 59.1 , 59.1 , 59.1 , 59.1 , 59.1 , 59.34, 59.22, 59.2 ,\n",
       "       59.22, 59.22, 59.22, 59.22, 59.22, 59.25, 59.28, 59.3 , 59.38,\n",
       "       59.34, 59.34, 59.25, 59.34, 59.4 , 59.6 , 59.56, 59.5 , 59.53,\n",
       "       59.44, 59.47, 59.38, 59.34, 59.44, 59.44, 59.47, 59.44, 59.44,\n",
       "       59.4 , 59.44, 59.44, 59.38, 59.4 , 59.47, 59.53, 59.53, 59.44,\n",
       "       59.47, 59.47, 59.47, 59.44, 59.38, 59.22, 59.2 , 59.16, 59.16,\n",
       "       59.2 , 59.22, 59.2 , 59.16, 59.16, 59.2 , 59.12, 59.16, 59.16,\n",
       "       59.16, 59.2 , 59.16, 59.16, 59.06, 58.97, 58.97, 58.88, 58.88,\n",
       "       58.8 , 58.78, 58.78, 58.72, 58.62, 58.62], dtype=float16)"
      ]
     },
     "execution_count": 85,
     "metadata": {},
     "output_type": "execute_result"
    }
   ],
   "source": [
    "ds_y_val[1][2:]"
   ]
  },
  {
   "cell_type": "code",
   "execution_count": 88,
   "metadata": {},
   "outputs": [
    {
     "data": {
      "text/plain": [
       "array([[-0.4546 ],\n",
       "       [-0.4546 ],\n",
       "       [-0.4546 ],\n",
       "       [-0.4546 ],\n",
       "       [-0.4546 ],\n",
       "       [-0.3872 ],\n",
       "       [-0.1176 ],\n",
       "       [ 0.4893 ],\n",
       "       [ 0.287  ],\n",
       "       [ 0.1521 ],\n",
       "       [ 0.3545 ],\n",
       "       [ 0.4893 ],\n",
       "       [ 0.4219 ],\n",
       "       [ 0.894  ],\n",
       "       [ 1.163  ],\n",
       "       [ 1.163  ],\n",
       "       [ 1.365  ],\n",
       "       [ 1.23   ],\n",
       "       [ 1.298  ],\n",
       "       [ 1.365  ],\n",
       "       [ 1.972  ],\n",
       "       [ 1.904  ],\n",
       "       [ 1.635  ],\n",
       "       [ 1.635  ],\n",
       "       [ 1.702  ],\n",
       "       [ 1.635  ],\n",
       "       [ 1.702  ],\n",
       "       [ 1.635  ],\n",
       "       [ 1.702  ],\n",
       "       [ 1.837  ],\n",
       "       [ 1.837  ],\n",
       "       [ 1.5    ],\n",
       "       [ 1.567  ],\n",
       "       [ 1.567  ],\n",
       "       [ 1.77   ],\n",
       "       [ 1.635  ],\n",
       "       [ 1.365  ],\n",
       "       [ 1.433  ],\n",
       "       [ 1.433  ],\n",
       "       [ 1.365  ],\n",
       "       [ 1.096  ],\n",
       "       [ 1.096  ],\n",
       "       [ 1.298  ],\n",
       "       [ 1.298  ],\n",
       "       [ 1.365  ],\n",
       "       [ 1.365  ],\n",
       "       [ 1.298  ],\n",
       "       [ 1.298  ],\n",
       "       [ 1.298  ],\n",
       "       [ 1.298  ],\n",
       "       [ 1.298  ],\n",
       "       [ 1.298  ],\n",
       "       [ 1.23   ],\n",
       "       [ 1.23   ],\n",
       "       [ 1.028  ],\n",
       "       [ 0.8267 ],\n",
       "       [ 0.6914 ],\n",
       "       [ 0.759  ],\n",
       "       [ 0.894  ],\n",
       "       [ 0.894  ],\n",
       "       [ 0.759  ],\n",
       "       [ 0.4893 ],\n",
       "       [ 0.4893 ],\n",
       "       [ 0.1521 ],\n",
       "       [ 0.1521 ],\n",
       "       [ 0.01726],\n",
       "       [ 0.08466],\n",
       "       [ 0.08466],\n",
       "       [ 0.2195 ],\n",
       "       [ 0.1521 ],\n",
       "       [ 0.1521 ],\n",
       "       [ 0.1521 ],\n",
       "       [ 0.1521 ],\n",
       "       [ 0.1521 ],\n",
       "       [ 0.08466],\n",
       "       [ 0.08466],\n",
       "       [ 0.08466],\n",
       "       [ 0.08466],\n",
       "       [ 0.1521 ],\n",
       "       [ 0.287  ],\n",
       "       [ 0.2195 ],\n",
       "       [ 0.01726],\n",
       "       [ 0.01726],\n",
       "       [-0.3872 ],\n",
       "       [-0.2524 ],\n",
       "       [-0.3198 ],\n",
       "       [-0.522  ],\n",
       "       [-0.5894 ],\n",
       "       [-0.859  ],\n",
       "       [-1.129  ],\n",
       "       [-1.196  ],\n",
       "       [-1.129  ],\n",
       "       [-1.129  ],\n",
       "       [-1.129  ],\n",
       "       [-1.129  ],\n",
       "       [-1.129  ],\n",
       "       [-0.5894 ],\n",
       "       [-0.859  ],\n",
       "       [-0.927  ],\n",
       "       [-0.859  ],\n",
       "       [-0.859  ],\n",
       "       [-0.859  ],\n",
       "       [-0.859  ],\n",
       "       [-0.859  ],\n",
       "       [-0.7915 ],\n",
       "       [-0.724  ],\n",
       "       [-0.6567 ],\n",
       "       [-0.522  ],\n",
       "       [-0.5894 ],\n",
       "       [-0.5894 ],\n",
       "       [-0.7915 ],\n",
       "       [-0.5894 ],\n",
       "       [-0.4546 ],\n",
       "       [-0.05017],\n",
       "       [-0.1176 ],\n",
       "       [-0.2524 ],\n",
       "       [-0.185  ],\n",
       "       [-0.3872 ],\n",
       "       [-0.3198 ],\n",
       "       [-0.522  ],\n",
       "       [-0.5894 ],\n",
       "       [-0.3872 ],\n",
       "       [-0.3872 ],\n",
       "       [-0.3198 ],\n",
       "       [-0.3872 ],\n",
       "       [-0.3872 ],\n",
       "       [-0.4546 ],\n",
       "       [-0.3872 ],\n",
       "       [-0.3872 ],\n",
       "       [-0.522  ],\n",
       "       [-0.4546 ],\n",
       "       [-0.3198 ],\n",
       "       [-0.185  ],\n",
       "       [-0.185  ],\n",
       "       [-0.3872 ],\n",
       "       [-0.3198 ],\n",
       "       [-0.3198 ],\n",
       "       [-0.3198 ],\n",
       "       [-0.3872 ],\n",
       "       [-0.522  ],\n",
       "       [-0.859  ],\n",
       "       [-0.927  ],\n",
       "       [-0.994  ],\n",
       "       [-0.994  ],\n",
       "       [-0.927  ],\n",
       "       [-0.859  ],\n",
       "       [-0.927  ],\n",
       "       [-0.994  ],\n",
       "       [-0.994  ],\n",
       "       [-0.927  ],\n",
       "       [-1.062  ],\n",
       "       [-0.994  ],\n",
       "       [-0.994  ],\n",
       "       [-0.994  ],\n",
       "       [-0.927  ],\n",
       "       [-0.994  ],\n",
       "       [-0.994  ],\n",
       "       [-1.196  ],\n",
       "       [-1.399  ],\n",
       "       [-1.399  ],\n",
       "       [-1.602  ],\n",
       "       [-1.602  ],\n",
       "       [-1.736  ],\n",
       "       [-1.804  ],\n",
       "       [-1.804  ],\n",
       "       [-1.938  ],\n",
       "       [-2.14   ],\n",
       "       [-2.14   ]], dtype=float16)"
      ]
     },
     "execution_count": 88,
     "metadata": {},
     "output_type": "execute_result"
    }
   ],
   "source": [
    "x"
   ]
  },
  {
   "cell_type": "code",
   "execution_count": 89,
   "metadata": {},
   "outputs": [
    {
     "data": {
      "text/plain": [
       "[<matplotlib.lines.Line2D at 0x23611866248>]"
      ]
     },
     "execution_count": 89,
     "metadata": {},
     "output_type": "execute_result"
    },
    {
     "data": {
      "image/png": "[encoded data removed]",
      "text/plain": [
       "<Figure size 432x288 with 1 Axes>"
      ]
     },
     "metadata": {
      "needs_background": "light"
     },
     "output_type": "display_data"
    }
   ],
   "source": [
    "plt.plot(x)"
   ]
  },
  {
   "cell_type": "code",
   "execution_count": 76,
   "metadata": {},
   "outputs": [
    {
     "name": "stdout",
     "output_type": "stream",
     "text": [
      "1.0\n"
     ]
    },
    {
     "data": {
      "image/png": "[encoded data removed]",
      "text/plain": [
       "<Figure size 432x288 with 1 Axes>"
      ]
     },
     "metadata": {
      "needs_background": "light"
     },
     "output_type": "display_data"
    }
   ],
   "source": [
    "plt.plot(ds_y_test[1][2:])\n",
    "print(ds_y_test[1][0])"
   ]
  },
  {
   "cell_type": "code",
   "execution_count": 91,
   "metadata": {},
   "outputs": [],
   "source": [
    "model.save('1.h5')"
   ]
  },
  {
   "cell_type": "code",
   "execution_count": 92,
   "metadata": {},
   "outputs": [],
   "source": [
    "from keras.utils import plot_model"
   ]
  },
  {
   "cell_type": "code",
   "execution_count": 94,
   "metadata": {
    "scrolled": false
   },
   "outputs": [
    {
     "ename": "OSError",
     "evalue": "`pydot` failed to call GraphViz.Please install GraphViz (https://www.graphviz.org/) and ensure that its executables are in the $PATH.",
     "output_type": "error",
     "traceback": [
      "\u001b[1;31m---------------------------------------------------------------------------\u001b[0m",
      "\u001b[1;31mFileNotFoundError\u001b[0m                         Traceback (most recent call last)",
      "\u001b[1;32mC:\\Anaconda3\\lib\\site-packages\\pydot.py\u001b[0m in \u001b[0;36mcreate\u001b[1;34m(self, prog, format, encoding)\u001b[0m\n\u001b[0;32m   1914\u001b[0m                 \u001b[0marguments\u001b[0m\u001b[1;33m=\u001b[0m\u001b[0marguments\u001b[0m\u001b[1;33m,\u001b[0m\u001b[1;33m\u001b[0m\u001b[1;33m\u001b[0m\u001b[0m\n\u001b[1;32m-> 1915\u001b[1;33m                 \u001b[0mworking_dir\u001b[0m\u001b[1;33m=\u001b[0m\u001b[0mtmp_dir\u001b[0m\u001b[1;33m,\u001b[0m\u001b[1;33m\u001b[0m\u001b[1;33m\u001b[0m\u001b[0m\n\u001b[0m\u001b[0;32m   1916\u001b[0m             )\n",
      "\u001b[1;32mC:\\Anaconda3\\lib\\site-packages\\pydot.py\u001b[0m in \u001b[0;36mcall_graphviz\u001b[1;34m(program, arguments, working_dir, **kwargs)\u001b[0m\n\u001b[0;32m    135\u001b[0m         \u001b[0mstdout\u001b[0m\u001b[1;33m=\u001b[0m\u001b[0msubprocess\u001b[0m\u001b[1;33m.\u001b[0m\u001b[0mPIPE\u001b[0m\u001b[1;33m,\u001b[0m\u001b[1;33m\u001b[0m\u001b[1;33m\u001b[0m\u001b[0m\n\u001b[1;32m--> 136\u001b[1;33m         \u001b[1;33m**\u001b[0m\u001b[0mkwargs\u001b[0m\u001b[1;33m\u001b[0m\u001b[1;33m\u001b[0m\u001b[0m\n\u001b[0m\u001b[0;32m    137\u001b[0m     )\n",
      "\u001b[1;32mC:\\Anaconda3\\lib\\subprocess.py\u001b[0m in \u001b[0;36m__init__\u001b[1;34m(self, args, bufsize, executable, stdin, stdout, stderr, preexec_fn, close_fds, shell, cwd, env, universal_newlines, startupinfo, creationflags, restore_signals, start_new_session, pass_fds, encoding, errors, text)\u001b[0m\n\u001b[0;32m    774\u001b[0m                                 \u001b[0merrread\u001b[0m\u001b[1;33m,\u001b[0m \u001b[0merrwrite\u001b[0m\u001b[1;33m,\u001b[0m\u001b[1;33m\u001b[0m\u001b[1;33m\u001b[0m\u001b[0m\n\u001b[1;32m--> 775\u001b[1;33m                                 restore_signals, start_new_session)\n\u001b[0m\u001b[0;32m    776\u001b[0m         \u001b[1;32mexcept\u001b[0m\u001b[1;33m:\u001b[0m\u001b[1;33m\u001b[0m\u001b[1;33m\u001b[0m\u001b[0m\n",
      "\u001b[1;32mC:\\Anaconda3\\lib\\subprocess.py\u001b[0m in \u001b[0;36m_execute_child\u001b[1;34m(self, args, executable, preexec_fn, close_fds, pass_fds, cwd, env, startupinfo, creationflags, shell, p2cread, p2cwrite, c2pread, c2pwrite, errread, errwrite, unused_restore_signals, unused_start_new_session)\u001b[0m\n\u001b[0;32m   1177\u001b[0m                                          \u001b[0mos\u001b[0m\u001b[1;33m.\u001b[0m\u001b[0mfspath\u001b[0m\u001b[1;33m(\u001b[0m\u001b[0mcwd\u001b[0m\u001b[1;33m)\u001b[0m \u001b[1;32mif\u001b[0m \u001b[0mcwd\u001b[0m \u001b[1;32mis\u001b[0m \u001b[1;32mnot\u001b[0m \u001b[1;32mNone\u001b[0m \u001b[1;32melse\u001b[0m \u001b[1;32mNone\u001b[0m\u001b[1;33m,\u001b[0m\u001b[1;33m\u001b[0m\u001b[1;33m\u001b[0m\u001b[0m\n\u001b[1;32m-> 1178\u001b[1;33m                                          startupinfo)\n\u001b[0m\u001b[0;32m   1179\u001b[0m             \u001b[1;32mfinally\u001b[0m\u001b[1;33m:\u001b[0m\u001b[1;33m\u001b[0m\u001b[1;33m\u001b[0m\u001b[0m\n",
      "\u001b[1;31mFileNotFoundError\u001b[0m: [WinError 2] Не удается найти указанный файл",
      "\nDuring handling of the above exception, another exception occurred:\n",
      "\u001b[1;31mFileNotFoundError\u001b[0m                         Traceback (most recent call last)",
      "\u001b[1;32mC:\\Anaconda3\\lib\\site-packages\\keras\\utils\\vis_utils.py\u001b[0m in \u001b[0;36m_check_pydot\u001b[1;34m()\u001b[0m\n\u001b[0;32m     27\u001b[0m         \u001b[1;31m# to check the pydot/graphviz installation.\u001b[0m\u001b[1;33m\u001b[0m\u001b[1;33m\u001b[0m\u001b[1;33m\u001b[0m\u001b[0m\n\u001b[1;32m---> 28\u001b[1;33m         \u001b[0mpydot\u001b[0m\u001b[1;33m.\u001b[0m\u001b[0mDot\u001b[0m\u001b[1;33m.\u001b[0m\u001b[0mcreate\u001b[0m\u001b[1;33m(\u001b[0m\u001b[0mpydot\u001b[0m\u001b[1;33m.\u001b[0m\u001b[0mDot\u001b[0m\u001b[1;33m(\u001b[0m\u001b[1;33m)\u001b[0m\u001b[1;33m)\u001b[0m\u001b[1;33m\u001b[0m\u001b[1;33m\u001b[0m\u001b[0m\n\u001b[0m\u001b[0;32m     29\u001b[0m     \u001b[1;32mexcept\u001b[0m \u001b[0mOSError\u001b[0m\u001b[1;33m:\u001b[0m\u001b[1;33m\u001b[0m\u001b[1;33m\u001b[0m\u001b[0m\n",
      "\u001b[1;32mC:\\Anaconda3\\lib\\site-packages\\pydot.py\u001b[0m in \u001b[0;36mcreate\u001b[1;34m(self, prog, format, encoding)\u001b[0m\n\u001b[0;32m   1921\u001b[0m                     prog=prog)\n\u001b[1;32m-> 1922\u001b[1;33m                 \u001b[1;32mraise\u001b[0m \u001b[0mOSError\u001b[0m\u001b[1;33m(\u001b[0m\u001b[1;33m*\u001b[0m\u001b[0margs\u001b[0m\u001b[1;33m)\u001b[0m\u001b[1;33m\u001b[0m\u001b[1;33m\u001b[0m\u001b[0m\n\u001b[0m\u001b[0;32m   1923\u001b[0m             \u001b[1;32melse\u001b[0m\u001b[1;33m:\u001b[0m\u001b[1;33m\u001b[0m\u001b[1;33m\u001b[0m\u001b[0m\n",
      "\u001b[1;31mFileNotFoundError\u001b[0m: [WinError 2] \"dot\" not found in path.",
      "\nDuring handling of the above exception, another exception occurred:\n",
      "\u001b[1;31mOSError\u001b[0m                                   Traceback (most recent call last)",
      "\u001b[1;32m<ipython-input-94-b950b8cba428>\u001b[0m in \u001b[0;36m<module>\u001b[1;34m\u001b[0m\n\u001b[1;32m----> 1\u001b[1;33m \u001b[0mplot_model\u001b[0m\u001b[1;33m(\u001b[0m\u001b[0mmodel\u001b[0m\u001b[1;33m,\u001b[0m \u001b[0mto_file\u001b[0m\u001b[1;33m=\u001b[0m\u001b[1;34m'model.png'\u001b[0m\u001b[1;33m)\u001b[0m\u001b[1;33m\u001b[0m\u001b[1;33m\u001b[0m\u001b[0m\n\u001b[0m",
      "\u001b[1;32mC:\\Anaconda3\\lib\\site-packages\\keras\\utils\\vis_utils.py\u001b[0m in \u001b[0;36mplot_model\u001b[1;34m(model, to_file, show_shapes, show_layer_names, rankdir, expand_nested, dpi)\u001b[0m\n\u001b[0;32m    238\u001b[0m     \"\"\"\n\u001b[0;32m    239\u001b[0m     dot = model_to_dot(model, show_shapes, show_layer_names, rankdir,\n\u001b[1;32m--> 240\u001b[1;33m                        expand_nested, dpi)\n\u001b[0m\u001b[0;32m    241\u001b[0m     \u001b[0m_\u001b[0m\u001b[1;33m,\u001b[0m \u001b[0mextension\u001b[0m \u001b[1;33m=\u001b[0m \u001b[0mos\u001b[0m\u001b[1;33m.\u001b[0m\u001b[0mpath\u001b[0m\u001b[1;33m.\u001b[0m\u001b[0msplitext\u001b[0m\u001b[1;33m(\u001b[0m\u001b[0mto_file\u001b[0m\u001b[1;33m)\u001b[0m\u001b[1;33m\u001b[0m\u001b[1;33m\u001b[0m\u001b[0m\n\u001b[0;32m    242\u001b[0m     \u001b[1;32mif\u001b[0m \u001b[1;32mnot\u001b[0m \u001b[0mextension\u001b[0m\u001b[1;33m:\u001b[0m\u001b[1;33m\u001b[0m\u001b[1;33m\u001b[0m\u001b[0m\n",
      "\u001b[1;32mC:\\Anaconda3\\lib\\site-packages\\keras\\utils\\vis_utils.py\u001b[0m in \u001b[0;36mmodel_to_dot\u001b[1;34m(model, show_shapes, show_layer_names, rankdir, expand_nested, dpi, subgraph)\u001b[0m\n\u001b[0;32m     77\u001b[0m     \u001b[1;32mfrom\u001b[0m \u001b[1;33m.\u001b[0m\u001b[1;33m.\u001b[0m\u001b[0mmodels\u001b[0m \u001b[1;32mimport\u001b[0m \u001b[0mSequential\u001b[0m\u001b[1;33m\u001b[0m\u001b[1;33m\u001b[0m\u001b[0m\n\u001b[0;32m     78\u001b[0m \u001b[1;33m\u001b[0m\u001b[0m\n\u001b[1;32m---> 79\u001b[1;33m     \u001b[0m_check_pydot\u001b[0m\u001b[1;33m(\u001b[0m\u001b[1;33m)\u001b[0m\u001b[1;33m\u001b[0m\u001b[1;33m\u001b[0m\u001b[0m\n\u001b[0m\u001b[0;32m     80\u001b[0m     \u001b[1;32mif\u001b[0m \u001b[0msubgraph\u001b[0m\u001b[1;33m:\u001b[0m\u001b[1;33m\u001b[0m\u001b[1;33m\u001b[0m\u001b[0m\n\u001b[0;32m     81\u001b[0m         \u001b[0mdot\u001b[0m \u001b[1;33m=\u001b[0m \u001b[0mpydot\u001b[0m\u001b[1;33m.\u001b[0m\u001b[0mCluster\u001b[0m\u001b[1;33m(\u001b[0m\u001b[0mstyle\u001b[0m\u001b[1;33m=\u001b[0m\u001b[1;34m'dashed'\u001b[0m\u001b[1;33m,\u001b[0m \u001b[0mgraph_name\u001b[0m\u001b[1;33m=\u001b[0m\u001b[0mmodel\u001b[0m\u001b[1;33m.\u001b[0m\u001b[0mname\u001b[0m\u001b[1;33m)\u001b[0m\u001b[1;33m\u001b[0m\u001b[1;33m\u001b[0m\u001b[0m\n",
      "\u001b[1;32mC:\\Anaconda3\\lib\\site-packages\\keras\\utils\\vis_utils.py\u001b[0m in \u001b[0;36m_check_pydot\u001b[1;34m()\u001b[0m\n\u001b[0;32m     29\u001b[0m     \u001b[1;32mexcept\u001b[0m \u001b[0mOSError\u001b[0m\u001b[1;33m:\u001b[0m\u001b[1;33m\u001b[0m\u001b[1;33m\u001b[0m\u001b[0m\n\u001b[0;32m     30\u001b[0m         raise OSError(\n\u001b[1;32m---> 31\u001b[1;33m             \u001b[1;34m'`pydot` failed to call GraphViz.'\u001b[0m\u001b[1;33m\u001b[0m\u001b[1;33m\u001b[0m\u001b[0m\n\u001b[0m\u001b[0;32m     32\u001b[0m             \u001b[1;34m'Please install GraphViz (https://www.graphviz.org/) '\u001b[0m\u001b[1;33m\u001b[0m\u001b[1;33m\u001b[0m\u001b[0m\n\u001b[0;32m     33\u001b[0m             'and ensure that its executables are in the $PATH.')\n",
      "\u001b[1;31mOSError\u001b[0m: `pydot` failed to call GraphViz.Please install GraphViz (https://www.graphviz.org/) and ensure that its executables are in the $PATH."
     ]
    }
   ],
   "source": [
    "plot_model(model, to_file='model.png')"
   ]
  },
  {
   "cell_type": "code",
   "execution_count": 125,
   "metadata": {},
   "outputs": [],
   "source": [
    "x = model.layers[1].get_weights()"
   ]
  },
  {
   "cell_type": "code",
   "execution_count": 126,
   "metadata": {},
   "outputs": [
    {
     "data": {
      "text/plain": [
       "2"
      ]
     },
     "execution_count": 126,
     "metadata": {},
     "output_type": "execute_result"
    }
   ],
   "source": [
    "len(x)"
   ]
  },
  {
   "cell_type": "code",
   "execution_count": 128,
   "metadata": {},
   "outputs": [
    {
     "data": {
      "text/plain": [
       "(3000, 1000)"
      ]
     },
     "execution_count": 128,
     "metadata": {},
     "output_type": "execute_result"
    }
   ],
   "source": [
    "x[0].shape"
   ]
  },
  {
   "cell_type": "code",
   "execution_count": null,
   "metadata": {},
   "outputs": [],
   "source": []
  }
 ],
 "metadata": {
  "kernelspec": {
   "display_name": "Python 3",
   "language": "python",
   "name": "python3"
  },
  "language_info": {
   "codemirror_mode": {
    "name": "ipython",
    "version": 3
   },
   "file_extension": ".py",
   "mimetype": "text/x-python",
   "name": "python",
   "nbconvert_exporter": "python",
   "pygments_lexer": "ipython3",
   "version": "3.7.4"
  }
 },
 "nbformat": 4,
 "nbformat_minor": 4
}
