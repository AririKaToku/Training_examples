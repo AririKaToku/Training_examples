{
 "cells": [
  {
   "cell_type": "code",
   "execution_count": 1,
   "metadata": {},
   "outputs": [],
   "source": [
    "import numpy as np"
   ]
  },
  {
   "cell_type": "code",
   "execution_count": 2,
   "metadata": {},
   "outputs": [],
   "source": [
    "import pandas as pd\n",
    "import pickle"
   ]
  },
  {
   "cell_type": "code",
   "execution_count": 3,
   "metadata": {},
   "outputs": [],
   "source": [
    "usd = pd.read_csv('USD_RUB_60m.txt')\n",
    "brent = pd.read_csv('BRENT_60m.txt')\n",
    "american_finance = pd.read_csv('AMERICAN_FINANCE_60m.txt')\n",
    "rtsi = pd.read_csv('RTSI_60m.txt')"
   ]
  },
  {
   "cell_type": "code",
   "execution_count": 4,
   "metadata": {},
   "outputs": [],
   "source": [
    "rtsi_ds = rtsi[['<DATE>','<TIME>','<RTSI_HIGH>','<RTSI_LOW>']]\n",
    "usd_ds = usd[['<DATE>','<TIME>','<USD_HIGH>','<USD_LOW>']]\n",
    "brent_ds = brent[['<DATE>','<TIME>','<BRENT_HIGH>','<BRENT_LOW>']]\n",
    "american_finance_ds = american_finance[['<DATE>','<TIME>','<AF_HIGH>','<AF_LOW>']]"
   ]
  },
  {
   "cell_type": "code",
   "execution_count": 5,
   "metadata": {},
   "outputs": [],
   "source": [
    "total_ds = pd.merge(left = usd_ds, right = brent_ds, left_on=('<DATE>','<TIME>'), right_on=('<DATE>','<TIME>'), how='outer')"
   ]
  },
  {
   "cell_type": "code",
   "execution_count": 6,
   "metadata": {},
   "outputs": [],
   "source": [
    "total_ds = total_ds.merge(american_finance_ds, left_on=('<DATE>','<TIME>'), right_on=('<DATE>','<TIME>'), how = 'outer')"
   ]
  },
  {
   "cell_type": "code",
   "execution_count": 7,
   "metadata": {},
   "outputs": [],
   "source": [
    "total_ds = total_ds.merge(rtsi_ds, left_on=('<DATE>','<TIME>'), right_on=('<DATE>','<TIME>'), how='outer')"
   ]
  },
  {
   "cell_type": "code",
   "execution_count": 8,
   "metadata": {},
   "outputs": [],
   "source": [
    "import datetime"
   ]
  },
  {
   "cell_type": "code",
   "execution_count": 9,
   "metadata": {},
   "outputs": [],
   "source": [
    "total_ds['<WEEK_DAY>'] = list(map(lambda x: (datetime.datetime.strptime(str(x),'%Y%m%d').isoweekday()),total_ds['<DATE>']))"
   ]
  },
  {
   "cell_type": "code",
   "execution_count": 10,
   "metadata": {},
   "outputs": [],
   "source": [
    "total_ds['<WEEK_NUM>'] = list(map(lambda x: datetime.datetime.strptime(str(x),'%Y%m%d').isocalendar()[1], total_ds['<DATE>']))"
   ]
  },
  {
   "cell_type": "code",
   "execution_count": 11,
   "metadata": {},
   "outputs": [],
   "source": [
    "total_ds['<HOUR>'] = list(map(lambda x: int(x / 10000), total_ds['<TIME>']))"
   ]
  },
  {
   "cell_type": "code",
   "execution_count": 12,
   "metadata": {},
   "outputs": [],
   "source": [
    "total_ds['<MONTH>'] = list(map(lambda x: int(str(x)[4:6]), total_ds['<DATE>']))"
   ]
  },
  {
   "cell_type": "code",
   "execution_count": 13,
   "metadata": {},
   "outputs": [],
   "source": [
    "del total_ds['<DATE>']\n",
    "del total_ds['<TIME>']"
   ]
  },
  {
   "cell_type": "code",
   "execution_count": 14,
   "metadata": {},
   "outputs": [],
   "source": [
    "from sklearn.base import BaseEstimator, TransformerMixin"
   ]
  },
  {
   "cell_type": "code",
   "execution_count": 15,
   "metadata": {},
   "outputs": [],
   "source": [
    "class FillingFreeCellsLastValue(BaseEstimator, TransformerMixin):\n",
    "    def __init__(self, column_names):\n",
    "        self.column_names = column_names\n",
    "        return None\n",
    "    \n",
    "    def fit(self, X, y = None):\n",
    "        return self\n",
    "    \n",
    "    def transform(self, X, y = None):\n",
    "        for column in self.column_names:\n",
    "            list_ = X[column]\n",
    "            list_ = np.nan_to_num(list_, nan = 0)\n",
    "            tmp_val = np.median(list_[:100])\n",
    "            for num,element in enumerate(list_):\n",
    "                if element > 0:\n",
    "                    tmp_val = element\n",
    "                else:\n",
    "                    list_[num] = tmp_val\n",
    "            X[column] = list_\n",
    "        return X"
   ]
  },
  {
   "cell_type": "code",
   "execution_count": 16,
   "metadata": {},
   "outputs": [],
   "source": [
    "columns = ['<USD_HIGH>', '<USD_LOW>', \n",
    "           '<BRENT_HIGH>', '<BRENT_LOW>',\n",
    "           '<AF_HIGH>', '<AF_LOW>',\n",
    "           '<RTSI_HIGH>', '<RTSI_LOW>']"
   ]
  },
  {
   "cell_type": "code",
   "execution_count": 17,
   "metadata": {
    "scrolled": false
   },
   "outputs": [
    {
     "data": {
      "text/html": [
       "<div>\n",
       "<style scoped>\n",
       "    .dataframe tbody tr th:only-of-type {\n",
       "        vertical-align: middle;\n",
       "    }\n",
       "\n",
       "    .dataframe tbody tr th {\n",
       "        vertical-align: top;\n",
       "    }\n",
       "\n",
       "    .dataframe thead th {\n",
       "        text-align: right;\n",
       "    }\n",
       "</style>\n",
       "<table border=\"1\" class=\"dataframe\">\n",
       "  <thead>\n",
       "    <tr style=\"text-align: right;\">\n",
       "      <th></th>\n",
       "      <th>&lt;USD_HIGH&gt;</th>\n",
       "      <th>&lt;USD_LOW&gt;</th>\n",
       "      <th>&lt;BRENT_HIGH&gt;</th>\n",
       "      <th>&lt;BRENT_LOW&gt;</th>\n",
       "      <th>&lt;AF_HIGH&gt;</th>\n",
       "      <th>&lt;AF_LOW&gt;</th>\n",
       "      <th>&lt;RTSI_HIGH&gt;</th>\n",
       "      <th>&lt;RTSI_LOW&gt;</th>\n",
       "      <th>&lt;WEEK_DAY&gt;</th>\n",
       "      <th>&lt;WEEK_NUM&gt;</th>\n",
       "      <th>&lt;HOUR&gt;</th>\n",
       "      <th>&lt;MONTH&gt;</th>\n",
       "    </tr>\n",
       "  </thead>\n",
       "  <tbody>\n",
       "    <tr>\n",
       "      <th>0</th>\n",
       "      <td>63.6750</td>\n",
       "      <td>63.6750</td>\n",
       "      <td>48.955</td>\n",
       "      <td>48.765</td>\n",
       "      <td>249.597468</td>\n",
       "      <td>249.279047</td>\n",
       "      <td>0.00</td>\n",
       "      <td>0.00</td>\n",
       "      <td>7</td>\n",
       "      <td>44</td>\n",
       "      <td>23</td>\n",
       "      <td>11</td>\n",
       "    </tr>\n",
       "    <tr>\n",
       "      <th>1</th>\n",
       "      <td>64.0934</td>\n",
       "      <td>62.3727</td>\n",
       "      <td>48.955</td>\n",
       "      <td>48.765</td>\n",
       "      <td>249.597468</td>\n",
       "      <td>249.279047</td>\n",
       "      <td>0.00</td>\n",
       "      <td>0.00</td>\n",
       "      <td>1</td>\n",
       "      <td>45</td>\n",
       "      <td>0</td>\n",
       "      <td>11</td>\n",
       "    </tr>\n",
       "    <tr>\n",
       "      <th>2</th>\n",
       "      <td>64.5614</td>\n",
       "      <td>64.0450</td>\n",
       "      <td>48.955</td>\n",
       "      <td>48.765</td>\n",
       "      <td>246.563256</td>\n",
       "      <td>246.542204</td>\n",
       "      <td>0.00</td>\n",
       "      <td>0.00</td>\n",
       "      <td>1</td>\n",
       "      <td>45</td>\n",
       "      <td>1</td>\n",
       "      <td>11</td>\n",
       "    </tr>\n",
       "    <tr>\n",
       "      <th>3</th>\n",
       "      <td>64.5622</td>\n",
       "      <td>63.5524</td>\n",
       "      <td>48.955</td>\n",
       "      <td>48.765</td>\n",
       "      <td>246.568520</td>\n",
       "      <td>246.542204</td>\n",
       "      <td>0.00</td>\n",
       "      <td>0.00</td>\n",
       "      <td>1</td>\n",
       "      <td>45</td>\n",
       "      <td>2</td>\n",
       "      <td>11</td>\n",
       "    </tr>\n",
       "    <tr>\n",
       "      <th>4</th>\n",
       "      <td>64.5603</td>\n",
       "      <td>62.6139</td>\n",
       "      <td>49.500</td>\n",
       "      <td>49.370</td>\n",
       "      <td>246.568520</td>\n",
       "      <td>246.557993</td>\n",
       "      <td>0.00</td>\n",
       "      <td>0.00</td>\n",
       "      <td>1</td>\n",
       "      <td>45</td>\n",
       "      <td>3</td>\n",
       "      <td>11</td>\n",
       "    </tr>\n",
       "    <tr>\n",
       "      <th>...</th>\n",
       "      <td>...</td>\n",
       "      <td>...</td>\n",
       "      <td>...</td>\n",
       "      <td>...</td>\n",
       "      <td>...</td>\n",
       "      <td>...</td>\n",
       "      <td>...</td>\n",
       "      <td>...</td>\n",
       "      <td>...</td>\n",
       "      <td>...</td>\n",
       "      <td>...</td>\n",
       "      <td>...</td>\n",
       "    </tr>\n",
       "    <tr>\n",
       "      <th>28552</th>\n",
       "      <td>63.8336</td>\n",
       "      <td>63.7580</td>\n",
       "      <td>59.360</td>\n",
       "      <td>59.150</td>\n",
       "      <td>385.100154</td>\n",
       "      <td>385.073838</td>\n",
       "      <td>1069.29</td>\n",
       "      <td>1065.60</td>\n",
       "      <td>6</td>\n",
       "      <td>52</td>\n",
       "      <td>17</td>\n",
       "      <td>12</td>\n",
       "    </tr>\n",
       "    <tr>\n",
       "      <th>28553</th>\n",
       "      <td>63.8336</td>\n",
       "      <td>63.7580</td>\n",
       "      <td>59.360</td>\n",
       "      <td>59.150</td>\n",
       "      <td>385.100154</td>\n",
       "      <td>385.073838</td>\n",
       "      <td>1069.37</td>\n",
       "      <td>1066.87</td>\n",
       "      <td>6</td>\n",
       "      <td>52</td>\n",
       "      <td>18</td>\n",
       "      <td>12</td>\n",
       "    </tr>\n",
       "    <tr>\n",
       "      <th>28554</th>\n",
       "      <td>63.8336</td>\n",
       "      <td>63.7580</td>\n",
       "      <td>59.360</td>\n",
       "      <td>59.150</td>\n",
       "      <td>385.100154</td>\n",
       "      <td>385.073838</td>\n",
       "      <td>1068.72</td>\n",
       "      <td>1066.11</td>\n",
       "      <td>6</td>\n",
       "      <td>52</td>\n",
       "      <td>19</td>\n",
       "      <td>12</td>\n",
       "    </tr>\n",
       "    <tr>\n",
       "      <th>28555</th>\n",
       "      <td>63.8336</td>\n",
       "      <td>63.7580</td>\n",
       "      <td>59.360</td>\n",
       "      <td>59.150</td>\n",
       "      <td>385.100154</td>\n",
       "      <td>385.073838</td>\n",
       "      <td>1547.20</td>\n",
       "      <td>1544.07</td>\n",
       "      <td>3</td>\n",
       "      <td>52</td>\n",
       "      <td>18</td>\n",
       "      <td>12</td>\n",
       "    </tr>\n",
       "    <tr>\n",
       "      <th>28556</th>\n",
       "      <td>63.8336</td>\n",
       "      <td>63.7580</td>\n",
       "      <td>59.360</td>\n",
       "      <td>59.150</td>\n",
       "      <td>385.100154</td>\n",
       "      <td>385.073838</td>\n",
       "      <td>1544.66</td>\n",
       "      <td>1542.95</td>\n",
       "      <td>3</td>\n",
       "      <td>52</td>\n",
       "      <td>19</td>\n",
       "      <td>12</td>\n",
       "    </tr>\n",
       "  </tbody>\n",
       "</table>\n",
       "<p>28557 rows × 12 columns</p>\n",
       "</div>"
      ],
      "text/plain": [
       "       <USD_HIGH>  <USD_LOW>  <BRENT_HIGH>  <BRENT_LOW>   <AF_HIGH>  \\\n",
       "0         63.6750    63.6750        48.955       48.765  249.597468   \n",
       "1         64.0934    62.3727        48.955       48.765  249.597468   \n",
       "2         64.5614    64.0450        48.955       48.765  246.563256   \n",
       "3         64.5622    63.5524        48.955       48.765  246.568520   \n",
       "4         64.5603    62.6139        49.500       49.370  246.568520   \n",
       "...           ...        ...           ...          ...         ...   \n",
       "28552     63.8336    63.7580        59.360       59.150  385.100154   \n",
       "28553     63.8336    63.7580        59.360       59.150  385.100154   \n",
       "28554     63.8336    63.7580        59.360       59.150  385.100154   \n",
       "28555     63.8336    63.7580        59.360       59.150  385.100154   \n",
       "28556     63.8336    63.7580        59.360       59.150  385.100154   \n",
       "\n",
       "         <AF_LOW>  <RTSI_HIGH>  <RTSI_LOW>  <WEEK_DAY>  <WEEK_NUM>  <HOUR>  \\\n",
       "0      249.279047         0.00        0.00           7          44      23   \n",
       "1      249.279047         0.00        0.00           1          45       0   \n",
       "2      246.542204         0.00        0.00           1          45       1   \n",
       "3      246.542204         0.00        0.00           1          45       2   \n",
       "4      246.557993         0.00        0.00           1          45       3   \n",
       "...           ...          ...         ...         ...         ...     ...   \n",
       "28552  385.073838      1069.29     1065.60           6          52      17   \n",
       "28553  385.073838      1069.37     1066.87           6          52      18   \n",
       "28554  385.073838      1068.72     1066.11           6          52      19   \n",
       "28555  385.073838      1547.20     1544.07           3          52      18   \n",
       "28556  385.073838      1544.66     1542.95           3          52      19   \n",
       "\n",
       "       <MONTH>  \n",
       "0           11  \n",
       "1           11  \n",
       "2           11  \n",
       "3           11  \n",
       "4           11  \n",
       "...        ...  \n",
       "28552       12  \n",
       "28553       12  \n",
       "28554       12  \n",
       "28555       12  \n",
       "28556       12  \n",
       "\n",
       "[28557 rows x 12 columns]"
      ]
     },
     "execution_count": 17,
     "metadata": {},
     "output_type": "execute_result"
    }
   ],
   "source": [
    "FillingFreeCellsLastValue(columns).fit_transform(total_ds)"
   ]
  },
  {
   "cell_type": "code",
   "execution_count": 18,
   "metadata": {
    "scrolled": true
   },
   "outputs": [
    {
     "name": "stdout",
     "output_type": "stream",
     "text": [
      "<class 'pandas.core.frame.DataFrame'>\n",
      "Int64Index: 28557 entries, 0 to 28556\n",
      "Data columns (total 12 columns):\n",
      " #   Column        Non-Null Count  Dtype  \n",
      "---  ------        --------------  -----  \n",
      " 0   <USD_HIGH>    28557 non-null  float64\n",
      " 1   <USD_LOW>     28557 non-null  float64\n",
      " 2   <BRENT_HIGH>  28557 non-null  float64\n",
      " 3   <BRENT_LOW>   28557 non-null  float64\n",
      " 4   <AF_HIGH>     28557 non-null  float64\n",
      " 5   <AF_LOW>      28557 non-null  float64\n",
      " 6   <RTSI_HIGH>   28557 non-null  float64\n",
      " 7   <RTSI_LOW>    28557 non-null  float64\n",
      " 8   <WEEK_DAY>    28557 non-null  int64  \n",
      " 9   <WEEK_NUM>    28557 non-null  int64  \n",
      " 10  <HOUR>        28557 non-null  int64  \n",
      " 11  <MONTH>       28557 non-null  int64  \n",
      "dtypes: float64(8), int64(4)\n",
      "memory usage: 2.8 MB\n"
     ]
    }
   ],
   "source": [
    "total_ds.info()"
   ]
  },
  {
   "cell_type": "code",
   "execution_count": 99,
   "metadata": {},
   "outputs": [],
   "source": [
    "train_data = np.array(total_ds)\n",
    "\n",
    "ds_x = []\n",
    "ds_y = []\n",
    "days_hist= 30\n",
    "days_predict = 5\n",
    "hours_in_day = 24\n",
    "num_history_values = hours_in_day * days_hist\n",
    "num_predicted_value = hours_in_day * days_predict\n",
    "\n",
    "\n",
    "for num, line in enumerate(train_data[:-(num_history_values+num_predicted_value)]):\n",
    "    ds_x.append(train_data[num:num+num_history_values].reshape((train_data[num:num+num_history_values].size)))\n",
    "for line in train_data[num_history_values+num_predicted_value:]:\n",
    "    ds_y.append(line[0])"
   ]
  },
  {
   "cell_type": "code",
   "execution_count": 100,
   "metadata": {
    "scrolled": false
   },
   "outputs": [],
   "source": [
    "ds_x = np.asarray(ds_x, dtype = np.float16)\n",
    "ds_y = np.asarray(ds_y, dtype = np.float16).reshape(-1,1)"
   ]
  },
  {
   "cell_type": "code",
   "execution_count": 101,
   "metadata": {},
   "outputs": [],
   "source": [
    "idx = np.array(range(len(ds_y)))"
   ]
  },
  {
   "cell_type": "code",
   "execution_count": 102,
   "metadata": {},
   "outputs": [],
   "source": [
    "np.random.shuffle(idx)"
   ]
  },
  {
   "cell_type": "code",
   "execution_count": 103,
   "metadata": {},
   "outputs": [],
   "source": [
    "ds_x = ds_x[idx]\n",
    "ds_y = ds_y[idx]"
   ]
  },
  {
   "cell_type": "code",
   "execution_count": 104,
   "metadata": {},
   "outputs": [
    {
     "data": {
      "text/plain": [
       "(27717, 8640)"
      ]
     },
     "execution_count": 104,
     "metadata": {},
     "output_type": "execute_result"
    }
   ],
   "source": [
    "ds_x.shape"
   ]
  },
  {
   "cell_type": "code",
   "execution_count": 105,
   "metadata": {},
   "outputs": [],
   "source": [
    "from sklearn.model_selection import train_test_split"
   ]
  },
  {
   "cell_type": "code",
   "execution_count": 106,
   "metadata": {},
   "outputs": [],
   "source": [
    "ds_x_train, ds_x_test, ds_y_train, ds_y_test =  train_test_split(ds_x, ds_y, test_size = 0.2, random_state = 42)"
   ]
  },
  {
   "cell_type": "code",
   "execution_count": 97,
   "metadata": {},
   "outputs": [],
   "source": [
    "from sklearn.linear_model import LinearRegression\n",
    "from sklearn.tree import DecisionTreeRegressor\n",
    "from sklearn.neighbors import KNeighborsRegressor\n",
    "from sklearn.ensemble import RandomForestRegressor\n",
    "from sklearn.neural_network import MLPRegressor\n",
    "from sklearn.gaussian_process import GaussianProcessRegressor\n",
    "from sklearn.tree import DecisionTreeRegressor"
   ]
  },
  {
   "cell_type": "code",
   "execution_count": 28,
   "metadata": {},
   "outputs": [],
   "source": [
    "linreg = LinearRegression(n_jobs = -1)\n",
    "dtreg = DecisionTreeRegressor(max_depth = 100)\n",
    "knreg = KNeighborsRegressor(n_neighbors=10, n_jobs = -1)\n",
    "rfr = RandomForestRegressor(n_estimators=20, max_depth=40, n_jobs = -1)\n",
    "mlpreg = MLPRegressor()"
   ]
  },
  {
   "cell_type": "code",
   "execution_count": 29,
   "metadata": {},
   "outputs": [],
   "source": [
    "from sklearn.metrics import mean_squared_error"
   ]
  },
  {
   "cell_type": "code",
   "execution_count": 30,
   "metadata": {
    "scrolled": true
   },
   "outputs": [
    {
     "name": "stdout",
     "output_type": "stream",
     "text": [
      "finish LinearRegression\n",
      "finish DecisionTreeRegressor\n",
      "finish KNeighborsRegressor\n"
     ]
    },
    {
     "name": "stderr",
     "output_type": "stream",
     "text": [
      "C:\\Anaconda3\\lib\\site-packages\\ipykernel_launcher.py:6: DataConversionWarning: A column-vector y was passed when a 1d array was expected. Please change the shape of y to (n_samples,), for example using ravel().\n",
      "  \n"
     ]
    },
    {
     "name": "stdout",
     "output_type": "stream",
     "text": [
      "finish RandomForestRegressor\n"
     ]
    },
    {
     "name": "stderr",
     "output_type": "stream",
     "text": [
      "C:\\Anaconda3\\lib\\site-packages\\sklearn\\neural_network\\_multilayer_perceptron.py:1342: DataConversionWarning: A column-vector y was passed when a 1d array was expected. Please change the shape of y to (n_samples, ), for example using ravel().\n",
      "  y = column_or_1d(y, warn=True)\n"
     ]
    },
    {
     "name": "stdout",
     "output_type": "stream",
     "text": [
      "finish MLPRegressor\n"
     ]
    }
   ],
   "source": [
    "estimators = [linreg, dtreg, knreg, rfr, mlpreg]\n",
    "names = []\n",
    "scores = []\n",
    "for estimator in estimators:\n",
    "    names.append(str(estimator).split(sep = '(')[0])\n",
    "    estimator.fit(ds_x_train,ds_y_train)\n",
    "    scores.append(mean_squared_error(ds_y_train, estimator.predict(ds_x_train), squared = False))\n",
    "    print('finish',str(estimator).split(sep = '(')[0])"
   ]
  },
  {
   "cell_type": "code",
   "execution_count": 31,
   "metadata": {},
   "outputs": [
    {
     "name": "stdout",
     "output_type": "stream",
     "text": [
      "LinearRegression 0.81239223\n",
      "DecisionTreeRegressor 0.0\n",
      "KNeighborsRegressor 0.1951\n",
      "RandomForestRegressor 0.06840592896863298\n",
      "MLPRegressor 1.3824468270387607\n"
     ]
    }
   ],
   "source": [
    "for name,score in zip(names,scores):\n",
    "    print(name,score)"
   ]
  },
  {
   "cell_type": "code",
   "execution_count": 32,
   "metadata": {},
   "outputs": [],
   "source": [
    "from sklearn.model_selection import cross_val_score"
   ]
  },
  {
   "cell_type": "code",
   "execution_count": 33,
   "metadata": {},
   "outputs": [
    {
     "name": "stdout",
     "output_type": "stream",
     "text": [
      "0.7060490537301616\n"
     ]
    }
   ],
   "source": [
    "print(min(cross_val_score(linreg, ds_x_train, ds_y_train, cv=10, scoring='r2', n_jobs = -1)))"
   ]
  },
  {
   "cell_type": "code",
   "execution_count": 34,
   "metadata": {},
   "outputs": [
    {
     "name": "stdout",
     "output_type": "stream",
     "text": [
      "0.994713935672962\n"
     ]
    }
   ],
   "source": [
    "print(min(cross_val_score(knreg, ds_x_train[:40000], ds_y_train[:40000], cv=5, scoring='r2', n_jobs = -1)))"
   ]
  },
  {
   "cell_type": "code",
   "execution_count": 35,
   "metadata": {},
   "outputs": [
    {
     "name": "stdout",
     "output_type": "stream",
     "text": [
      "0.9954493146319627\n"
     ]
    }
   ],
   "source": [
    "print(min(cross_val_score(dtreg, ds_x_train[:40000], ds_y_train[:40000], cv=5, scoring='r2', n_jobs = -1)))"
   ]
  },
  {
   "cell_type": "code",
   "execution_count": 36,
   "metadata": {},
   "outputs": [
    {
     "name": "stdout",
     "output_type": "stream",
     "text": [
      "0.9983601617293658\n"
     ]
    }
   ],
   "source": [
    "print(min(cross_val_score(rfr, ds_x_train[:40000], ds_y_train[:40000], cv=5, scoring='r2', n_jobs = -1)))"
   ]
  },
  {
   "cell_type": "code",
   "execution_count": 37,
   "metadata": {},
   "outputs": [],
   "source": [
    "knreg.fit(ds_x_train,ds_y_train)\n",
    "predicted_values_knreg = knreg.predict(ds_x_test)"
   ]
  },
  {
   "cell_type": "code",
   "execution_count": 42,
   "metadata": {},
   "outputs": [],
   "source": [
    "filename = 'finalized_model_kneighbours_regressor.sav'\n",
    "pickle.dump(knreg, open(filename, 'wb'))"
   ]
  },
  {
   "cell_type": "code",
   "execution_count": 38,
   "metadata": {},
   "outputs": [],
   "source": [
    "dtreg.fit(ds_x_train,ds_y_train)\n",
    "predicted_values_dtreg = dtreg.predict(ds_x_test)"
   ]
  },
  {
   "cell_type": "code",
   "execution_count": 43,
   "metadata": {},
   "outputs": [],
   "source": [
    "filename = 'finalized_model_dec_tree_regressor.sav'\n",
    "pickle.dump(dtreg, open(filename, 'wb'))"
   ]
  },
  {
   "cell_type": "code",
   "execution_count": 39,
   "metadata": {},
   "outputs": [
    {
     "name": "stderr",
     "output_type": "stream",
     "text": [
      "C:\\Anaconda3\\lib\\site-packages\\sklearn\\neural_network\\_multilayer_perceptron.py:1342: DataConversionWarning: A column-vector y was passed when a 1d array was expected. Please change the shape of y to (n_samples, ), for example using ravel().\n",
      "  y = column_or_1d(y, warn=True)\n"
     ]
    }
   ],
   "source": [
    "mlpreg.fit(ds_x_train,ds_y_train)\n",
    "predicted_values_mlp = mlpreg.predict(ds_x_test)"
   ]
  },
  {
   "cell_type": "code",
   "execution_count": 44,
   "metadata": {},
   "outputs": [],
   "source": [
    "filename = 'finalized_model_mlp_regressor.sav'\n",
    "pickle.dump(mlpreg, open(filename, 'wb'))"
   ]
  },
  {
   "cell_type": "code",
   "execution_count": 40,
   "metadata": {},
   "outputs": [
    {
     "name": "stderr",
     "output_type": "stream",
     "text": [
      "C:\\Anaconda3\\lib\\site-packages\\ipykernel_launcher.py:1: DataConversionWarning: A column-vector y was passed when a 1d array was expected. Please change the shape of y to (n_samples,), for example using ravel().\n",
      "  \"\"\"Entry point for launching an IPython kernel.\n"
     ]
    }
   ],
   "source": [
    "rfr.fit(ds_x_train,ds_y_train)\n",
    "predicted_values_rfr = rfr.predict(ds_x_test)"
   ]
  },
  {
   "cell_type": "code",
   "execution_count": 45,
   "metadata": {},
   "outputs": [],
   "source": [
    "filename = 'finalized_model_rend_forest_regressor.sav'\n",
    "pickle.dump(rfr, open(filename, 'wb'))"
   ]
  },
  {
   "cell_type": "markdown",
   "metadata": {},
   "source": [
    "kneighbours predictions - blue,\n",
    "decision tree prediction - green"
   ]
  },
  {
   "cell_type": "code",
   "execution_count": 46,
   "metadata": {},
   "outputs": [],
   "source": [
    "import matplotlib.pyplot as plt"
   ]
  },
  {
   "cell_type": "code",
   "execution_count": 86,
   "metadata": {
    "scrolled": false
   },
   "outputs": [
    {
     "data": {
      "text/plain": [
       "<matplotlib.collections.PathCollection at 0x2264555c488>"
      ]
     },
     "execution_count": 86,
     "metadata": {},
     "output_type": "execute_result"
    },
    {
     "data": {
      "image/png": "[encoded data removed]",
      "text/plain": [
       "<Figure size 1440x576 with 1 Axes>"
      ]
     },
     "metadata": {
      "needs_background": "light"
     },
     "output_type": "display_data"
    }
   ],
   "source": [
    "number = 2006\n",
    "combination = ds_x_test[number].reshape(num_history_values,-1)[:,1]\n",
    "length = len(combination)\n",
    "plt.figure(figsize=(20,8))\n",
    "plt.ylim(50,90)\n",
    "plt.xlim(0,1500)\n",
    "plt.scatter(range(length),combination,s=0.1)\n",
    "shift = num_predicted_value\n",
    "plt.scatter(shift+length, ds_y_train[number],s=20, color = 'red')\n",
    "plt.scatter(shift+length+5, predicted_values_knreg[number],s=20, color = 'blue')\n",
    "plt.scatter(shift+length+10, predicted_values_dtreg[number],s=20, color = 'green')\n",
    "plt.scatter(shift+length-10, predicted_values_mlp[number],s=20, color = 'yellow')\n",
    "plt.scatter(shift+length-5, predicted_values_rfr[number],s=20, color = 'black')"
   ]
  },
  {
   "cell_type": "code",
   "execution_count": 61,
   "metadata": {},
   "outputs": [
    {
     "data": {
      "text/plain": [
       "720"
      ]
     },
     "execution_count": 61,
     "metadata": {},
     "output_type": "execute_result"
    }
   ],
   "source": [
    "length+num_predicted_value"
   ]
  },
  {
   "cell_type": "code",
   "execution_count": 58,
   "metadata": {
    "scrolled": true
   },
   "outputs": [
    {
     "data": {
      "text/plain": [
       "array([62.84, 62.84, 62.8 , 62.75, 62.75, 62.8 , 62.72, 62.84, 62.84,\n",
       "       62.78, 62.66, 62.62, 62.62, 62.66, 62.53, 62.6 , 62.56, 62.53,\n",
       "       62.62, 62.66, 62.72, 62.6 , 62.6 , 62.62, 62.66, 62.7 , 62.72,\n",
       "       62.7 , 62.75, 62.75, 62.8 , 62.8 , 62.8 , 62.75, 62.9 , 62.8 ,\n",
       "       62.84, 62.8 , 62.9 , 62.94, 62.97, 62.97, 62.97, 62.94, 62.97,\n",
       "       63.  , 62.94, 62.94, 63.06, 62.97, 63.06, 63.1 , 63.16, 63.25,\n",
       "       63.38, 63.38, 63.4 , 63.4 , 63.34, 63.38, 63.4 , 63.38, 63.38,\n",
       "       63.34, 63.34, 63.38, 63.34, 63.34, 63.1 , 63.12, 63.1 , 63.16,\n",
       "       63.12, 63.1 , 63.03, 63.06, 63.12, 63.12, 63.12, 63.16, 63.16,\n",
       "       63.12, 63.03, 63.1 , 63.12, 63.12, 63.12, 63.  , 63.  , 63.03,\n",
       "       63.1 , 63.06, 62.94, 62.94, 63.16, 63.2 , 63.16, 63.2 , 63.22,\n",
       "       63.2 , 63.2 , 63.2 , 63.22, 63.2 , 63.22, 63.16, 63.16, 63.25,\n",
       "       63.3 , 63.3 , 63.3 , 63.3 , 63.3 , 63.28, 63.22, 63.16, 63.1 ,\n",
       "       63.06, 63.2 , 63.12, 63.12, 62.97, 62.88, 62.97, 63.  , 62.97,\n",
       "       63.  , 63.  , 63.  , 63.03, 63.03, 63.1 , 63.1 , 63.12, 63.1 ,\n",
       "       63.2 , 63.2 , 63.22, 63.12, 63.12, 63.  , 63.03, 63.06, 63.1 ,\n",
       "       63.12, 63.12, 62.9 , 62.97, 62.9 , 62.84, 62.9 , 62.9 , 62.94,\n",
       "       62.94, 62.88, 62.94, 62.97, 62.94, 62.94, 62.94, 62.88, 62.9 ,\n",
       "       62.84, 62.88, 62.88, 62.88, 62.9 , 62.9 , 62.9 , 62.9 , 62.8 ,\n",
       "       62.7 , 62.75, 62.7 , 62.72, 62.7 , 62.62, 62.6 , 62.66, 62.62,\n",
       "       62.56, 62.5 , 62.47, 62.4 , 62.38, 62.3 , 62.06, 62.28, 61.75,\n",
       "       61.78, 62.4 , 62.44, 62.44, 62.47, 62.4 , 62.03, 62.3 , 62.34,\n",
       "       62.38, 62.4 , 62.44, 62.44, 62.22, 62.06, 61.78, 61.84, 61.72,\n",
       "       61.66, 61.6 , 61.6 , 61.75, 61.75, 61.7 , 61.66, 61.78, 61.88,\n",
       "       61.9 , 61.97, 61.9 , 61.9 , 61.9 , 62.  , 62.1 , 61.97, 61.88,\n",
       "       61.78, 61.6 , 61.6 , 61.75, 61.88, 62.06, 62.22, 62.25, 62.22,\n",
       "       62.34, 62.28, 62.3 , 62.3 , 62.3 , 62.28, 62.3 , 62.28, 62.25,\n",
       "       62.2 , 62.03, 62.06, 62.  , 62.03, 62.06, 61.88, 61.94, 61.88,\n",
       "       61.97, 62.03, 62.12, 62.2 , 62.2 , 62.2 , 62.2 , 62.22, 62.22,\n",
       "       62.22, 62.25, 62.25, 62.22, 62.22, 62.16, 62.16, 62.16, 62.2 ,\n",
       "       62.2 , 62.16, 62.2 , 62.16, 62.16, 62.  , 62.  , 62.12, 62.47,\n",
       "       62.4 , 62.4 , 62.44, 62.56, 62.56, 62.56, 62.56, 62.56, 62.5 ,\n",
       "       62.34, 62.28, 62.22, 62.3 , 62.38, 62.4 , 62.44, 62.44, 62.44,\n",
       "       62.44, 62.28, 62.06, 62.1 , 62.03, 62.12, 62.1 , 62.16, 62.16,\n",
       "       62.2 , 62.2 , 62.22, 62.22, 62.2 , 62.2 , 62.2 , 62.3 , 62.3 ,\n",
       "       62.28, 62.2 , 62.22, 62.28, 62.2 , 62.22, 62.22, 62.34, 62.34,\n",
       "       62.34, 62.38, 62.44, 62.47, 62.4 , 62.4 , 62.4 , 62.34, 62.4 ,\n",
       "       62.4 , 62.44, 62.5 , 62.5 , 62.6 , 62.6 , 62.6 , 62.62, 62.62,\n",
       "       62.62, 62.62, 62.6 , 62.66, 62.62, 62.7 , 62.8 , 62.88, 62.97,\n",
       "       62.94, 63.03, 63.  , 62.97, 62.94, 62.9 , 62.88, 62.9 , 62.94,\n",
       "       62.9 , 63.  , 63.  , 62.97, 62.97, 63.  , 63.  , 63.03, 62.97,\n",
       "       62.97, 62.94, 63.  , 63.2 , 63.3 , 63.34, 63.4 , 63.38, 63.28,\n",
       "       63.28, 63.38, 63.53, 63.38, 63.44, 63.53, 63.6 , 63.6 , 63.6 ,\n",
       "       63.6 , 63.6 , 63.56, 63.7 , 63.66, 63.72, 63.56, 63.53, 63.38,\n",
       "       63.3 , 63.3 , 63.3 , 63.4 , 63.22, 63.28, 63.38, 63.44, 63.47,\n",
       "       63.5 , 63.44, 63.44, 62.75, 62.53, 63.47, 63.4 , 63.34, 63.34,\n",
       "       63.38, 63.38, 63.38, 63.4 , 63.44, 63.44, 63.4 , 63.34, 63.12,\n",
       "       63.06, 62.94, 62.94, 62.97, 62.97, 63.  , 63.06, 63.  , 63.  ,\n",
       "       63.03, 63.  , 63.  , 62.97, 63.03, 63.03, 63.03, 62.94, 62.84,\n",
       "       62.84, 62.84, 62.94, 62.94, 62.9 , 62.94, 62.78, 62.8 , 62.72,\n",
       "       62.62, 62.66, 62.66, 62.62, 62.6 , 62.66, 62.66, 63.1 , 63.16,\n",
       "       63.25, 63.25, 63.28, 63.28, 63.3 , 63.34, 63.28, 63.28, 63.28,\n",
       "       63.28, 63.25, 63.06, 62.97, 62.94, 62.75, 62.8 , 62.8 , 62.84,\n",
       "       62.8 , 62.88, 62.9 , 62.9 , 62.9 , 62.94, 62.84, 62.56, 62.72,\n",
       "       62.75, 62.78, 62.78, 62.78, 62.78, 62.78, 62.78, 62.75, 62.75,\n",
       "       62.84, 62.84, 62.88, 62.9 , 62.94, 62.9 , 62.84, 62.88, 62.78,\n",
       "       62.78, 62.78, 62.84, 62.84, 62.88, 62.94, 62.94, 62.9 , 62.88,\n",
       "       62.88, 62.88, 62.84, 62.84, 62.84, 62.84, 62.88, 62.9 , 62.9 ,\n",
       "       62.9 , 62.9 , 62.84, 62.72, 62.6 , 62.62, 62.66, 62.75, 62.75,\n",
       "       62.72, 62.16, 62.62, 62.78, 62.75, 62.75, 62.75, 62.72, 62.66,\n",
       "       62.66, 62.66, 62.66, 62.66, 62.66, 62.8 , 62.84, 62.84, 62.9 ,\n",
       "       62.2 , 62.7 , 62.66, 62.56, 62.6 , 62.38, 62.34, 62.16, 62.22,\n",
       "       62.16, 62.12, 62.2 , 62.2 , 62.22, 62.22, 62.22, 62.22, 62.22,\n",
       "       62.2 , 62.2 , 62.2 , 62.2 , 62.22, 62.12, 62.2 , 62.22, 62.25,\n",
       "       62.22, 62.28, 62.3 , 62.28, 62.3 , 62.3 , 62.25, 62.16, 62.28,\n",
       "       62.34, 62.4 , 62.12, 62.44, 62.4 , 62.44, 62.47, 62.6 , 62.56,\n",
       "       62.53, 62.56, 62.56, 62.5 , 62.44, 62.5 , 62.56, 62.6 , 62.62,\n",
       "       62.75, 62.75, 62.75, 62.78, 62.84, 62.97, 62.94, 62.94, 62.9 ,\n",
       "       62.88, 62.88, 62.88, 62.9 , 62.94, 62.94, 62.94, 62.94, 62.94,\n",
       "       62.9 , 63.  , 63.  , 63.06, 63.22, 63.16, 63.12, 63.12, 63.25,\n",
       "       63.28, 63.3 , 63.38, 63.38, 63.34, 63.3 , 63.3 , 63.3 , 63.3 ,\n",
       "       63.3 , 63.28, 63.28, 63.3 , 63.28, 63.28, 63.28, 63.3 , 63.34,\n",
       "       63.34, 63.38, 63.16, 63.16, 63.22, 63.1 , 63.12, 63.16, 63.22,\n",
       "       63.22, 63.2 , 63.28, 63.3 , 63.3 , 63.3 , 63.3 , 63.3 , 63.16,\n",
       "       63.3 , 63.3 , 63.22, 63.3 , 63.3 , 63.34, 63.3 , 63.3 , 63.3 ,\n",
       "       63.28, 63.28, 63.34, 63.44, 63.44, 63.47, 63.56, 63.56, 63.62,\n",
       "       63.6 , 63.6 , 63.56, 63.56, 63.66, 63.7 , 63.7 , 63.62, 63.62,\n",
       "       63.62, 63.62, 63.62, 63.7 , 63.56, 63.6 , 63.56, 63.53, 63.44,\n",
       "       63.34, 63.38, 63.38, 63.4 , 63.3 , 63.38, 63.38, 63.34, 63.4 ,\n",
       "       63.44, 63.47, 63.44, 63.47, 63.5 , 63.5 , 63.5 , 63.5 , 63.5 ],\n",
       "      dtype=float16)"
      ]
     },
     "execution_count": 58,
     "metadata": {},
     "output_type": "execute_result"
    }
   ],
   "source": [
    "ds_x_test[1].reshape(num_history_values,-1)[:,1]"
   ]
  },
  {
   "cell_type": "code",
   "execution_count": null,
   "metadata": {},
   "outputs": [],
   "source": []
  },
  {
   "cell_type": "code",
   "execution_count": null,
   "metadata": {},
   "outputs": [],
   "source": []
  }
 ],
 "metadata": {
  "kernelspec": {
   "display_name": "Python 3",
   "language": "python",
   "name": "python3"
  },
  "language_info": {
   "codemirror_mode": {
    "name": "ipython",
    "version": 3
   },
   "file_extension": ".py",
   "mimetype": "text/x-python",
   "name": "python",
   "nbconvert_exporter": "python",
   "pygments_lexer": "ipython3",
   "version": "3.7.4"
  }
 },
 "nbformat": 4,
 "nbformat_minor": 2
}
